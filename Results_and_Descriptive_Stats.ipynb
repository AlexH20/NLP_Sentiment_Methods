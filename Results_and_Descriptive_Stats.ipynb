{
  "cells": [
    {
      "cell_type": "markdown",
      "metadata": {
        "id": "view-in-github",
        "colab_type": "text"
      },
      "source": [
        "<a href=\"https://colab.research.google.com/github/AlexH20/Supervised-ML-sentiment-measures/blob/main/Results_and_Descriptive_Stats.ipynb\" target=\"_parent\"><img src=\"https://colab.research.google.com/assets/colab-badge.svg\" alt=\"Open In Colab\"/></a>"
      ]
    },
    {
      "cell_type": "markdown",
      "metadata": {
        "id": "eNcHCHjlgCG4"
      },
      "source": [
        "# Descriptive statistics"
      ]
    },
    {
      "cell_type": "code",
      "execution_count": 2,
      "metadata": {
        "id": "Ms-_xC3b_zSD"
      },
      "outputs": [],
      "source": [
        "%%capture\n",
        "!pip install tabulate\n",
        "!pip install pysentiment2\n",
        "!pip install linearmodels\n",
        "!pip install stargazer\n",
        "\n",
        "import pandas as pd\n",
        "pd.options.mode.chained_assignment = None \n",
        "import pysentiment2 as ps\n",
        "from google.colab import drive \n",
        "from tabulate import tabulate\n",
        "import re\n",
        "import matplotlib.pyplot as plt\n",
        "import numpy as np\n",
        "import matplotlib.dates as md\n",
        "import statsmodels.api as sm\n",
        "from linearmodels.panel import PooledOLS\n",
        "import statsmodels.api as sm\n",
        "from stargazer.stargazer import Stargazer\n",
        "\n",
        "pd.set_option('display.expand_frame_repr', False)\n",
        "drive.mount(\"/content/gdrive\")"
      ]
    },
    {
      "cell_type": "code",
      "execution_count": 22,
      "metadata": {
        "id": "98rI7lzCncRF"
      },
      "outputs": [],
      "source": [
        "#Data DM methods\n",
        "data_dm = pd.read_csv(\"gdrive/My Drive/Thesis/processed data/CAR_regression/datasets_final/data_whole_woScAR_dm.csv\")\n",
        "data_dm[\"Date\"] = pd.to_datetime(data_dm[\"Date\"], format = \"%Y-%m-%d\")\n",
        "data_dm[\"Date\"] = pd.to_datetime(data_dm[\"Date\"])\n",
        "data_dm[\"Year\"] = [x.year for x in data_dm[\"Date\"]]\n",
        "data_dm[\"Month\"] = [x.month for x in data_dm[\"Date\"]]\n",
        "data_dm[\"ordered_month\"] = [((x[1][\"Year\"]-2015)*12 + x[1][\"Month\"]) for x in data_dm.iterrows()]\n",
        "data_dm = data_dm[~data_dm[\"ordered_month\"].isin([0,1,2,3])]\n",
        "data_dm = data_dm.fillna(0)\n",
        "\n",
        "#Data RF\n",
        "data_rf = pd.read_csv(\"gdrive/My Drive/Thesis/processed data/CAR_regression/datasets_final/data_whole_woScAR_RF.csv\")\n",
        "data_rf[\"Date\"] = pd.to_datetime(data_rf[\"Date\"])\n",
        "data_rf[\"Year\"] = [x.year for x in data_rf[\"Date\"]]\n",
        "data_rf[\"Month\"] = [x.month for x in data_rf[\"Date\"]]\n",
        "data_rf[\"ordered_month\"] = [((x[1][\"Year\"]-2015)*12 + x[1][\"Month\"]) for x in data_rf.iterrows()]\n",
        "data_rf = data_rf[~data_rf[\"Year\"].isin([2019])]\n",
        "data_rf = data_rf[~data_rf[\"ordered_month\"].isin([0,1,2,3])]\n",
        "\n",
        "#Data BERT\n",
        "data_BERT = pd.read_csv(\"gdrive/My Drive/Thesis/processed data/CAR_regression/datasets_final/data_whole_woScAR_BERT.csv\")\n",
        "data_BERT[\"Date\"] = pd.to_datetime(data_BERT[\"Date\"])\n",
        "data_BERT[\"Year\"] = [x.year for x in data_BERT[\"Date\"]]\n",
        "data_BERT[\"Month\"] = [x.month for x in data_BERT[\"Date\"]]\n",
        "data_BERT[\"ordered_month\"] = [((x[1][\"Year\"]-2015)*12 + x[1][\"Month\"]) for x in data_BERT.iterrows()]\n",
        "data_BERT = data_BERT[~data_BERT[\"ordered_month\"].isin([0,1,2,3])]"
      ]
    },
    {
      "cell_type": "markdown",
      "metadata": {
        "id": "Y-tygwICQ_ug"
      },
      "source": [
        "Here are the results of the panel data regression:"
      ]
    },
    {
      "cell_type": "code",
      "source": [
        "data_rf_acc = data_rf[data_rf[\"AR_RF\"] != 0]\n",
        "acc_rf = (data_rf_acc[\"AR_dummy\"] == data_rf_acc[\"AR_RF\"]).sum() / len(data_rf_acc[\"AR_dummy\"])\n",
        "data_BERT_acc = data_BERT[data_BERT[\"AR_BERT\"] != 0]\n",
        "acc_BERT = (data_BERT_acc[\"AR_dummy\"] == data_BERT_acc[\"AR_BERT\"]).sum() / len(data_BERT_acc[\"AR_dummy\"])\n",
        "print(\"Accuracy of RF: {}\".format(acc_rf))\n",
        "print(\"Accuracy of BERT: {}\".format(acc_BERT))"
      ],
      "metadata": {
        "colab": {
          "base_uri": "https://localhost:8080/"
        },
        "id": "64GJCiaJb-yi",
        "outputId": "4fa5b71f-6773-4763-d647-c49324cd8e8f"
      },
      "execution_count": 24,
      "outputs": [
        {
          "output_type": "stream",
          "name": "stdout",
          "text": [
            "Accuracy of RF: 0.5065336394137383\n",
            "Accuracy of BERT: 0.5029743589743589\n"
          ]
        }
      ]
    },
    {
      "cell_type": "code",
      "execution_count": 27,
      "metadata": {
        "colab": {
          "base_uri": "https://localhost:8080/"
        },
        "id": "2QzX6rfuRQd9",
        "outputId": "0b2d272b-6ccb-4568-d3f2-feffc26466dd"
      },
      "outputs": [
        {
          "output_type": "stream",
          "name": "stdout",
          "text": [
            "                            OLS Regression Results                            \n",
            "==============================================================================\n",
            "Dep. Variable:                     AR   R-squared:                       0.000\n",
            "Model:                            OLS   Adj. R-squared:                  0.000\n",
            "Method:                 Least Squares   F-statistic:                     5.415\n",
            "Date:                Thu, 09 Jun 2022   Prob (F-statistic):           1.31e-05\n",
            "Time:                        22:23:05   Log-Likelihood:             3.2094e+05\n",
            "No. Observations:              120897   AIC:                        -6.419e+05\n",
            "Df Residuals:                  120890   BIC:                        -6.418e+05\n",
            "Df Model:                           6                                         \n",
            "Covariance Type:            nonrobust                                         \n",
            "==============================================================================\n",
            "                 coef    std err          t      P>|t|      [0.025      0.975]\n",
            "------------------------------------------------------------------------------\n",
            "const         -0.0019      0.002     -0.841      0.400      -0.006       0.003\n",
            "Nasdaq         0.0003      0.000      2.884      0.004    9.41e-05       0.000\n",
            "Turnover   -3.134e-06   3.21e-05     -0.098      0.922    -6.6e-05    5.97e-05\n",
            "Size           0.0017      0.002      0.796      0.426      -0.002       0.006\n",
            "BTM         1.909e-05   3.28e-05      0.581      0.561   -4.53e-05    8.35e-05\n",
            "pref_alpha     0.0718      0.041      1.742      0.082      -0.009       0.153\n",
            "HIV4_tone      0.0010      0.000      4.075      0.000       0.001       0.002\n",
            "==============================================================================\n",
            "Omnibus:                    37073.981   Durbin-Watson:                   1.969\n",
            "Prob(Omnibus):                  0.000   Jarque-Bera (JB):          5916020.975\n",
            "Skew:                           0.265   Prob(JB):                         0.00\n",
            "Kurtosis:                      37.266   Cond. No.                     2.55e+03\n",
            "==============================================================================\n",
            "\n",
            "Notes:\n",
            "[1] Standard Errors assume that the covariance matrix of the errors is correctly specified.\n",
            "[2] The condition number is large, 2.55e+03. This might indicate that there are\n",
            "strong multicollinearity or other numerical problems.\n",
            "                            OLS Regression Results                            \n",
            "==============================================================================\n",
            "Dep. Variable:                     AR   R-squared:                       0.001\n",
            "Model:                            OLS   Adj. R-squared:                  0.001\n",
            "Method:                 Least Squares   F-statistic:                     13.08\n",
            "Date:                Thu, 09 Jun 2022   Prob (F-statistic):           7.37e-15\n",
            "Time:                        22:23:06   Log-Likelihood:             3.2096e+05\n",
            "No. Observations:              120897   AIC:                        -6.419e+05\n",
            "Df Residuals:                  120890   BIC:                        -6.418e+05\n",
            "Df Model:                           6                                         \n",
            "Covariance Type:            nonrobust                                         \n",
            "==============================================================================\n",
            "                 coef    std err          t      P>|t|      [0.025      0.975]\n",
            "------------------------------------------------------------------------------\n",
            "const         -0.0034      0.002     -1.536      0.125      -0.008       0.001\n",
            "Nasdaq         0.0003      0.000      2.757      0.006    8.12e-05       0.000\n",
            "Turnover    1.033e-05   3.19e-05      0.323      0.746   -5.23e-05    7.29e-05\n",
            "Size           0.0032      0.002      1.547      0.122      -0.001       0.007\n",
            "BTM         2.111e-05   3.28e-05      0.643      0.520   -4.33e-05    8.55e-05\n",
            "pref_alpha     0.0567      0.041      1.374      0.169      -0.024       0.138\n",
            "LM_tone        0.0017      0.000      7.913      0.000       0.001       0.002\n",
            "==============================================================================\n",
            "Omnibus:                    37198.587   Durbin-Watson:                   1.969\n",
            "Prob(Omnibus):                  0.000   Jarque-Bera (JB):          5912649.945\n",
            "Skew:                           0.277   Prob(JB):                         0.00\n",
            "Kurtosis:                      37.256   Cond. No.                     2.55e+03\n",
            "==============================================================================\n",
            "\n",
            "Notes:\n",
            "[1] Standard Errors assume that the covariance matrix of the errors is correctly specified.\n",
            "[2] The condition number is large, 2.55e+03. This might indicate that there are\n",
            "strong multicollinearity or other numerical problems.\n",
            "                            OLS Regression Results                            \n",
            "==============================================================================\n",
            "Dep. Variable:                     AR   R-squared:                       0.000\n",
            "Model:                            OLS   Adj. R-squared:                  0.000\n",
            "Method:                 Least Squares   F-statistic:                     5.089\n",
            "Date:                Thu, 09 Jun 2022   Prob (F-statistic):           3.12e-05\n",
            "Time:                        22:23:06   Log-Likelihood:             2.5408e+05\n",
            "No. Observations:               95675   AIC:                        -5.081e+05\n",
            "Df Residuals:                   95668   BIC:                        -5.081e+05\n",
            "Df Model:                           6                                         \n",
            "Covariance Type:            nonrobust                                         \n",
            "==============================================================================\n",
            "                 coef    std err          t      P>|t|      [0.025      0.975]\n",
            "------------------------------------------------------------------------------\n",
            "const          0.0006      0.003      0.238      0.812      -0.004       0.006\n",
            "Nasdaq         0.0003      0.000      2.891      0.004       0.000       0.001\n",
            "Turnover   -4.566e-05   3.67e-05     -1.243      0.214      -0.000    2.63e-05\n",
            "Size          -0.0005      0.002     -0.228      0.819      -0.005       0.004\n",
            "BTM         2.225e-05   3.54e-05      0.628      0.530   -4.72e-05    9.17e-05\n",
            "pref_alpha     0.1393      0.046      3.015      0.003       0.049       0.230\n",
            "AR_RF          0.0003      0.000      2.869      0.004       0.000       0.001\n",
            "==============================================================================\n",
            "Omnibus:                    31685.492   Durbin-Watson:                   1.972\n",
            "Prob(Omnibus):                  0.000   Jarque-Bera (JB):          4640304.507\n",
            "Skew:                           0.492   Prob(JB):                         0.00\n",
            "Kurtosis:                      37.104   Cond. No.                     2.52e+03\n",
            "==============================================================================\n",
            "\n",
            "Notes:\n",
            "[1] Standard Errors assume that the covariance matrix of the errors is correctly specified.\n",
            "[2] The condition number is large, 2.52e+03. This might indicate that there are\n",
            "strong multicollinearity or other numerical problems.\n",
            "                            OLS Regression Results                            \n",
            "==============================================================================\n",
            "Dep. Variable:                     AR   R-squared:                       0.000\n",
            "Model:                            OLS   Adj. R-squared:                  0.000\n",
            "Method:                 Least Squares   F-statistic:                     3.009\n",
            "Date:                Thu, 09 Jun 2022   Prob (F-statistic):            0.00610\n",
            "Time:                        22:23:06   Log-Likelihood:             3.2158e+05\n",
            "No. Observations:              121203   AIC:                        -6.432e+05\n",
            "Df Residuals:                  121196   BIC:                        -6.431e+05\n",
            "Df Model:                           6                                         \n",
            "Covariance Type:            nonrobust                                         \n",
            "==============================================================================\n",
            "                 coef    std err          t      P>|t|      [0.025      0.975]\n",
            "------------------------------------------------------------------------------\n",
            "const         -0.0029      0.002     -1.279      0.201      -0.007       0.002\n",
            "Nasdaq         0.0003      0.000      2.953      0.003       0.000       0.001\n",
            "Turnover    5.263e-06    3.2e-05      0.165      0.869   -5.74e-05    6.79e-05\n",
            "Size           0.0027      0.002      1.276      0.202      -0.001       0.007\n",
            "BTM         1.692e-05   3.29e-05      0.515      0.607   -4.75e-05    8.14e-05\n",
            "pref_alpha     0.0792      0.041      1.921      0.055      -0.002       0.160\n",
            "AR_BERT        0.0001   9.98e-05      1.258      0.208   -7.01e-05       0.000\n",
            "==============================================================================\n",
            "Omnibus:                    37178.240   Durbin-Watson:                   1.958\n",
            "Prob(Omnibus):                  0.000   Jarque-Bera (JB):          5868588.646\n",
            "Skew:                           0.272   Prob(JB):                         0.00\n",
            "Kurtosis:                      37.085   Cond. No.                     2.55e+03\n",
            "==============================================================================\n",
            "\n",
            "Notes:\n",
            "[1] Standard Errors assume that the covariance matrix of the errors is correctly specified.\n",
            "[2] The condition number is large, 2.55e+03. This might indicate that there are\n",
            "strong multicollinearity or other numerical problems.\n"
          ]
        }
      ],
      "source": [
        "data_dm[\"Size\"] = np.log(data_dm[\"Size\"])\n",
        "data_rf[\"Size\"] = np.log(data_rf[\"Size\"])\n",
        "data_BERT[\"Size\"] = np.log(data_BERT[\"Size\"])\n",
        "\n",
        "#HIV dictionary \n",
        "\n",
        "endg_var = \"AR\"\n",
        "exog_var = [\"Nasdaq\",\"Turnover\",\"Size\",\"BTM\",\"pref_alpha\", \"HIV4_tone\"]\n",
        "\n",
        "pooled_y = data_dm[endg_var]\n",
        "pooled_x = data_dm[exog_var]\n",
        "\n",
        "pooled_x = sm.add_constant(pooled_x)\n",
        "\n",
        "pooled_olsr_model_hiv4 = sm.OLS(endog=pooled_y, exog=pooled_x)\n",
        "pooled_olsr_model_results_hiv4 = pooled_olsr_model_hiv4.fit()\n",
        "print(pooled_olsr_model_results_hiv4.summary())\n",
        "\n",
        "\n",
        "#LM dictionary\n",
        "\n",
        "endg_var = \"AR\"\n",
        "exog_var = [\"Nasdaq\",\"Turnover\",\"Size\",\"BTM\",\"pref_alpha\", \"LM_tone\"]\n",
        "\n",
        "pooled_y = data_dm[endg_var]\n",
        "pooled_x = data_dm[exog_var]\n",
        "\n",
        "pooled_x = sm.add_constant(pooled_x)\n",
        "\n",
        "pooled_olsr_model_lm = sm.OLS(endog=pooled_y, exog=pooled_x)\n",
        "pooled_olsr_model_results_lm = pooled_olsr_model_lm.fit()\n",
        "print(pooled_olsr_model_results_lm.summary())\n",
        "\n",
        "#RF\n",
        "\n",
        "endg_var = \"AR\"\n",
        "exog_var = [\"Nasdaq\",\"Turnover\",\"Size\",\"BTM\",\"pref_alpha\", \"AR_RF\"]\n",
        "\n",
        "pooled_y = data_rf[endg_var]\n",
        "pooled_x = data_rf[exog_var]\n",
        "\n",
        "pooled_x = sm.add_constant(pooled_x)\n",
        "\n",
        "pooled_olsr_model_rf = sm.OLS(endog=pooled_y, exog=pooled_x)\n",
        "pooled_olsr_model_results_rf = pooled_olsr_model_rf.fit()\n",
        "print(pooled_olsr_model_results_rf.summary())\n",
        "\n",
        "#BERT\n",
        "\n",
        "endg_var = \"AR\"\n",
        "exog_var = [\"Nasdaq\",\"Turnover\",\"Size\",\"BTM\",\"pref_alpha\", \"AR_BERT\"]\n",
        "\n",
        "pooled_y = data_BERT[endg_var]\n",
        "pooled_x = data_BERT[exog_var]\n",
        "\n",
        "pooled_x = sm.add_constant(pooled_x)\n",
        "\n",
        "pooled_olsr_model_BERT = sm.OLS(endog=pooled_y, exog=pooled_x)\n",
        "pooled_olsr_model_results_BERT = pooled_olsr_model_BERT.fit()\n",
        "print(pooled_olsr_model_results_BERT.summary())\n",
        "\n",
        "\n",
        "\n"
      ]
    }
  ],
  "metadata": {
    "colab": {
      "collapsed_sections": [],
      "name": "Results and Descriptive Stats.ipynb",
      "provenance": [],
      "authorship_tag": "ABX9TyO8Jt34Irc85XQLIAQbHi4b",
      "include_colab_link": true
    },
    "kernelspec": {
      "display_name": "Python 3",
      "name": "python3"
    },
    "language_info": {
      "name": "python"
    }
  },
  "nbformat": 4,
  "nbformat_minor": 0
}