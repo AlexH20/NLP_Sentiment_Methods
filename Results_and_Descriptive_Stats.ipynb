{
  "cells": [
    {
      "cell_type": "markdown",
      "metadata": {
        "id": "view-in-github",
        "colab_type": "text"
      },
      "source": [
        "<a href=\"https://colab.research.google.com/github/AlexH20/Supervised-ML-sentiment-measures/blob/main/Results_and_Descriptive_Stats.ipynb\" target=\"_parent\"><img src=\"https://colab.research.google.com/assets/colab-badge.svg\" alt=\"Open In Colab\"/></a>"
      ]
    },
    {
      "cell_type": "markdown",
      "metadata": {
        "id": "eNcHCHjlgCG4"
      },
      "source": [
        "# Descriptive statistics"
      ]
    },
    {
      "cell_type": "code",
      "execution_count": 1,
      "metadata": {
        "id": "Ms-_xC3b_zSD"
      },
      "outputs": [],
      "source": [
        "%%capture\n",
        "!pip install tabulate\n",
        "!pip install pysentiment2\n",
        "!pip install linearmodels\n",
        "!pip install stargazer\n",
        "\n",
        "import pandas as pd\n",
        "pd.options.mode.chained_assignment = None \n",
        "import pysentiment2 as ps\n",
        "from google.colab import drive \n",
        "from tabulate import tabulate\n",
        "import re\n",
        "import matplotlib.pyplot as plt\n",
        "import numpy as np\n",
        "import matplotlib.dates as md\n",
        "import statsmodels.api as sm\n",
        "from linearmodels.panel import PooledOLS\n",
        "import statsmodels.api as sm\n",
        "from stargazer.stargazer import Stargazer\n",
        "from sklearn.metrics import mean_squared_error\n",
        "\n",
        "pd.set_option('display.expand_frame_repr', False)\n",
        "drive.mount(\"/content/gdrive\")\n",
        "\n",
        "def count_words(Text):\n",
        "    word_count = len(re.findall(r'\\w+', Text))\n",
        "    return word_count\n",
        "\n",
        "#Function to split initial dataframe into dataframes grouped by year\n",
        "def split_years(dt):\n",
        "    dt[\"Year\"] = dt[\"Date\"].dt.year\n",
        "    return [dt[dt[\"Year\"] == y] for y in dt[\"Year\"].unique()]"
      ]
    },
    {
      "cell_type": "code",
      "execution_count": 14,
      "metadata": {
        "id": "98rI7lzCncRF"
      },
      "outputs": [],
      "source": [
        "\"\"\"\n",
        "#Data raw\n",
        "data = pd.read_csv(\"gdrive/My Drive/Thesis/processed data/processdata_woSWandPS.csv\")\n",
        "data[\"Date\"] = pd.to_datetime(data[\"Date\"], format = \"%Y-%m-%d\")\n",
        "data[\"Word Count\"] = [count_words(x) for x in data.Text]\n",
        "\n",
        "#Data without sentiment measures\n",
        "data_final = pd.read_csv(\"gdrive/My Drive/Thesis/processed data/CAR_regression/datasets_final/data_whole_woScAR.csv\")\n",
        "data_final_ot = data_final[data_final.word_count != 0]\n",
        "data_final_ot[\"Date\"] = pd.to_datetime(data_final_ot[\"Date\"], format = \"%Y-%m-%d\")\n",
        "\"\"\"\n",
        "#Data DM methods\n",
        "data_dm = pd.read_csv(\"gdrive/My Drive/Thesis/processed data/CAR_regression/datasets_final/data_whole_woScAR_dm.csv\")\n",
        "data_dm[\"Date\"] = pd.to_datetime(data_dm[\"Date\"], format = \"%Y-%m-%d\")\n",
        "data_dm[\"Date\"] = pd.to_datetime(data_dm[\"Date\"])\n",
        "data_dm[\"Year\"] = [x.year for x in data_dm[\"Date\"]]\n",
        "data_dm[\"Month\"] = [x.month for x in data_dm[\"Date\"]]\n",
        "data_dm[\"ordered_month\"] = [((x[1][\"Year\"]-2015)*12 + x[1][\"Month\"]) for x in data_dm.iterrows()]\n",
        "data_dm = data_dm[~data_dm[\"ordered_month\"].isin([0,1,2,3,56,57,58,59,60])]\n",
        "data_dm = data_dm.fillna(0)\n",
        "\n",
        "#Data RF with one- and two-grams\n",
        "data_rf_12 = pd.read_csv(\"gdrive/My Drive/Thesis/processed data/CAR_regression/datasets_final/data_whole_woScAR_RF12.csv\", index_col = False)\n",
        "data_rf_12[\"Date\"] = pd.to_datetime(data_rf_12[\"Date\"])\n",
        "data_rf_12[\"Year\"] = [x.year for x in data_rf_12[\"Date\"]]\n",
        "data_rf_12[\"Month\"] = [x.month for x in data_rf_12[\"Date\"]]\n",
        "data_rf_12[\"ordered_month\"] = [((x[1][\"Year\"]-2015)*12 + x[1][\"Month\"]) for x in data_rf_12.iterrows()]\n",
        "data_rf_12 = data_rf_12[~data_rf_12[\"ordered_month\"].isin([0,1,2,3,56,57,58,59,60])]\n",
        "data_rf_12 = data_rf_12.fillna(0)\n",
        "\n",
        "#Data RF with FinBERT as encoder\n",
        "data_rf_Fin = pd.read_csv(\"gdrive/My Drive/Thesis/processed data/CAR_regression/datasets_final/data_whole_woScAR_RFFin.csv\")\n",
        "data_rf_Fin[\"Date\"] = pd.to_datetime(data_rf_Fin[\"Date\"])\n",
        "data_rf_Fin[\"Year\"] = [x.year for x in data_rf_Fin[\"Date\"]]\n",
        "data_rf_Fin[\"Month\"] = [x.month for x in data_rf_Fin[\"Date\"]]\n",
        "data_rf_Fin[\"ordered_month\"] = [((x[1][\"Year\"]-2015)*12 + x[1][\"Month\"]) for x in data_rf_Fin.iterrows()]\n",
        "data_rf_Fin = data_rf_Fin[~data_rf_Fin[\"ordered_month\"].isin([0,1,2,3,56,57,58,59,60])]\n",
        "data_rf_Fin = data_rf_Fin.fillna(0)\n",
        "\n",
        "#Data FinBERT as encoder + NN\n",
        "data_Fin = pd.read_csv(\"gdrive/My Drive/Thesis/processed data/CAR_regression/datasets_final/data_whole_woScAR_FinNN.csv\")\n",
        "data_Fin[\"Date\"] = pd.to_datetime(data_Fin[\"Date\"])\n",
        "data_Fin[\"Year\"] = [x.year for x in data_Fin[\"Date\"]]\n",
        "data_Fin[\"Month\"] = [x.month for x in data_Fin[\"Date\"]]\n",
        "data_Fin[\"ordered_month\"] = [((x[1][\"Year\"]-2015)*12 + x[1][\"Month\"]) for x in data_Fin.iterrows()]\n",
        "data_Fin = data_Fin[~data_Fin[\"ordered_month\"].isin([0,1,2,3,56,57,58,59,60])]\n",
        "data_Fin = data_Fin.fillna(0)\n",
        "\n",
        "#Fama French Factors\n",
        "data_ff = pd.read_csv(\"gdrive/My Drive/Thesis/processed data/CAR_regression/datasets_final/famafrenchfactors.csv\")\n",
        "data_ff[\"Date\"] = pd.to_datetime(data_ff[\"date\"], format = \"%Y%m%d\")\n",
        "data_ff.drop(\"date\", axis = 1, inplace = True)\n",
        "\n",
        "#Merge every dataframe with sentiment measures\n",
        "data_full = data_dm\n",
        "data_full[\"AR RF12\"] = data_rf_12[\"AR_RF\"]\n",
        "data_full[\"AR RFFin\"] = data_rf_Fin[\"AR_RFFin\"]\n",
        "data_full[\"AR FinNN\"] = data_Fin[\"AR_FinNN\"]\n",
        "data_full[\"ln(Size)\"] = np.log(data_full[\"Size\"])\n",
        "data_full.rename({\"Return\":\"r\", \"HIV4_tone\":\"HIV4 Tone\", \"LM_tone\":\"LM Tone\"}, axis = 1,inplace = True)\n",
        "data_full = data_full.merge(data_ff, how= \"left\", left_on= [\"Date\"], right_on = [\"Date\"])\n",
        "data_full[\"r_rf\"] = data_full[\"r\"] - data_full[\"rf\"]"
      ]
    },
    {
      "cell_type": "markdown",
      "source": [
        "**Descriptive Statistics of raw dataset:**"
      ],
      "metadata": {
        "id": "_7A39VDBFHi7"
      }
    },
    {
      "cell_type": "code",
      "source": [
        "data_splt_years = split_years(data)\n",
        "data_fill = []\n",
        "\n",
        "for df_year_splt in data_splt_years:\n",
        "    year = df_year_splt[\"Date\"].iloc[0].year\n",
        "    obs_count = len(df_year_splt)\n",
        "    mean_word_count = round(df_year_splt[\"Word Count\"].mean(),0)\n",
        "    company_count = df_year_splt[\"Ticker\"].nunique()\n",
        "\n",
        "    data_fill.append([year, obs_count, mean_word_count, company_count])\n",
        "\n",
        "#Calculate the metrics for the whole dataset\n",
        "obs_count = len(data)\n",
        "mean_word_count = round(data[\"Word Count\"].mean(),0)\n",
        "company_count = data[\"Ticker\"].nunique()\n",
        "\n",
        "data_fill.append([\"All years\", obs_count, mean_word_count, company_count])\n",
        "\n",
        "df_by_year = pd.DataFrame(data_fill ,columns = [\"Year\", \"News Articles\", \"Mean Word Count\", \"Company Count\"])\n",
        "\n",
        "print(tabulate(df_by_year, headers = \"keys\", tablefmt = \"psql\"))"
      ],
      "metadata": {
        "colab": {
          "base_uri": "https://localhost:8080/"
        },
        "id": "jPESXC8pEbHr",
        "outputId": "d5333610-669d-483c-a20a-c01a2eaed2df"
      },
      "execution_count": 3,
      "outputs": [
        {
          "output_type": "stream",
          "name": "stdout",
          "text": [
            "+----+-----------+-----------------+-------------------+-----------------+\n",
            "|    | Year      |   News Articles |   Mean Word Count |   Company Count |\n",
            "|----+-----------+-----------------+-------------------+-----------------|\n",
            "|  0 | 2009      |             111 |               849 |              70 |\n",
            "|  1 | 2010      |            2792 |               434 |             865 |\n",
            "|  2 | 2011      |            4277 |               460 |            1001 |\n",
            "|  3 | 2012      |           10261 |               335 |            2279 |\n",
            "|  4 | 2013      |           13143 |               275 |            3076 |\n",
            "|  5 | 2014      |           26234 |               293 |            3997 |\n",
            "|  6 | 2015      |           35458 |               344 |            4312 |\n",
            "|  7 | 2016      |           36569 |               384 |            4261 |\n",
            "|  8 | 2017      |           39630 |               479 |            4188 |\n",
            "|  9 | 2018      |           77086 |               670 |            5195 |\n",
            "| 10 | 2019      |           66122 |              1215 |            4839 |\n",
            "| 11 | All years |          311683 |               626 |            6926 |\n",
            "+----+-----------+-----------------+-------------------+-----------------+\n"
          ]
        }
      ]
    },
    {
      "cell_type": "markdown",
      "source": [
        "**Extract Top 100 companies w.r.t news frequency in years 2015 till 2019:**"
      ],
      "metadata": {
        "id": "HyBQ-kfmFwwO"
      }
    },
    {
      "cell_type": "code",
      "source": [
        "#Get top 120 companies with regards to news frequency (later only top 100, since some will be removed like SPX)\n",
        "\n",
        "yearst = [2015, 2016, 2017, 2018, 2019]\n",
        "\n",
        "data = data[data.Year.isin(yearst) == True]\n",
        "unique_data_company =  data.groupby(\"Ticker\").nunique()\n",
        "\n",
        "unique_data_company.sort_values(by = \"Text\", ascending = False, inplace = True)\n",
        "\n",
        "print(list(unique_data_company.index[0:120]))"
      ],
      "metadata": {
        "colab": {
          "base_uri": "https://localhost:8080/"
        },
        "id": "XCcEb07pFuyc",
        "outputId": "8727b51c-61de-4e0f-9c58-75e1a0dcc459"
      },
      "execution_count": 4,
      "outputs": [
        {
          "output_type": "stream",
          "name": "stdout",
          "text": [
            "['AAPL', 'AMZN', 'TSLA', 'FB', 'BA', 'NFLX', 'DIS', 'EFX', 'SPX', 'BAC', 'INTC', 'DAX', 'F', 'GLD', 'GE', 'GM', 'MSFT', 'SBUX', 'AIR', 'AAL', 'IBM', 'JPM', 'CMG', 'WFC', 'C', 'TWTR', 'WMT', 'MCD', 'AMD', 'NVDA', 'JNJ', 'GS', 'BABA', 'CAT', 'MU', 'CSCO', 'XOM', 'CVX', 'BP', 'GOOGL', 'USD', 'GPRO', 'COST', 'QQQ', 'HD', 'SQ', 'NKE', 'KO', 'TGT', 'AXP', 'ATVI', 'CMCSA', 'SNAP', 'DAL', 'LMT', 'T', 'ABBV', 'PFE', 'ADBE', 'GILD', 'CRM', 'VZ', 'AVGO', 'BX', 'LULU', 'BLK', 'FIT', 'KMI', 'BBY', 'UNH', 'AGI', 'AA', 'PG', 'AMAT', 'M', 'MRK', 'BIDU', 'QCOM', 'JCP', 'FDX', 'AMGN', 'BMY', 'ORCL', 'PYPL', 'BHP', 'MA', 'FRA', 'KR', 'SHOP', 'MO', 'PM', 'GME', 'CHK', 'VRX', 'ABX', 'MMM', 'COP', 'BBBY', 'UTX', 'IRBT', 'MS', 'SPY', 'FCX', 'HAL', 'AGN', 'UAL', 'HPQ', 'JWN', 'CVS', 'CELG', 'EA', 'STZ', 'V', 'APC', 'AZN', 'EBAY', 'ACN', 'ADP', 'GLW', 'PEP']\n"
          ]
        }
      ]
    },
    {
      "cell_type": "markdown",
      "source": [
        "**Descriptive statistics of final dataset:**"
      ],
      "metadata": {
        "id": "c7s3jT2tGOK-"
      }
    },
    {
      "cell_type": "code",
      "source": [
        "#Descriptive statistics of final dataset \n",
        "data_splt_years = split_years(data_final_ot)\n",
        "data_fill = []\n",
        "\n",
        "for df_year_splt in data_splt_years:\n",
        "    year = df_year_splt[\"Date\"].iloc[0].year\n",
        "    obs_count = len(df_year_splt)\n",
        "    mean_word_count = round(df_year_splt[\"word_count\"].mean(),0)\n",
        "    company_count = df_year_splt[\"Ticker\"].nunique()\n",
        "\n",
        "    data_fill.append([year, obs_count, mean_word_count, company_count])\n",
        "\n",
        "#Calculate the metrics for the whole dataset\n",
        "obs_count = len(data_final_ot)\n",
        "mean_word_count = round(data_final_ot[\"word_count\"].mean(),0)\n",
        "company_count = data_final_ot[\"Ticker\"].nunique()\n",
        "\n",
        "data_fill.append([\"All years\", obs_count, mean_word_count, company_count])\n",
        "\n",
        "df_by_year = pd.DataFrame(data_fill ,columns = [\"Year\", \"News Articles (post-merge)\", \"Mean Word Count\", \"Company Count\"])\n",
        "\n",
        "print(tabulate(df_by_year, headers = \"keys\", tablefmt = \"psql\"))"
      ],
      "metadata": {
        "colab": {
          "base_uri": "https://localhost:8080/"
        },
        "id": "J7z5WnBJF7t6",
        "outputId": "cd049401-ada1-4fe9-83ea-2c7355c03c93"
      },
      "execution_count": null,
      "outputs": [
        {
          "output_type": "stream",
          "name": "stdout",
          "text": [
            "+----+-----------+------------------------------+-------------------+-----------------+\n",
            "|    | Year      |   News Articles (post-merge) |   Mean Word Count |   Company Count |\n",
            "|----+-----------+------------------------------+-------------------+-----------------|\n",
            "|  0 | 2015      |                         4403 |               822 |             100 |\n",
            "|  1 | 2016      |                         5415 |               839 |             100 |\n",
            "|  2 | 2017      |                         5775 |               921 |             100 |\n",
            "|  3 | 2018      |                         8516 |              1353 |             100 |\n",
            "|  4 | 2019      |                         6476 |              1401 |             100 |\n",
            "|  5 | All years |                        30585 |              1114 |             100 |\n",
            "+----+-----------+------------------------------+-------------------+-----------------+\n"
          ]
        }
      ]
    },
    {
      "cell_type": "markdown",
      "source": [
        "**Sample description variables:**"
      ],
      "metadata": {
        "id": "RkCDEPb1N4fQ"
      }
    },
    {
      "cell_type": "code",
      "source": [
        "data_full_des = data_full[[\"r\", \"rf\", \"mktrf\", \"smb\", \"hml\", \"Nasdaq\", \"Turnover\", \"Size\", \"BTM\", \"HIV4 Tone\", \"LM Tone\", \"AR\", \"AR RF12\", \"AR RFFin\", \"AR FinNN\"]]\n",
        "des_table = data_full_des.describe().loc[[\"mean\", \"std\", \"25%\", \"50%\", \"75%\"]]\n",
        "print(des_table.T)"
      ],
      "metadata": {
        "colab": {
          "base_uri": "https://localhost:8080/"
        },
        "id": "3IalG5NvOBHW",
        "outputId": "b17d4655-8532-489e-d041-1bdb018ecfd8"
      },
      "execution_count": 15,
      "outputs": [
        {
          "output_type": "stream",
          "name": "stdout",
          "text": [
            "                   mean           std           25%           50%           75%\n",
            "r          4.970856e-04  1.924447e-02 -7.437180e-03  6.473575e-04  8.803862e-03\n",
            "rf         3.825848e-05  3.467147e-05  1.000000e-05  3.000000e-05  7.000000e-05\n",
            "mktrf      4.082493e-04  8.662284e-03 -3.000000e-03  5.000000e-04  4.900000e-03\n",
            "smb       -1.002750e-04  5.092307e-03 -3.400000e-03 -2.000000e-04  3.100000e-03\n",
            "hml       -1.347388e-04  5.519331e-03 -3.600000e-03 -4.000000e-04  3.000000e-03\n",
            "Nasdaq     4.653465e-01  4.988000e-01  0.000000e+00  0.000000e+00  1.000000e+00\n",
            "Turnover   1.865919e+00  1.948006e+00  7.614874e-01  1.179941e+00  2.037917e+00\n",
            "Size       1.142643e+08  1.318154e+08  2.762116e+07  7.524095e+07  1.629465e+08\n",
            "BTM        5.253756e-01  1.569613e+00  1.234271e-01  2.570894e-01  4.910447e-01\n",
            "HIV4 Tone  9.886655e-02  1.998711e-01  0.000000e+00  0.000000e+00  0.000000e+00\n",
            "LM Tone   -1.339437e-02  2.352117e-01  0.000000e+00  0.000000e+00  0.000000e+00\n",
            "AR         1.048959e-04  1.699707e-02 -6.553000e-03  5.300000e-05  6.702500e-03\n",
            "AR RF12    9.182496e-05  2.201137e-03  0.000000e+00  0.000000e+00  0.000000e+00\n",
            "AR RFFin   7.434919e-05  3.936548e-03  0.000000e+00  0.000000e+00  0.000000e+00\n",
            "AR FinNN  -1.472919e-02  7.646141e-02  0.000000e+00  0.000000e+00  0.000000e+00\n"
          ]
        }
      ]
    },
    {
      "cell_type": "markdown",
      "source": [
        "**Correlation Matrix of sentiment measures:**"
      ],
      "metadata": {
        "id": "86he7r26PIM7"
      }
    },
    {
      "cell_type": "code",
      "source": [
        "data_full_cor = data_full[[\"HIV4 Tone\", \"LM Tone\", \"AR RF12\", \"AR RFFin\", \"AR FinNN\"]]\n",
        "corr_matrix = data_full_cor.corr()\n",
        "print(corr_matrix)"
      ],
      "metadata": {
        "id": "Sta3eeDzOql2",
        "colab": {
          "base_uri": "https://localhost:8080/"
        },
        "outputId": "49c65aef-def4-452a-9b24-4ecb315e80bf"
      },
      "execution_count": 16,
      "outputs": [
        {
          "output_type": "stream",
          "name": "stdout",
          "text": [
            "           HIV4 Tone   LM Tone   AR RF12  AR RFFin  AR FinNN\n",
            "HIV4 Tone   1.000000  0.159351  0.064661  0.025172 -0.269292\n",
            "LM Tone     0.159351  1.000000  0.011613  0.001629 -0.002597\n",
            "AR RF12     0.064661  0.011613  1.000000  0.005716 -0.016207\n",
            "AR RFFin    0.025172  0.001629  0.005716  1.000000  0.005601\n",
            "AR FinNN   -0.269292 -0.002597 -0.016207  0.005601  1.000000\n"
          ]
        }
      ]
    },
    {
      "cell_type": "markdown",
      "source": [
        "**Dictionary Methods Comparison: AAPL 2015 Q2**"
      ],
      "metadata": {
        "id": "FwqxGJ1TIF9m"
      }
    },
    {
      "cell_type": "code",
      "source": [
        "data_dm_aapl = data_full.loc[data_full[\"Ticker\"].isin([\"AAPL\"])]\n",
        "data_dm_aapl[\"Date\"] = pd.to_datetime(data_dm_aapl[\"Date\"], format = \"%Y-%m-%d\")\n",
        "data_dm_aapl = data_dm_aapl[data_dm_aapl[\"ordered_month\"].isin([4,5,6])]\n",
        "\n",
        "sentiment_measures = [\"HIV4 Tone\", \"LM Tone\"]\n",
        "colors = {\"HIV4 Tone\":\"black\", \"LM Tone\":\"green\"}\n",
        "\n",
        "fig1, ax1 = plt.subplots(figsize = (10, 10))\n",
        "\n",
        "for sentiment in sentiment_measures:\n",
        "  ax1.plot(data_dm_aapl[\"Date\"], data_dm_aapl[sentiment], c = colors[sentiment],label = sentiment)\n",
        "\n",
        "plt.grid()\n",
        "plt.title(\"Comparing DM sentiment measures of AAPL over time\")\n",
        "plt.xlabel(\"Date\", size=12)\n",
        "plt.ylabel(\"Sentiment\", size=12)\n",
        "plt.legend(loc = 4)"
      ],
      "metadata": {
        "colab": {
          "base_uri": "https://localhost:8080/",
          "height": 643
        },
        "id": "__NkDYgEGb48",
        "outputId": "9e8f6d2a-208c-4610-f327-417bb557850f"
      },
      "execution_count": 8,
      "outputs": [
        {
          "output_type": "execute_result",
          "data": {
            "text/plain": [
              "<matplotlib.legend.Legend at 0x7f54db6fab90>"
            ]
          },
          "metadata": {},
          "execution_count": 8
        },
        {
          "output_type": "display_data",
          "data": {
            "text/plain": [
              "<Figure size 720x720 with 1 Axes>"
            ],
            "image/png": "[encoded data removed]"
          },
          "metadata": {
            "needs_background": "light"
          }
        }
      ]
    },
    {
      "cell_type": "markdown",
      "source": [
        "**Supervised Machine Learning Methods Comparison: AAPL 2015 Q2**"
      ],
      "metadata": {
        "id": "VY-EEqI3IdK6"
      }
    },
    {
      "cell_type": "code",
      "source": [
        "data_sml_aapl = data_full.loc[data_full[\"Ticker\"].isin([\"AAPL\"])]\n",
        "data_sml_aapl[\"Date\"] = pd.to_datetime(data_sml_aapl[\"Date\"], format = \"%Y-%m-%d\")\n",
        "data_sml_aapl = data_sml_aapl[data_sml_aapl[\"ordered_month\"].isin([4,5,6])]\n",
        "\n",
        "sentiment_measures = [\"AR RF12\", \"AR RFFin\", \"AR FinNN\"]\n",
        "colors = {\"AR RF12\":\"black\", \"AR RFFin\":\"green\", \"AR FinNN\":\"yellow\"}\n",
        "\n",
        "fig1, ax1 = plt.subplots(figsize = (10, 10))\n",
        "\n",
        "for sentiment in sentiment_measures:\n",
        "  ax1.plot(data_sml_aapl[\"Date\"], data_sml_aapl[sentiment], c = colors[sentiment],label = sentiment)\n",
        "\n",
        "plt.grid()\n",
        "plt.title(\"Comparing supervised ML sentiment measures of AAPL over time\")\n",
        "plt.xlabel(\"Date\", size=12)\n",
        "plt.ylabel(\"Sentiment\", size=12)\n",
        "plt.legend(loc = 4)"
      ],
      "metadata": {
        "id": "5fbNEFyWIuY5",
        "colab": {
          "base_uri": "https://localhost:8080/",
          "height": 643
        },
        "outputId": "241f2000-9ae4-4c1a-b5a2-7742cf3cbacf"
      },
      "execution_count": 23,
      "outputs": [
        {
          "output_type": "execute_result",
          "data": {
            "text/plain": [
              "<matplotlib.legend.Legend at 0x7f54d63d1550>"
            ]
          },
          "metadata": {},
          "execution_count": 23
        },
        {
          "output_type": "display_data",
          "data": {
            "text/plain": [
              "<Figure size 720x720 with 1 Axes>"
            ],
            "image/png": "[encoded data removed]"
          },
          "metadata": {
            "needs_background": "light"
          }
        }
      ]
    },
    {
      "cell_type": "markdown",
      "source": [
        "**Mean Squared Error of Return Sentiment Measures:**"
      ],
      "metadata": {
        "id": "YqhX53pWpdOq"
      }
    },
    {
      "cell_type": "code",
      "source": [
        "mse_rf12 = mean_squared_error(data_full[\"AR\"], data_full[\"AR RF12\"])\n",
        "mse_rffin = mean_squared_error(data_full[\"AR\"], data_full[\"AR RFFin\"])\n",
        "mse_finnn = mean_squared_error(data_full[\"AR\"], data_full[\"AR FinNN\"])\n",
        "print(\"The MSE of RF with one- anf two-grams is: {}\".format(mse_rf12))\n",
        "print(\"The MSE of RF with FinBERT as encoder is: {}\".format(mse_rffin))\n",
        "print(\"The MSE FinBERT + NN is: {}\".format(mse_finnn))"
      ],
      "metadata": {
        "id": "REE8Xae8pdjB",
        "colab": {
          "base_uri": "https://localhost:8080/"
        },
        "outputId": "46337f1b-8e91-46e7-b616-cbbbe63852e6"
      },
      "execution_count": 20,
      "outputs": [
        {
          "output_type": "stream",
          "name": "stdout",
          "text": [
            "The MSE of RF with one- anf two-grams is: 0.0002927553027009357\n",
            "The MSE of RF with FinBERT as encoder is: 0.0003032096436926174\n",
            "The MSE FinBERT + NN is: 0.006359672600208324\n"
          ]
        }
      ]
    },
    {
      "cell_type": "markdown",
      "metadata": {
        "id": "Y-tygwICQ_ug"
      },
      "source": [
        "**Results of panel data regression:**"
      ]
    },
    {
      "cell_type": "code",
      "execution_count": 18,
      "metadata": {
        "colab": {
          "base_uri": "https://localhost:8080/"
        },
        "id": "2QzX6rfuRQd9",
        "outputId": "e5b99a1e-a39d-4df4-9166-eec77c20970f"
      },
      "outputs": [
        {
          "output_type": "stream",
          "name": "stdout",
          "text": [
            "                            OLS Regression Results                            \n",
            "==============================================================================\n",
            "Dep. Variable:                     AR   R-squared:                       0.000\n",
            "Model:                            OLS   Adj. R-squared:                  0.000\n",
            "Method:                 Least Squares   F-statistic:                     6.412\n",
            "Date:                Thu, 16 Jun 2022   Prob (F-statistic):           9.11e-07\n",
            "Time:                        08:38:32   Log-Likelihood:             2.9266e+05\n",
            "No. Observations:              110191   AIC:                        -5.853e+05\n",
            "Df Residuals:                  110184   BIC:                        -5.852e+05\n",
            "Df Model:                           6                                         \n",
            "Covariance Type:            nonrobust                                         \n",
            "==============================================================================\n",
            "                 coef    std err          t      P>|t|      [0.025      0.975]\n",
            "------------------------------------------------------------------------------\n",
            "const      -6.616e-05      0.000     -0.647      0.517      -0.000       0.000\n",
            "Nasdaq         0.0003      0.000      3.176      0.001       0.000       0.001\n",
            "Turnover   -5.173e-05   2.99e-05     -1.730      0.084      -0.000    6.86e-06\n",
            "Size       -1.756e-13   4.23e-13     -0.415      0.678   -1.01e-12    6.54e-13\n",
            "BTM         2.796e-05   3.36e-05      0.833      0.405   -3.79e-05    9.38e-05\n",
            "pref_alpha     0.1060      0.043      2.463      0.014       0.022       0.190\n",
            "HIV4 Tone      0.0011      0.000      4.255      0.000       0.001       0.002\n",
            "==============================================================================\n",
            "Omnibus:                    34363.268   Durbin-Watson:                   1.977\n",
            "Prob(Omnibus):                  0.000   Jarque-Bera (JB):          5517329.755\n",
            "Skew:                           0.311   Prob(JB):                         0.00\n",
            "Kurtosis:                      37.660   Cond. No.                     1.47e+11\n",
            "==============================================================================\n",
            "\n",
            "Notes:\n",
            "[1] Standard Errors assume that the covariance matrix of the errors is correctly specified.\n",
            "[2] The condition number is large, 1.47e+11. This might indicate that there are\n",
            "strong multicollinearity or other numerical problems.\n",
            "                            OLS Regression Results                            \n",
            "==============================================================================\n",
            "Dep. Variable:                     AR   R-squared:                       0.001\n",
            "Model:                            OLS   Adj. R-squared:                  0.001\n",
            "Method:                 Least Squares   F-statistic:                     13.07\n",
            "Date:                Thu, 16 Jun 2022   Prob (F-statistic):           7.58e-15\n",
            "Time:                        08:38:33   Log-Likelihood:             2.9268e+05\n",
            "No. Observations:              110191   AIC:                        -5.854e+05\n",
            "Df Residuals:                  110184   BIC:                        -5.853e+05\n",
            "Df Model:                           6                                         \n",
            "Covariance Type:            nonrobust                                         \n",
            "==============================================================================\n",
            "                 coef    std err          t      P>|t|      [0.025      0.975]\n",
            "------------------------------------------------------------------------------\n",
            "const       3.022e-06      0.000      0.030      0.976      -0.000       0.000\n",
            "Nasdaq         0.0003      0.000      2.965      0.003       0.000       0.001\n",
            "Turnover   -3.983e-05   2.98e-05     -1.336      0.182   -9.83e-05    1.86e-05\n",
            "Size        2.837e-13   4.17e-13      0.680      0.496   -5.34e-13     1.1e-12\n",
            "BTM         2.663e-05   3.36e-05      0.794      0.427   -3.91e-05    9.24e-05\n",
            "pref_alpha     0.0905      0.043      2.100      0.036       0.006       0.175\n",
            "LM Tone        0.0017      0.000      7.620      0.000       0.001       0.002\n",
            "==============================================================================\n",
            "Omnibus:                    34498.695   Durbin-Watson:                   1.977\n",
            "Prob(Omnibus):                  0.000   Jarque-Bera (JB):          5514041.410\n",
            "Skew:                           0.324   Prob(JB):                         0.00\n",
            "Kurtosis:                      37.649   Cond. No.                     1.47e+11\n",
            "==============================================================================\n",
            "\n",
            "Notes:\n",
            "[1] Standard Errors assume that the covariance matrix of the errors is correctly specified.\n",
            "[2] The condition number is large, 1.47e+11. This might indicate that there are\n",
            "strong multicollinearity or other numerical problems.\n",
            "                            OLS Regression Results                            \n",
            "==============================================================================\n",
            "Dep. Variable:                     AR   R-squared:                       0.000\n",
            "Model:                            OLS   Adj. R-squared:                  0.000\n",
            "Method:                 Least Squares   F-statistic:                     6.330\n",
            "Date:                Thu, 16 Jun 2022   Prob (F-statistic):           1.14e-06\n",
            "Time:                        08:38:33   Log-Likelihood:             2.9266e+05\n",
            "No. Observations:              110191   AIC:                        -5.853e+05\n",
            "Df Residuals:                  110184   BIC:                        -5.852e+05\n",
            "Df Model:                           6                                         \n",
            "Covariance Type:            nonrobust                                         \n",
            "==============================================================================\n",
            "                 coef    std err          t      P>|t|      [0.025      0.975]\n",
            "------------------------------------------------------------------------------\n",
            "const       -6.09e-06      0.000     -0.060      0.952      -0.000       0.000\n",
            "Nasdaq         0.0003      0.000      3.122      0.002       0.000       0.001\n",
            "Turnover   -4.385e-05   2.98e-05     -1.470      0.141      -0.000    1.46e-05\n",
            "Size        9.632e-14   4.17e-13      0.231      0.817   -7.21e-13    9.13e-13\n",
            "BTM         2.369e-05   3.36e-05      0.706      0.480   -4.21e-05    8.95e-05\n",
            "pref_alpha     0.1015      0.043      2.357      0.018       0.017       0.186\n",
            "AR RF12        0.0978      0.023      4.197      0.000       0.052       0.143\n",
            "==============================================================================\n",
            "Omnibus:                    34552.904   Durbin-Watson:                   1.977\n",
            "Prob(Omnibus):                  0.000   Jarque-Bera (JB):          5550323.952\n",
            "Skew:                           0.326   Prob(JB):                         0.00\n",
            "Kurtosis:                      37.763   Cond. No.                     1.47e+11\n",
            "==============================================================================\n",
            "\n",
            "Notes:\n",
            "[1] Standard Errors assume that the covariance matrix of the errors is correctly specified.\n",
            "[2] The condition number is large, 1.47e+11. This might indicate that there are\n",
            "strong multicollinearity or other numerical problems.\n",
            "                            OLS Regression Results                            \n",
            "==============================================================================\n",
            "Dep. Variable:                     AR   R-squared:                       0.000\n",
            "Model:                            OLS   Adj. R-squared:                  0.000\n",
            "Method:                 Least Squares   F-statistic:                     4.829\n",
            "Date:                Thu, 16 Jun 2022   Prob (F-statistic):           6.17e-05\n",
            "Time:                        08:38:33   Log-Likelihood:             2.9266e+05\n",
            "No. Observations:              110191   AIC:                        -5.853e+05\n",
            "Df Residuals:                  110184   BIC:                        -5.852e+05\n",
            "Df Model:                           6                                         \n",
            "Covariance Type:            nonrobust                                         \n",
            "==============================================================================\n",
            "                 coef    std err          t      P>|t|      [0.025      0.975]\n",
            "------------------------------------------------------------------------------\n",
            "const      -7.466e-06      0.000     -0.074      0.941      -0.000       0.000\n",
            "Nasdaq         0.0003      0.000      3.158      0.002       0.000       0.001\n",
            "Turnover   -4.306e-05   2.98e-05     -1.444      0.149      -0.000    1.54e-05\n",
            "Size        1.309e-13   4.17e-13      0.314      0.753   -6.86e-13    9.48e-13\n",
            "BTM         2.351e-05   3.36e-05      0.701      0.484   -4.23e-05    8.93e-05\n",
            "pref_alpha     0.1100      0.043      2.557      0.011       0.026       0.194\n",
            "AR RFFin       0.0382      0.013      2.934      0.003       0.013       0.064\n",
            "==============================================================================\n",
            "Omnibus:                    34492.999   Durbin-Watson:                   1.977\n",
            "Prob(Omnibus):                  0.000   Jarque-Bera (JB):          5514026.920\n",
            "Skew:                           0.323   Prob(JB):                         0.00\n",
            "Kurtosis:                      37.649   Cond. No.                     1.47e+11\n",
            "==============================================================================\n",
            "\n",
            "Notes:\n",
            "[1] Standard Errors assume that the covariance matrix of the errors is correctly specified.\n",
            "[2] The condition number is large, 1.47e+11. This might indicate that there are\n",
            "strong multicollinearity or other numerical problems.\n",
            "0\n",
            "                            OLS Regression Results                            \n",
            "==============================================================================\n",
            "Dep. Variable:                     AR   R-squared:                       0.000\n",
            "Model:                            OLS   Adj. R-squared:                  0.000\n",
            "Method:                 Least Squares   F-statistic:                     3.426\n",
            "Date:                Thu, 16 Jun 2022   Prob (F-statistic):            0.00221\n",
            "Time:                        08:38:33   Log-Likelihood:             2.9265e+05\n",
            "No. Observations:              110191   AIC:                        -5.853e+05\n",
            "Df Residuals:                  110184   BIC:                        -5.852e+05\n",
            "Df Model:                           6                                         \n",
            "Covariance Type:            nonrobust                                         \n",
            "==============================================================================\n",
            "                 coef    std err          t      P>|t|      [0.025      0.975]\n",
            "------------------------------------------------------------------------------\n",
            "const      -7.511e-06      0.000     -0.074      0.941      -0.000       0.000\n",
            "Nasdaq         0.0003      0.000      3.145      0.002       0.000       0.001\n",
            "Turnover   -4.325e-05   2.98e-05     -1.450      0.147      -0.000    1.52e-05\n",
            "Size        1.272e-13   4.18e-13      0.304      0.761   -6.93e-13    9.47e-13\n",
            "BTM         2.338e-05   3.36e-05      0.696      0.486   -4.24e-05    8.92e-05\n",
            "pref_alpha     0.1101      0.043      2.559      0.010       0.026       0.194\n",
            "AR FinNN      -0.0003      0.001     -0.438      0.661      -0.002       0.001\n",
            "==============================================================================\n",
            "Omnibus:                    34503.705   Durbin-Watson:                   1.977\n",
            "Prob(Omnibus):                  0.000   Jarque-Bera (JB):          5522841.533\n",
            "Skew:                           0.323   Prob(JB):                         0.00\n",
            "Kurtosis:                      37.677   Cond. No.                     1.47e+11\n",
            "==============================================================================\n",
            "\n",
            "Notes:\n",
            "[1] Standard Errors assume that the covariance matrix of the errors is correctly specified.\n",
            "[2] The condition number is large, 1.47e+11. This might indicate that there are\n",
            "strong multicollinearity or other numerical problems.\n"
          ]
        }
      ],
      "source": [
        "#HIV dictionary \n",
        "\n",
        "endg_var = \"AR\"\n",
        "exog_var = [\"Nasdaq\",\"Turnover\",\"Size\",\"BTM\",\"pref_alpha\", \"HIV4 Tone\"]\n",
        "\n",
        "pooled_y = data_full[endg_var]\n",
        "pooled_x = data_full[exog_var]\n",
        "\n",
        "pooled_x = sm.add_constant(pooled_x)\n",
        "\n",
        "pooled_olsr_model_hiv4 = sm.OLS(endog=pooled_y, exog=pooled_x)\n",
        "pooled_olsr_model_results_hiv4 = pooled_olsr_model_hiv4.fit()\n",
        "print(pooled_olsr_model_results_hiv4.summary())\n",
        "\n",
        "\n",
        "#LM dictionary\n",
        "\n",
        "endg_var = \"AR\"\n",
        "exog_var = [\"Nasdaq\",\"Turnover\",\"Size\",\"BTM\",\"pref_alpha\", \"LM Tone\"]\n",
        "\n",
        "pooled_y = data_full[endg_var]\n",
        "pooled_x = data_full[exog_var]\n",
        "\n",
        "pooled_x = sm.add_constant(pooled_x)\n",
        "\n",
        "pooled_olsr_model_lm = sm.OLS(endog=pooled_y, exog=pooled_x)\n",
        "pooled_olsr_model_results_lm = pooled_olsr_model_lm.fit()\n",
        "print(pooled_olsr_model_results_lm.summary())\n",
        "\n",
        "#RF12\n",
        "\n",
        "endg_var = \"AR\"\n",
        "exog_var = [\"Nasdaq\",\"Turnover\",\"Size\",\"BTM\",\"pref_alpha\", \"AR RF12\"]\n",
        "\n",
        "pooled_y = data_full[endg_var]\n",
        "pooled_x = data_full[exog_var]\n",
        "\n",
        "pooled_x = sm.add_constant(pooled_x)\n",
        "\n",
        "pooled_olsr_model_rf12 = sm.OLS(endog=pooled_y, exog=pooled_x)\n",
        "pooled_olsr_model_results_rf12 = pooled_olsr_model_rf12.fit()\n",
        "print(pooled_olsr_model_results_rf12.summary())\n",
        "\n",
        "#RF with FinBERT as encoder\n",
        "\n",
        "endg_var = \"AR\"\n",
        "exog_var = [\"Nasdaq\",\"Turnover\",\"Size\",\"BTM\",\"pref_alpha\", \"AR RFFin\"]\n",
        "\n",
        "pooled_y = data_full[endg_var]\n",
        "pooled_x = data_full[exog_var]\n",
        "\n",
        "pooled_x = sm.add_constant(pooled_x)\n",
        "\n",
        "pooled_olsr_model_rffin = sm.OLS(endog=pooled_y, exog=pooled_x)\n",
        "pooled_olsr_model_results_rffin = pooled_olsr_model_rffin.fit()\n",
        "print(pooled_olsr_model_results_rffin.summary())\n",
        "\n",
        "#FinBERT + NN\n",
        "\n",
        "endg_var = \"AR\"\n",
        "exog_var = [\"Nasdaq\",\"Turnover\",\"Size\",\"BTM\",\"pref_alpha\", \"AR FinNN\"]\n",
        "\n",
        "pooled_y = data_full[endg_var]\n",
        "pooled_x = data_full[exog_var]\n",
        "\n",
        "pooled_x = sm.add_constant(pooled_x)\n",
        "\n",
        "print(data_full[\"AR FinNN\"].isna().sum())\n",
        "pooled_olsr_model_finnn = sm.OLS(endog=pooled_y, exog=pooled_x)\n",
        "pooled_olsr_model_results_finnn = pooled_olsr_model_finnn.fit()\n",
        "print(pooled_olsr_model_results_finnn.summary())\n",
        "\n",
        "\n",
        "\n"
      ]
    },
    {
      "cell_type": "markdown",
      "source": [
        "**Results of FF3 regression:**"
      ],
      "metadata": {
        "id": "m4is2thrUDb3"
      }
    },
    {
      "cell_type": "code",
      "source": [
        "data_full[\"retrf\"] = data_full[\"r\"] - data_full[\"rf\"]\n",
        "\n",
        "#HIV dictionary \n",
        "\n",
        "\n",
        "endg_var = \"retrf\"\n",
        "exog_var = [\"mktrf\", \"smb\", \"hml\", \"Nasdaq\", \"BTM\", \"Size\", \"Turnover\", \"HIV4 Tone\"]\n",
        "\n",
        "pooled_y = data_full[endg_var]\n",
        "pooled_x = data_full[exog_var]\n",
        "\n",
        "pooled_x = sm.add_constant(pooled_x)\n",
        "\n",
        "pooled_olsr_model_hiv4 = sm.OLS(endog=pooled_y, exog=pooled_x)\n",
        "pooled_olsr_model_results_hiv4 = pooled_olsr_model_hiv4.fit()\n",
        "print(pooled_olsr_model_results_hiv4.summary())\n",
        "\n",
        "\n",
        "#LM dictionary\n",
        "\n",
        "endg_var = \"retrf\"\n",
        "exog_var = [\"mktrf\", \"smb\", \"hml\", \"Nasdaq\", \"BTM\", \"Size\", \"Turnover\", \"LM Tone\"]\n",
        "\n",
        "pooled_y = data_full[endg_var]\n",
        "pooled_x = data_full[exog_var]\n",
        "\n",
        "pooled_x = sm.add_constant(pooled_x)\n",
        "\n",
        "pooled_olsr_model_lm = sm.OLS(endog=pooled_y, exog=pooled_x)\n",
        "pooled_olsr_model_results_lm = pooled_olsr_model_lm.fit()\n",
        "print(pooled_olsr_model_results_lm.summary())\n",
        "\n",
        "#RF12\n",
        "\n",
        "endg_var = \"retrf\"\n",
        "exog_var = [\"mktrf\", \"smb\", \"hml\", \"Nasdaq\", \"BTM\", \"Size\", \"Turnover\", \"AR RF12\"]\n",
        "\n",
        "pooled_y = data_full[endg_var]\n",
        "pooled_x = data_full[exog_var]\n",
        "\n",
        "pooled_x = sm.add_constant(pooled_x)\n",
        "\n",
        "pooled_olsr_model_rf12 = sm.OLS(endog=pooled_y, exog=pooled_x)\n",
        "pooled_olsr_model_results_rf12 = pooled_olsr_model_rf12.fit()\n",
        "print(pooled_olsr_model_results_rf12.summary())\n",
        "\n",
        "#RF with FinBERT as encoder\n",
        "\n",
        "endg_var = \"retrf\"\n",
        "exog_var = [\"mktrf\", \"smb\", \"hml\", \"Nasdaq\", \"BTM\", \"Size\", \"Turnover\", \"AR RFFin\"]\n",
        "\n",
        "pooled_y = data_full[endg_var]\n",
        "pooled_x = data_full[exog_var]\n",
        "\n",
        "pooled_x = sm.add_constant(pooled_x)\n",
        "\n",
        "pooled_olsr_model_rffin = sm.OLS(endog=pooled_y, exog=pooled_x)\n",
        "pooled_olsr_model_results_rffin = pooled_olsr_model_rffin.fit()\n",
        "print(pooled_olsr_model_results_rffin.summary())\n",
        "\n",
        "#FinBERT + NN\n",
        "\n",
        "endg_var = \"retrf\"\n",
        "exog_var = [\"mktrf\", \"smb\", \"hml\", \"Nasdaq\", \"BTM\", \"Size\", \"Turnover\", \"AR FinNN\"]\n",
        "\n",
        "pooled_y = data_full[endg_var]\n",
        "pooled_x = data_full[exog_var]\n",
        "\n",
        "pooled_x = sm.add_constant(pooled_x)\n",
        "\n",
        "pooled_olsr_model_finnn = sm.OLS(endog=pooled_y, exog=pooled_x)\n",
        "pooled_olsr_model_results_finnn = pooled_olsr_model_finnn.fit()\n",
        "print(pooled_olsr_model_results_finnn.summary())"
      ],
      "metadata": {
        "colab": {
          "base_uri": "https://localhost:8080/"
        },
        "id": "WP_z_-zoUIZL",
        "outputId": "07dd8d23-eacb-4e89-e7b7-0fb4feb8dfdc"
      },
      "execution_count": 25,
      "outputs": [
        {
          "output_type": "stream",
          "name": "stdout",
          "text": [
            "                            OLS Regression Results                            \n",
            "==============================================================================\n",
            "Dep. Variable:                  retrf   R-squared:                       0.224\n",
            "Model:                            OLS   Adj. R-squared:                  0.224\n",
            "Method:                 Least Squares   F-statistic:                     3979.\n",
            "Date:                Thu, 16 Jun 2022   Prob (F-statistic):               0.00\n",
            "Time:                        08:44:49   Log-Likelihood:             2.9294e+05\n",
            "No. Observations:              110191   AIC:                        -5.859e+05\n",
            "Df Residuals:                  110182   BIC:                        -5.858e+05\n",
            "Df Model:                           8                                         \n",
            "Covariance Type:            nonrobust                                         \n",
            "==============================================================================\n",
            "                 coef    std err          t      P>|t|      [0.025      0.975]\n",
            "------------------------------------------------------------------------------\n",
            "const         -0.0001      0.000     -1.338      0.181      -0.000    6.34e-05\n",
            "mktrf          1.0497      0.006    175.257      0.000       1.038       1.061\n",
            "smb            0.0427      0.010      4.196      0.000       0.023       0.063\n",
            "hml            0.0365      0.009      3.899      0.000       0.018       0.055\n",
            "Nasdaq         0.0004      0.000      3.427      0.001       0.000       0.001\n",
            "BTM         2.581e-05   3.35e-05      0.771      0.441   -3.98e-05    9.14e-05\n",
            "Size       -1.141e-13   4.22e-13     -0.271      0.787   -9.41e-13    7.13e-13\n",
            "Turnover   -5.836e-05   2.97e-05     -1.966      0.049      -0.000   -1.87e-07\n",
            "HIV4 Tone      0.0012      0.000      4.460      0.000       0.001       0.002\n",
            "==============================================================================\n",
            "Omnibus:                    34389.654   Durbin-Watson:                   1.977\n",
            "Prob(Omnibus):                  0.000   Jarque-Bera (JB):          5605382.441\n",
            "Skew:                           0.305   Prob(JB):                         0.00\n",
            "Kurtosis:                      37.936   Cond. No.                     3.54e+10\n",
            "==============================================================================\n",
            "\n",
            "Notes:\n",
            "[1] Standard Errors assume that the covariance matrix of the errors is correctly specified.\n",
            "[2] The condition number is large, 3.54e+10. This might indicate that there are\n",
            "strong multicollinearity or other numerical problems.\n",
            "                            OLS Regression Results                            \n",
            "==============================================================================\n",
            "Dep. Variable:                  retrf   R-squared:                       0.224\n",
            "Model:                            OLS   Adj. R-squared:                  0.224\n",
            "Method:                 Least Squares   F-statistic:                     3986.\n",
            "Date:                Thu, 16 Jun 2022   Prob (F-statistic):               0.00\n",
            "Time:                        08:44:50   Log-Likelihood:             2.9296e+05\n",
            "No. Observations:              110191   AIC:                        -5.859e+05\n",
            "Df Residuals:                  110182   BIC:                        -5.858e+05\n",
            "Df Model:                           8                                         \n",
            "Covariance Type:            nonrobust                                         \n",
            "==============================================================================\n",
            "                 coef    std err          t      P>|t|      [0.025      0.975]\n",
            "------------------------------------------------------------------------------\n",
            "const      -6.443e-05      0.000     -0.638      0.523      -0.000       0.000\n",
            "mktrf          1.0495      0.006    175.240      0.000       1.038       1.061\n",
            "smb            0.0428      0.010      4.203      0.000       0.023       0.063\n",
            "hml            0.0359      0.009      3.836      0.000       0.018       0.054\n",
            "Nasdaq         0.0003      0.000      3.172      0.002       0.000       0.001\n",
            "BTM         2.475e-05   3.35e-05      0.740      0.459   -4.08e-05    9.03e-05\n",
            "Size        3.549e-13   4.15e-13      0.854      0.393   -4.59e-13    1.17e-12\n",
            "Turnover   -4.495e-05   2.96e-05     -1.518      0.129      -0.000    1.31e-05\n",
            "LM Tone        0.0017      0.000      7.832      0.000       0.001       0.002\n",
            "==============================================================================\n",
            "Omnibus:                    34532.908   Durbin-Watson:                   1.977\n",
            "Prob(Omnibus):                  0.000   Jarque-Bera (JB):          5601197.086\n",
            "Skew:                           0.319   Prob(JB):                         0.00\n",
            "Kurtosis:                      37.922   Cond. No.                     3.54e+10\n",
            "==============================================================================\n",
            "\n",
            "Notes:\n",
            "[1] Standard Errors assume that the covariance matrix of the errors is correctly specified.\n",
            "[2] The condition number is large, 3.54e+10. This might indicate that there are\n",
            "strong multicollinearity or other numerical problems.\n",
            "                            OLS Regression Results                            \n",
            "==============================================================================\n",
            "Dep. Variable:                  retrf   R-squared:                       0.224\n",
            "Model:                            OLS   Adj. R-squared:                  0.224\n",
            "Method:                 Least Squares   F-statistic:                     3978.\n",
            "Date:                Thu, 16 Jun 2022   Prob (F-statistic):               0.00\n",
            "Time:                        08:44:50   Log-Likelihood:             2.9294e+05\n",
            "No. Observations:              110191   AIC:                        -5.859e+05\n",
            "Df Residuals:                  110182   BIC:                        -5.858e+05\n",
            "Df Model:                           8                                         \n",
            "Covariance Type:            nonrobust                                         \n",
            "==============================================================================\n",
            "                 coef    std err          t      P>|t|      [0.025      0.975]\n",
            "------------------------------------------------------------------------------\n",
            "const      -7.364e-05      0.000     -0.729      0.466      -0.000       0.000\n",
            "mktrf          1.0495      0.006    175.191      0.000       1.038       1.061\n",
            "smb            0.0419      0.010      4.119      0.000       0.022       0.062\n",
            "hml            0.0360      0.009      3.846      0.000       0.018       0.054\n",
            "Nasdaq         0.0004      0.000      3.363      0.001       0.000       0.001\n",
            "BTM         2.138e-05   3.35e-05      0.639      0.523   -4.42e-05     8.7e-05\n",
            "Size        1.725e-13   4.15e-13      0.415      0.678   -6.42e-13    9.87e-13\n",
            "Turnover   -4.978e-05   2.96e-05     -1.681      0.093      -0.000    8.26e-06\n",
            "AR RF12        0.0927      0.023      3.991      0.000       0.047       0.138\n",
            "==============================================================================\n",
            "Omnibus:                    34582.762   Durbin-Watson:                   1.977\n",
            "Prob(Omnibus):                  0.000   Jarque-Bera (JB):          5637834.963\n",
            "Skew:                           0.321   Prob(JB):                         0.00\n",
            "Kurtosis:                      38.036   Cond. No.                     7.93e+10\n",
            "==============================================================================\n",
            "\n",
            "Notes:\n",
            "[1] Standard Errors assume that the covariance matrix of the errors is correctly specified.\n",
            "[2] The condition number is large, 7.93e+10. This might indicate that there are\n",
            "strong multicollinearity or other numerical problems.\n",
            "                            OLS Regression Results                            \n",
            "==============================================================================\n",
            "Dep. Variable:                  retrf   R-squared:                       0.224\n",
            "Model:                            OLS   Adj. R-squared:                  0.224\n",
            "Method:                 Least Squares   F-statistic:                     3977.\n",
            "Date:                Thu, 16 Jun 2022   Prob (F-statistic):               0.00\n",
            "Time:                        08:44:50   Log-Likelihood:             2.9294e+05\n",
            "No. Observations:              110191   AIC:                        -5.859e+05\n",
            "Df Residuals:                  110182   BIC:                        -5.858e+05\n",
            "Df Model:                           8                                         \n",
            "Covariance Type:            nonrobust                                         \n",
            "==============================================================================\n",
            "                 coef    std err          t      P>|t|      [0.025      0.975]\n",
            "------------------------------------------------------------------------------\n",
            "const      -7.502e-05      0.000     -0.743      0.458      -0.000       0.000\n",
            "mktrf          1.0497      0.006    175.247      0.000       1.038       1.061\n",
            "smb            0.0420      0.010      4.124      0.000       0.022       0.062\n",
            "hml            0.0361      0.009      3.859      0.000       0.018       0.054\n",
            "Nasdaq         0.0004      0.000      3.417      0.001       0.000       0.001\n",
            "BTM         2.102e-05   3.35e-05      0.628      0.530   -4.46e-05    8.66e-05\n",
            "Size        2.087e-13   4.15e-13      0.503      0.615   -6.05e-13    1.02e-12\n",
            "Turnover   -4.957e-05   2.96e-05     -1.674      0.094      -0.000    8.47e-06\n",
            "AR RFFin       0.0379      0.013      2.919      0.004       0.012       0.063\n",
            "==============================================================================\n",
            "Omnibus:                    34524.207   Durbin-Watson:                   1.977\n",
            "Prob(Omnibus):                  0.000   Jarque-Bera (JB):          5602848.065\n",
            "Skew:                           0.318   Prob(JB):                         0.00\n",
            "Kurtosis:                      37.927   Cond. No.                     4.43e+10\n",
            "==============================================================================\n",
            "\n",
            "Notes:\n",
            "[1] Standard Errors assume that the covariance matrix of the errors is correctly specified.\n",
            "[2] The condition number is large, 4.43e+10. This might indicate that there are\n",
            "strong multicollinearity or other numerical problems.\n",
            "                            OLS Regression Results                            \n",
            "==============================================================================\n",
            "Dep. Variable:                  retrf   R-squared:                       0.224\n",
            "Model:                            OLS   Adj. R-squared:                  0.224\n",
            "Method:                 Least Squares   F-statistic:                     3976.\n",
            "Date:                Thu, 16 Jun 2022   Prob (F-statistic):               0.00\n",
            "Time:                        08:44:50   Log-Likelihood:             2.9293e+05\n",
            "No. Observations:              110191   AIC:                        -5.858e+05\n",
            "Df Residuals:                  110182   BIC:                        -5.858e+05\n",
            "Df Model:                           8                                         \n",
            "Covariance Type:            nonrobust                                         \n",
            "==============================================================================\n",
            "                 coef    std err          t      P>|t|      [0.025      0.975]\n",
            "------------------------------------------------------------------------------\n",
            "const      -7.349e-05      0.000     -0.727      0.467      -0.000       0.000\n",
            "mktrf          1.0498      0.006    175.193      0.000       1.038       1.062\n",
            "smb            0.0418      0.010      4.111      0.000       0.022       0.062\n",
            "hml            0.0361      0.009      3.864      0.000       0.018       0.054\n",
            "Nasdaq         0.0004      0.000      3.409      0.001       0.000       0.001\n",
            "BTM          2.06e-05   3.35e-05      0.615      0.538    -4.5e-05    8.62e-05\n",
            "Size        2.185e-13   4.17e-13      0.524      0.600   -5.98e-13    1.04e-12\n",
            "Turnover   -4.948e-05   2.96e-05     -1.670      0.095      -0.000    8.58e-06\n",
            "AR FinNN     -3.9e-05      0.001     -0.058      0.954      -0.001       0.001\n",
            "==============================================================================\n",
            "Omnibus:                    34538.646   Durbin-Watson:                   1.977\n",
            "Prob(Omnibus):                  0.000   Jarque-Bera (JB):          5611724.566\n",
            "Skew:                           0.319   Prob(JB):                         0.00\n",
            "Kurtosis:                      37.955   Cond. No.                     3.54e+10\n",
            "==============================================================================\n",
            "\n",
            "Notes:\n",
            "[1] Standard Errors assume that the covariance matrix of the errors is correctly specified.\n",
            "[2] The condition number is large, 3.54e+10. This might indicate that there are\n",
            "strong multicollinearity or other numerical problems.\n"
          ]
        }
      ]
    }
  ],
  "metadata": {
    "colab": {
      "collapsed_sections": [],
      "name": "Results and Descriptive Stats.ipynb",
      "provenance": [],
      "authorship_tag": "ABX9TyNHUBPFNIJSXhqdhq++jd7L",
      "include_colab_link": true
    },
    "kernelspec": {
      "display_name": "Python 3",
      "name": "python3"
    },
    "language_info": {
      "name": "python"
    }
  },
  "nbformat": 4,
  "nbformat_minor": 0
}