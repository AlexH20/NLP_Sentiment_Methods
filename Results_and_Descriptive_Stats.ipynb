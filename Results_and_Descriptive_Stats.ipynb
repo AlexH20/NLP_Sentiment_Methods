{
  "cells": [
    {
      "cell_type": "markdown",
      "metadata": {
        "id": "view-in-github",
        "colab_type": "text"
      },
      "source": [
        "<a href=\"https://colab.research.google.com/github/AlexH20/Supervised-ML-sentiment-measures/blob/main/Results_and_Descriptive_Stats.ipynb\" target=\"_parent\"><img src=\"https://colab.research.google.com/assets/colab-badge.svg\" alt=\"Open In Colab\"/></a>"
      ]
    },
    {
      "cell_type": "markdown",
      "metadata": {
        "id": "eNcHCHjlgCG4"
      },
      "source": [
        "# Descriptive statistics"
      ]
    },
    {
      "cell_type": "code",
      "execution_count": 2,
      "metadata": {
        "id": "Ms-_xC3b_zSD"
      },
      "outputs": [],
      "source": [
        "%%capture\n",
        "!pip install tabulate\n",
        "!pip install pysentiment2\n",
        "!pip install linearmodels\n",
        "!pip install stargazer\n",
        "\n",
        "import pandas as pd\n",
        "pd.options.mode.chained_assignment = None \n",
        "import pysentiment2 as ps\n",
        "from google.colab import drive \n",
        "from tabulate import tabulate\n",
        "import re\n",
        "import matplotlib.pyplot as plt\n",
        "import numpy as np\n",
        "import matplotlib.dates as md\n",
        "import statsmodels.api as sm\n",
        "from linearmodels.panel import PooledOLS\n",
        "import statsmodels.api as sm\n",
        "from stargazer.stargazer import Stargazer\n",
        "\n",
        "pd.set_option('display.expand_frame_repr', False)\n",
        "drive.mount(\"/content/gdrive\")"
      ]
    },
    {
      "cell_type": "code",
      "execution_count": 31,
      "metadata": {
        "id": "98rI7lzCncRF"
      },
      "outputs": [],
      "source": [
        "#Data DM methods\n",
        "data_dm = pd.read_csv(\"gdrive/My Drive/Thesis/processed data/CAR_regression/datasets_final/data_whole_woScAR_dm.csv\")\n",
        "data_dm[\"Date\"] = pd.to_datetime(data_dm[\"Date\"], format = \"%Y-%m-%d\")\n",
        "data_dm[\"Date\"] = pd.to_datetime(data_dm[\"Date\"])\n",
        "data_dm[\"Year\"] = [x.year for x in data_dm[\"Date\"]]\n",
        "data_dm[\"Month\"] = [x.month for x in data_dm[\"Date\"]]\n",
        "data_dm[\"ordered_month\"] = [((x[1][\"Year\"]-2015)*12 + x[1][\"Month\"]) for x in data_dm.iterrows()]\n",
        "data_dm = data_dm[~data_dm[\"ordered_month\"].isin([0,1,2,3,56,57,58,59,60])]\n",
        "data_dm = data_dm.fillna(0)\n",
        "\n",
        "#Data RF\n",
        "data_rf = pd.read_csv(\"gdrive/My Drive/Thesis/processed data/CAR_regression/datasets_final/data_whole_woScAR_RF.csv\")\n",
        "data_rf[\"Date\"] = pd.to_datetime(data_rf[\"Date\"])\n",
        "data_rf[\"Year\"] = [x.year for x in data_rf[\"Date\"]]\n",
        "data_rf[\"Month\"] = [x.month for x in data_rf[\"Date\"]]\n",
        "data_rf[\"ordered_month\"] = [((x[1][\"Year\"]-2015)*12 + x[1][\"Month\"]) for x in data_rf.iterrows()]\n",
        "data_rf = data_rf[~data_rf[\"Year\"].isin([2019])]\n",
        "data_rf = data_rf[~data_rf[\"ordered_month\"].isin([0,1,2,3])]\n",
        "\n",
        "#Data BERT\n",
        "data_BERT = pd.read_csv(\"gdrive/My Drive/Thesis/processed data/CAR_regression/datasets_final/data_whole_woScAR_BERT.csv\")\n",
        "data_BERT[\"Date\"] = pd.to_datetime(data_BERT[\"Date\"])\n",
        "data_BERT[\"Year\"] = [x.year for x in data_BERT[\"Date\"]]\n",
        "data_BERT[\"Month\"] = [x.month for x in data_BERT[\"Date\"]]\n",
        "data_BERT[\"ordered_month\"] = [((x[1][\"Year\"]-2015)*12 + x[1][\"Month\"]) for x in data_BERT.iterrows()]\n",
        "data_BERT = data_BERT[~data_BERT[\"ordered_month\"].isin([0,1,2,3,56,57,58,59,60])]"
      ]
    },
    {
      "cell_type": "markdown",
      "metadata": {
        "id": "Y-tygwICQ_ug"
      },
      "source": [
        "Here are the results of the panel data regression:"
      ]
    },
    {
      "cell_type": "code",
      "source": [
        "data_rf_acc = data_rf[data_rf[\"AR_RF\"] != 0]\n",
        "acc_rf = (data_rf_acc[\"AR_dummy\"] == data_rf_acc[\"AR_RF\"]).sum() / len(data_rf_acc[\"AR_dummy\"])\n",
        "data_BERT_acc = data_BERT[data_BERT[\"AR_BERT\"] != 0]\n",
        "acc_BERT = (data_BERT_acc[\"AR_dummy\"] == data_BERT_acc[\"AR_BERT\"]).sum() / len(data_BERT_acc[\"AR_dummy\"])\n",
        "print(\"Accuracy of RF: {}\".format(acc_rf))\n",
        "print(\"Accuracy of BERT: {}\".format(acc_BERT))"
      ],
      "metadata": {
        "colab": {
          "base_uri": "https://localhost:8080/"
        },
        "id": "64GJCiaJb-yi",
        "outputId": "85ca8a5b-397e-4555-b0e2-d42384fc7a28"
      },
      "execution_count": 32,
      "outputs": [
        {
          "output_type": "stream",
          "name": "stdout",
          "text": [
            "Accuracy of RF: 0.5065336394137383\n",
            "Accuracy of BERT: 0.5029743589743589\n"
          ]
        }
      ]
    },
    {
      "cell_type": "code",
      "execution_count": 33,
      "metadata": {
        "colab": {
          "base_uri": "https://localhost:8080/"
        },
        "id": "2QzX6rfuRQd9",
        "outputId": "885b0b67-0910-4cd8-c430-64f9d501440a"
      },
      "outputs": [
        {
          "output_type": "stream",
          "name": "stdout",
          "text": [
            "                            OLS Regression Results                            \n",
            "==============================================================================\n",
            "Dep. Variable:                     AR   R-squared:                       0.000\n",
            "Model:                            OLS   Adj. R-squared:                  0.000\n",
            "Method:                 Least Squares   F-statistic:                     6.385\n",
            "Date:                Thu, 09 Jun 2022   Prob (F-statistic):           9.79e-07\n",
            "Time:                        22:29:32   Log-Likelihood:             2.9266e+05\n",
            "No. Observations:              110191   AIC:                        -5.853e+05\n",
            "Df Residuals:                  110184   BIC:                        -5.852e+05\n",
            "Df Model:                           6                                         \n",
            "Covariance Type:            nonrobust                                         \n",
            "==============================================================================\n",
            "                 coef    std err          t      P>|t|      [0.025      0.975]\n",
            "------------------------------------------------------------------------------\n",
            "const      -2.786e-06      0.001     -0.003      0.997      -0.002       0.002\n",
            "Nasdaq         0.0003      0.000      3.152      0.002       0.000       0.001\n",
            "Turnover   -4.935e-05   3.35e-05     -1.473      0.141      -0.000    1.63e-05\n",
            "Size       -4.723e-06   4.58e-05     -0.103      0.918   -9.45e-05     8.5e-05\n",
            "BTM         2.782e-05   3.39e-05      0.822      0.411   -3.85e-05    9.42e-05\n",
            "pref_alpha     0.1056      0.043      2.445      0.014       0.021       0.190\n",
            "HIV4_tone      0.0011      0.000      4.210      0.000       0.001       0.002\n",
            "==============================================================================\n",
            "Omnibus:                    34366.619   Durbin-Watson:                   1.977\n",
            "Prob(Omnibus):                  0.000   Jarque-Bera (JB):          5517632.350\n",
            "Skew:                           0.311   Prob(JB):                         0.00\n",
            "Kurtosis:                      37.661   Cond. No.                     1.52e+04\n",
            "==============================================================================\n",
            "\n",
            "Notes:\n",
            "[1] Standard Errors assume that the covariance matrix of the errors is correctly specified.\n",
            "[2] The condition number is large, 1.52e+04. This might indicate that there are\n",
            "strong multicollinearity or other numerical problems.\n",
            "                            OLS Regression Results                            \n",
            "==============================================================================\n",
            "Dep. Variable:                     AR   R-squared:                       0.001\n",
            "Model:                            OLS   Adj. R-squared:                  0.001\n",
            "Method:                 Least Squares   F-statistic:                     13.09\n",
            "Date:                Thu, 09 Jun 2022   Prob (F-statistic):           7.19e-15\n",
            "Time:                        22:29:32   Log-Likelihood:             2.9268e+05\n",
            "No. Observations:              110191   AIC:                        -5.854e+05\n",
            "Df Residuals:                  110184   BIC:                        -5.853e+05\n",
            "Df Model:                           6                                         \n",
            "Covariance Type:            nonrobust                                         \n",
            "==============================================================================\n",
            "                 coef    std err          t      P>|t|      [0.025      0.975]\n",
            "------------------------------------------------------------------------------\n",
            "const         -0.0006      0.001     -0.701      0.483      -0.002       0.001\n",
            "Nasdaq         0.0003      0.000      3.028      0.002       0.000       0.001\n",
            "Turnover   -3.303e-05   3.33e-05     -0.991      0.322   -9.84e-05    3.23e-05\n",
            "Size        3.426e-05   4.52e-05      0.758      0.448   -5.43e-05       0.000\n",
            "BTM         2.942e-05   3.39e-05      0.869      0.385   -3.69e-05    9.58e-05\n",
            "pref_alpha     0.0889      0.043      2.056      0.040       0.004       0.174\n",
            "LM_tone        0.0017      0.000      7.613      0.000       0.001       0.002\n",
            "==============================================================================\n",
            "Omnibus:                    34518.365   Durbin-Watson:                   1.977\n",
            "Prob(Omnibus):                  0.000   Jarque-Bera (JB):          5515070.019\n",
            "Skew:                           0.325   Prob(JB):                         0.00\n",
            "Kurtosis:                      37.652   Cond. No.                     1.52e+04\n",
            "==============================================================================\n",
            "\n",
            "Notes:\n",
            "[1] Standard Errors assume that the covariance matrix of the errors is correctly specified.\n",
            "[2] The condition number is large, 1.52e+04. This might indicate that there are\n",
            "strong multicollinearity or other numerical problems.\n",
            "                            OLS Regression Results                            \n",
            "==============================================================================\n",
            "Dep. Variable:                     AR   R-squared:                       0.000\n",
            "Model:                            OLS   Adj. R-squared:                  0.000\n",
            "Method:                 Least Squares   F-statistic:                     5.088\n",
            "Date:                Thu, 09 Jun 2022   Prob (F-statistic):           3.12e-05\n",
            "Time:                        22:29:32   Log-Likelihood:             2.5408e+05\n",
            "No. Observations:               95675   AIC:                        -5.081e+05\n",
            "Df Residuals:                   95668   BIC:                        -5.081e+05\n",
            "Df Model:                           6                                         \n",
            "Covariance Type:            nonrobust                                         \n",
            "==============================================================================\n",
            "                 coef    std err          t      P>|t|      [0.025      0.975]\n",
            "------------------------------------------------------------------------------\n",
            "const          0.0002      0.001      0.250      0.803      -0.002       0.002\n",
            "Nasdaq         0.0003      0.000      2.891      0.004       0.000       0.001\n",
            "Turnover   -4.559e-05   3.68e-05     -1.240      0.215      -0.000    2.65e-05\n",
            "Size       -1.108e-05   4.94e-05     -0.224      0.822      -0.000    8.57e-05\n",
            "BTM         2.235e-05   3.54e-05      0.632      0.527    -4.7e-05    9.17e-05\n",
            "pref_alpha     0.1392      0.046      3.015      0.003       0.049       0.230\n",
            "AR_RF          0.0003      0.000      2.869      0.004       0.000       0.001\n",
            "==============================================================================\n",
            "Omnibus:                    31686.328   Durbin-Watson:                   1.972\n",
            "Prob(Omnibus):                  0.000   Jarque-Bera (JB):          4640361.334\n",
            "Skew:                           0.492   Prob(JB):                         0.00\n",
            "Kurtosis:                      37.104   Cond. No.                     1.51e+04\n",
            "==============================================================================\n",
            "\n",
            "Notes:\n",
            "[1] Standard Errors assume that the covariance matrix of the errors is correctly specified.\n",
            "[2] The condition number is large, 1.51e+04. This might indicate that there are\n",
            "strong multicollinearity or other numerical problems.\n",
            "                            OLS Regression Results                            \n",
            "==============================================================================\n",
            "Dep. Variable:                     AR   R-squared:                       0.000\n",
            "Model:                            OLS   Adj. R-squared:                  0.000\n",
            "Method:                 Least Squares   F-statistic:                     3.863\n",
            "Date:                Thu, 09 Jun 2022   Prob (F-statistic):           0.000739\n",
            "Time:                        22:29:32   Log-Likelihood:             2.9330e+05\n",
            "No. Observations:              110497   AIC:                        -5.866e+05\n",
            "Df Residuals:                  110490   BIC:                        -5.865e+05\n",
            "Df Model:                           6                                         \n",
            "Covariance Type:            nonrobust                                         \n",
            "==============================================================================\n",
            "                 coef    std err          t      P>|t|      [0.025      0.975]\n",
            "------------------------------------------------------------------------------\n",
            "const         -0.0004      0.001     -0.450      0.652      -0.002       0.001\n",
            "Nasdaq         0.0003      0.000      3.224      0.001       0.000       0.001\n",
            "Turnover   -3.888e-05   3.34e-05     -1.165      0.244      -0.000    2.65e-05\n",
            "Size        2.123e-05   4.53e-05      0.469      0.639   -6.75e-05       0.000\n",
            "BTM         2.523e-05   3.39e-05      0.744      0.457   -4.12e-05    9.17e-05\n",
            "pref_alpha     0.1131      0.043      2.618      0.009       0.028       0.198\n",
            "AR_BERT        0.0001   9.97e-05      1.270      0.204   -6.88e-05       0.000\n",
            "==============================================================================\n",
            "Omnibus:                    34483.552   Durbin-Watson:                   1.965\n",
            "Prob(Omnibus):                  0.000   Jarque-Bera (JB):          5468591.900\n",
            "Skew:                           0.319   Prob(JB):                         0.00\n",
            "Kurtosis:                      37.458   Cond. No.                     1.52e+04\n",
            "==============================================================================\n",
            "\n",
            "Notes:\n",
            "[1] Standard Errors assume that the covariance matrix of the errors is correctly specified.\n",
            "[2] The condition number is large, 1.52e+04. This might indicate that there are\n",
            "strong multicollinearity or other numerical problems.\n"
          ]
        }
      ],
      "source": [
        "data_dm[\"Size\"] = np.log(data_dm[\"Size\"])\n",
        "data_rf[\"Size\"] = np.log(data_rf[\"Size\"])\n",
        "data_BERT[\"Size\"] = np.log(data_BERT[\"Size\"])\n",
        "\n",
        "#HIV dictionary \n",
        "\n",
        "endg_var = \"AR\"\n",
        "exog_var = [\"Nasdaq\",\"Turnover\",\"Size\",\"BTM\",\"pref_alpha\", \"HIV4_tone\"]\n",
        "\n",
        "pooled_y = data_dm[endg_var]\n",
        "pooled_x = data_dm[exog_var]\n",
        "\n",
        "pooled_x = sm.add_constant(pooled_x)\n",
        "\n",
        "pooled_olsr_model_hiv4 = sm.OLS(endog=pooled_y, exog=pooled_x)\n",
        "pooled_olsr_model_results_hiv4 = pooled_olsr_model_hiv4.fit()\n",
        "print(pooled_olsr_model_results_hiv4.summary())\n",
        "\n",
        "\n",
        "#LM dictionary\n",
        "\n",
        "endg_var = \"AR\"\n",
        "exog_var = [\"Nasdaq\",\"Turnover\",\"Size\",\"BTM\",\"pref_alpha\", \"LM_tone\"]\n",
        "\n",
        "pooled_y = data_dm[endg_var]\n",
        "pooled_x = data_dm[exog_var]\n",
        "\n",
        "pooled_x = sm.add_constant(pooled_x)\n",
        "\n",
        "pooled_olsr_model_lm = sm.OLS(endog=pooled_y, exog=pooled_x)\n",
        "pooled_olsr_model_results_lm = pooled_olsr_model_lm.fit()\n",
        "print(pooled_olsr_model_results_lm.summary())\n",
        "\n",
        "#RF\n",
        "\n",
        "endg_var = \"AR\"\n",
        "exog_var = [\"Nasdaq\",\"Turnover\",\"Size\",\"BTM\",\"pref_alpha\", \"AR_RF\"]\n",
        "\n",
        "pooled_y = data_rf[endg_var]\n",
        "pooled_x = data_rf[exog_var]\n",
        "\n",
        "pooled_x = sm.add_constant(pooled_x)\n",
        "\n",
        "pooled_olsr_model_rf = sm.OLS(endog=pooled_y, exog=pooled_x)\n",
        "pooled_olsr_model_results_rf = pooled_olsr_model_rf.fit()\n",
        "print(pooled_olsr_model_results_rf.summary())\n",
        "\n",
        "#BERT\n",
        "\n",
        "endg_var = \"AR\"\n",
        "exog_var = [\"Nasdaq\",\"Turnover\",\"Size\",\"BTM\",\"pref_alpha\", \"AR_BERT\"]\n",
        "\n",
        "pooled_y = data_BERT[endg_var]\n",
        "pooled_x = data_BERT[exog_var]\n",
        "\n",
        "pooled_x = sm.add_constant(pooled_x)\n",
        "\n",
        "pooled_olsr_model_BERT = sm.OLS(endog=pooled_y, exog=pooled_x)\n",
        "pooled_olsr_model_results_BERT = pooled_olsr_model_BERT.fit()\n",
        "print(pooled_olsr_model_results_BERT.summary())\n",
        "\n",
        "\n",
        "\n"
      ]
    }
  ],
  "metadata": {
    "colab": {
      "collapsed_sections": [],
      "name": "Results and Descriptive Stats.ipynb",
      "provenance": [],
      "authorship_tag": "ABX9TyMh0gZVEiTHmObF+JSXiMmD",
      "include_colab_link": true
    },
    "kernelspec": {
      "display_name": "Python 3",
      "name": "python3"
    },
    "language_info": {
      "name": "python"
    }
  },
  "nbformat": 4,
  "nbformat_minor": 0
}