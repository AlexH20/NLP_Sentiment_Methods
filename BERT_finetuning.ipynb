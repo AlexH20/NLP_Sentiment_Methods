{
  "cells": [
    {
      "cell_type": "markdown",
      "metadata": {
        "id": "view-in-github",
        "colab_type": "text"
      },
      "source": [
        "<a href=\"https://colab.research.google.com/github/AlexH20/NLP_Sentiment_Methods/blob/main/BERT_finetuning.ipynb\" target=\"_parent\"><img src=\"https://colab.research.google.com/assets/colab-badge.svg\" alt=\"Open In Colab\"/></a>"
      ]
    },
    {
      "cell_type": "code",
      "execution_count": null,
      "metadata": {
        "colab": {
          "base_uri": "https://localhost:8080/"
        },
        "id": "04jpwnhUTred",
        "outputId": "514229bb-8d2a-4128-cf45-0cb7505fcc19"
      },
      "outputs": [
        {
          "output_type": "stream",
          "name": "stdout",
          "text": [
            "\u001b[K     |████████████████████████████████| 4.9 MB 16.1 MB/s \n",
            "\u001b[K     |████████████████████████████████| 1.8 MB 13.3 MB/s \n",
            "\u001b[K     |████████████████████████████████| 237 kB 72.9 MB/s \n",
            "\u001b[K     |████████████████████████████████| 1.1 MB 64.0 MB/s \n",
            "\u001b[K     |████████████████████████████████| 1.2 MB 78.7 MB/s \n",
            "\u001b[K     |████████████████████████████████| 99 kB 9.9 MB/s \n",
            "\u001b[K     |████████████████████████████████| 47.8 MB 1.1 MB/s \n",
            "\u001b[K     |████████████████████████████████| 92 kB 11.3 MB/s \n",
            "\u001b[K     |████████████████████████████████| 43 kB 2.1 MB/s \n",
            "\u001b[K     |████████████████████████████████| 596 kB 80.2 MB/s \n",
            "\u001b[K     |████████████████████████████████| 352 kB 88.5 MB/s \n",
            "\u001b[?25h  Building wheel for py-cpuinfo (setup.py) ... \u001b[?25l\u001b[?25hdone\n",
            "  Building wheel for seqeval (setup.py) ... \u001b[?25l\u001b[?25hdone\n"
          ]
        }
      ],
      "source": [
        "!pip install -q -U \"tensorflow-text==2.8.*\"\n",
        "!pip install -q tf-models-official==2.7.0"
      ]
    },
    {
      "cell_type": "code",
      "execution_count": null,
      "metadata": {
        "colab": {
          "base_uri": "https://localhost:8080/"
        },
        "id": "ejUPQbS9UKyd",
        "outputId": "39bb7dbd-57fc-4204-bc9e-376272e69ed2"
      },
      "outputs": [
        {
          "output_type": "stream",
          "name": "stdout",
          "text": [
            "Mounted at /content/gdrive\n"
          ]
        }
      ],
      "source": [
        "import os\n",
        "import shutil\n",
        "from google.colab import drive \n",
        "import tensorflow as tf\n",
        "import tensorflow_hub as hub\n",
        "import tensorflow_text as text\n",
        "from official.nlp import optimization  # to create AdamW optimizer\n",
        "import matplotlib.pyplot as plt\n",
        "\n",
        "drive.mount(\"/content/gdrive\")\n",
        "tf.get_logger().setLevel('ERROR')\n",
        "\n",
        "\n",
        "bert_model_name = 'bert_en_uncased_L-12_H-768_A-12' \n",
        "\n",
        "map_name_to_handle = {\n",
        "    'bert_en_uncased_L-12_H-768_A-12':\n",
        "        'https://tfhub.dev/tensorflow/bert_en_uncased_L-12_H-768_A-12/3',\n",
        "    'bert_en_cased_L-12_H-768_A-12':\n",
        "        'https://tfhub.dev/tensorflow/bert_en_cased_L-12_H-768_A-12/3',\n",
        "    'bert_multi_cased_L-12_H-768_A-12':\n",
        "        'https://tfhub.dev/tensorflow/bert_multi_cased_L-12_H-768_A-12/3',\n",
        "    'small_bert/bert_en_uncased_L-2_H-128_A-2':\n",
        "        'https://tfhub.dev/tensorflow/small_bert/bert_en_uncased_L-2_H-128_A-2/1',\n",
        "    'small_bert/bert_en_uncased_L-2_H-256_A-4':\n",
        "        'https://tfhub.dev/tensorflow/small_bert/bert_en_uncased_L-2_H-256_A-4/1',\n",
        "    'small_bert/bert_en_uncased_L-2_H-512_A-8':\n",
        "        'https://tfhub.dev/tensorflow/small_bert/bert_en_uncased_L-2_H-512_A-8/1',\n",
        "    'small_bert/bert_en_uncased_L-2_H-768_A-12':\n",
        "        'https://tfhub.dev/tensorflow/small_bert/bert_en_uncased_L-2_H-768_A-12/1',\n",
        "    'small_bert/bert_en_uncased_L-4_H-128_A-2':\n",
        "        'https://tfhub.dev/tensorflow/small_bert/bert_en_uncased_L-4_H-128_A-2/1',\n",
        "    'small_bert/bert_en_uncased_L-4_H-256_A-4':\n",
        "        'https://tfhub.dev/tensorflow/small_bert/bert_en_uncased_L-4_H-256_A-4/1',\n",
        "    'small_bert/bert_en_uncased_L-4_H-512_A-8':\n",
        "        'https://tfhub.dev/tensorflow/small_bert/bert_en_uncased_L-4_H-512_A-8/1',\n",
        "    'small_bert/bert_en_uncased_L-4_H-768_A-12':\n",
        "        'https://tfhub.dev/tensorflow/small_bert/bert_en_uncased_L-4_H-768_A-12/1',\n",
        "    'small_bert/bert_en_uncased_L-6_H-128_A-2':\n",
        "        'https://tfhub.dev/tensorflow/small_bert/bert_en_uncased_L-6_H-128_A-2/1',\n",
        "    'small_bert/bert_en_uncased_L-6_H-256_A-4':\n",
        "        'https://tfhub.dev/tensorflow/small_bert/bert_en_uncased_L-6_H-256_A-4/1',\n",
        "    'small_bert/bert_en_uncased_L-6_H-512_A-8':\n",
        "        'https://tfhub.dev/tensorflow/small_bert/bert_en_uncased_L-6_H-512_A-8/1',\n",
        "    'small_bert/bert_en_uncased_L-6_H-768_A-12':\n",
        "        'https://tfhub.dev/tensorflow/small_bert/bert_en_uncased_L-6_H-768_A-12/1',\n",
        "    'small_bert/bert_en_uncased_L-8_H-128_A-2':\n",
        "        'https://tfhub.dev/tensorflow/small_bert/bert_en_uncased_L-8_H-128_A-2/1',\n",
        "    'small_bert/bert_en_uncased_L-8_H-256_A-4':\n",
        "        'https://tfhub.dev/tensorflow/small_bert/bert_en_uncased_L-8_H-256_A-4/1',\n",
        "    'small_bert/bert_en_uncased_L-8_H-512_A-8':\n",
        "        'https://tfhub.dev/tensorflow/small_bert/bert_en_uncased_L-8_H-512_A-8/1',\n",
        "    'small_bert/bert_en_uncased_L-8_H-768_A-12':\n",
        "        'https://tfhub.dev/tensorflow/small_bert/bert_en_uncased_L-8_H-768_A-12/1',\n",
        "    'small_bert/bert_en_uncased_L-10_H-128_A-2':\n",
        "        'https://tfhub.dev/tensorflow/small_bert/bert_en_uncased_L-10_H-128_A-2/1',\n",
        "    'small_bert/bert_en_uncased_L-10_H-256_A-4':\n",
        "        'https://tfhub.dev/tensorflow/small_bert/bert_en_uncased_L-10_H-256_A-4/1',\n",
        "    'small_bert/bert_en_uncased_L-10_H-512_A-8':\n",
        "        'https://tfhub.dev/tensorflow/small_bert/bert_en_uncased_L-10_H-512_A-8/1',\n",
        "    'small_bert/bert_en_uncased_L-10_H-768_A-12':\n",
        "        'https://tfhub.dev/tensorflow/small_bert/bert_en_uncased_L-10_H-768_A-12/1',\n",
        "    'small_bert/bert_en_uncased_L-12_H-128_A-2':\n",
        "        'https://tfhub.dev/tensorflow/small_bert/bert_en_uncased_L-12_H-128_A-2/1',\n",
        "    'small_bert/bert_en_uncased_L-12_H-256_A-4':\n",
        "        'https://tfhub.dev/tensorflow/small_bert/bert_en_uncased_L-12_H-256_A-4/1',\n",
        "    'small_bert/bert_en_uncased_L-12_H-512_A-8':\n",
        "        'https://tfhub.dev/tensorflow/small_bert/bert_en_uncased_L-12_H-512_A-8/1',\n",
        "    'small_bert/bert_en_uncased_L-12_H-768_A-12':\n",
        "        'https://tfhub.dev/tensorflow/small_bert/bert_en_uncased_L-12_H-768_A-12/1',\n",
        "    'albert_en_base':\n",
        "        'https://tfhub.dev/tensorflow/albert_en_base/2',\n",
        "    'electra_small':\n",
        "        'https://tfhub.dev/google/electra_small/2',\n",
        "    'electra_base':\n",
        "        'https://tfhub.dev/google/electra_base/2',\n",
        "    'experts_pubmed':\n",
        "        'https://tfhub.dev/google/experts/bert/pubmed/2',\n",
        "    'experts_wiki_books':\n",
        "        'https://tfhub.dev/google/experts/bert/wiki_books/2',\n",
        "    'talking-heads_base':\n",
        "        'https://tfhub.dev/tensorflow/talkheads_ggelu_bert_en_base/1',\n",
        "}\n",
        "\n",
        "map_model_to_preprocess = {\n",
        "    'bert_en_uncased_L-12_H-768_A-12':\n",
        "        'https://tfhub.dev/tensorflow/bert_en_uncased_preprocess/3',\n",
        "    'bert_en_cased_L-12_H-768_A-12':\n",
        "        'https://tfhub.dev/tensorflow/bert_en_cased_preprocess/3',\n",
        "    'small_bert/bert_en_uncased_L-2_H-128_A-2':\n",
        "        'https://tfhub.dev/tensorflow/bert_en_uncased_preprocess/3',\n",
        "    'small_bert/bert_en_uncased_L-2_H-256_A-4':\n",
        "        'https://tfhub.dev/tensorflow/bert_en_uncased_preprocess/3',\n",
        "    'small_bert/bert_en_uncased_L-2_H-512_A-8':\n",
        "        'https://tfhub.dev/tensorflow/bert_en_uncased_preprocess/3',\n",
        "    'small_bert/bert_en_uncased_L-2_H-768_A-12':\n",
        "        'https://tfhub.dev/tensorflow/bert_en_uncased_preprocess/3',\n",
        "    'small_bert/bert_en_uncased_L-4_H-128_A-2':\n",
        "        'https://tfhub.dev/tensorflow/bert_en_uncased_preprocess/3',\n",
        "    'small_bert/bert_en_uncased_L-4_H-256_A-4':\n",
        "        'https://tfhub.dev/tensorflow/bert_en_uncased_preprocess/3',\n",
        "    'small_bert/bert_en_uncased_L-4_H-512_A-8':\n",
        "        'https://tfhub.dev/tensorflow/bert_en_uncased_preprocess/3',\n",
        "    'small_bert/bert_en_uncased_L-4_H-768_A-12':\n",
        "        'https://tfhub.dev/tensorflow/bert_en_uncased_preprocess/3',\n",
        "    'small_bert/bert_en_uncased_L-6_H-128_A-2':\n",
        "        'https://tfhub.dev/tensorflow/bert_en_uncased_preprocess/3',\n",
        "    'small_bert/bert_en_uncased_L-6_H-256_A-4':\n",
        "        'https://tfhub.dev/tensorflow/bert_en_uncased_preprocess/3',\n",
        "    'small_bert/bert_en_uncased_L-6_H-512_A-8':\n",
        "        'https://tfhub.dev/tensorflow/bert_en_uncased_preprocess/3',\n",
        "    'small_bert/bert_en_uncased_L-6_H-768_A-12':\n",
        "        'https://tfhub.dev/tensorflow/bert_en_uncased_preprocess/3',\n",
        "    'small_bert/bert_en_uncased_L-8_H-128_A-2':\n",
        "        'https://tfhub.dev/tensorflow/bert_en_uncased_preprocess/3',\n",
        "    'small_bert/bert_en_uncased_L-8_H-256_A-4':\n",
        "        'https://tfhub.dev/tensorflow/bert_en_uncased_preprocess/3',\n",
        "    'small_bert/bert_en_uncased_L-8_H-512_A-8':\n",
        "        'https://tfhub.dev/tensorflow/bert_en_uncased_preprocess/3',\n",
        "    'small_bert/bert_en_uncased_L-8_H-768_A-12':\n",
        "        'https://tfhub.dev/tensorflow/bert_en_uncased_preprocess/3',\n",
        "    'small_bert/bert_en_uncased_L-10_H-128_A-2':\n",
        "        'https://tfhub.dev/tensorflow/bert_en_uncased_preprocess/3',\n",
        "    'small_bert/bert_en_uncased_L-10_H-256_A-4':\n",
        "        'https://tfhub.dev/tensorflow/bert_en_uncased_preprocess/3',\n",
        "    'small_bert/bert_en_uncased_L-10_H-512_A-8':\n",
        "        'https://tfhub.dev/tensorflow/bert_en_uncased_preprocess/3',\n",
        "    'small_bert/bert_en_uncased_L-10_H-768_A-12':\n",
        "        'https://tfhub.dev/tensorflow/bert_en_uncased_preprocess/3',\n",
        "    'small_bert/bert_en_uncased_L-12_H-128_A-2':\n",
        "        'https://tfhub.dev/tensorflow/bert_en_uncased_preprocess/3',\n",
        "    'small_bert/bert_en_uncased_L-12_H-256_A-4':\n",
        "        'https://tfhub.dev/tensorflow/bert_en_uncased_preprocess/3',\n",
        "    'small_bert/bert_en_uncased_L-12_H-512_A-8':\n",
        "        'https://tfhub.dev/tensorflow/bert_en_uncased_preprocess/3',\n",
        "    'small_bert/bert_en_uncased_L-12_H-768_A-12':\n",
        "        'https://tfhub.dev/tensorflow/bert_en_uncased_preprocess/3',\n",
        "    'bert_multi_cased_L-12_H-768_A-12':\n",
        "        'https://tfhub.dev/tensorflow/bert_multi_cased_preprocess/3',\n",
        "    'albert_en_base':\n",
        "        'https://tfhub.dev/tensorflow/albert_en_preprocess/3',\n",
        "    'electra_small':\n",
        "        'https://tfhub.dev/tensorflow/bert_en_uncased_preprocess/3',\n",
        "    'electra_base':\n",
        "        'https://tfhub.dev/tensorflow/bert_en_uncased_preprocess/3',\n",
        "    'experts_pubmed':\n",
        "        'https://tfhub.dev/tensorflow/bert_en_uncased_preprocess/3',\n",
        "    'experts_wiki_books':\n",
        "        'https://tfhub.dev/tensorflow/bert_en_uncased_preprocess/3',\n",
        "    'talking-heads_base':\n",
        "        'https://tfhub.dev/tensorflow/bert_en_uncased_preprocess/3',\n",
        "}\n",
        "\n",
        "tfhub_handle_encoder = map_name_to_handle[bert_model_name]\n",
        "tfhub_handle_preprocess = map_model_to_preprocess[bert_model_name]"
      ]
    },
    {
      "cell_type": "code",
      "execution_count": null,
      "metadata": {
        "colab": {
          "base_uri": "https://localhost:8080/",
          "height": 454
        },
        "id": "O4pXVlyFW9Wo",
        "outputId": "146cb5b7-59ff-4972-db04-d8498a84304e"
      },
      "outputs": [
        {
          "output_type": "stream",
          "name": "stdout",
          "text": [
            "Found 125879 files belonging to 2 classes.\n",
            "Using 100704 files for training.\n",
            "Found 0 files belonging to 2 classes.\n",
            "Using 0 files for validation.\n"
          ]
        },
        {
          "output_type": "error",
          "ename": "ValueError",
          "evalue": "ignored",
          "traceback": [
            "\u001b[0;31m---------------------------------------------------------------------------\u001b[0m",
            "\u001b[0;31mValueError\u001b[0m                                Traceback (most recent call last)",
            "\u001b[0;32m<ipython-input-4-8331ee760a79>\u001b[0m in \u001b[0;36m<module>\u001b[0;34m()\u001b[0m\n\u001b[1;32m     30\u001b[0m     \u001b[0mvalidation_split\u001b[0m\u001b[0;34m=\u001b[0m\u001b[0;36m0.2\u001b[0m\u001b[0;34m,\u001b[0m\u001b[0;34m\u001b[0m\u001b[0;34m\u001b[0m\u001b[0m\n\u001b[1;32m     31\u001b[0m     \u001b[0msubset\u001b[0m\u001b[0;34m=\u001b[0m\u001b[0;34m'validation'\u001b[0m\u001b[0;34m,\u001b[0m\u001b[0;34m\u001b[0m\u001b[0;34m\u001b[0m\u001b[0m\n\u001b[0;32m---> 32\u001b[0;31m     seed=seed)\n\u001b[0m\u001b[1;32m     33\u001b[0m \u001b[0;34m\u001b[0m\u001b[0m\n\u001b[1;32m     34\u001b[0m \u001b[0mval_ds\u001b[0m \u001b[0;34m=\u001b[0m \u001b[0mval_ds\u001b[0m\u001b[0;34m.\u001b[0m\u001b[0mcache\u001b[0m\u001b[0;34m(\u001b[0m\u001b[0;34m)\u001b[0m\u001b[0;34m.\u001b[0m\u001b[0mprefetch\u001b[0m\u001b[0;34m(\u001b[0m\u001b[0mbuffer_size\u001b[0m\u001b[0;34m=\u001b[0m\u001b[0mAUTOTUNE\u001b[0m\u001b[0;34m)\u001b[0m\u001b[0;34m\u001b[0m\u001b[0;34m\u001b[0m\u001b[0m\n",
            "\u001b[0;32m/usr/local/lib/python3.7/dist-packages/keras/preprocessing/text_dataset.py\u001b[0m in \u001b[0;36mtext_dataset_from_directory\u001b[0;34m(directory, labels, label_mode, class_names, batch_size, max_length, shuffle, seed, validation_split, subset, follow_links)\u001b[0m\n\u001b[1;32m    157\u001b[0m       file_paths, labels, validation_split, subset)\n\u001b[1;32m    158\u001b[0m   \u001b[0;32mif\u001b[0m \u001b[0;32mnot\u001b[0m \u001b[0mfile_paths\u001b[0m\u001b[0;34m:\u001b[0m\u001b[0;34m\u001b[0m\u001b[0;34m\u001b[0m\u001b[0m\n\u001b[0;32m--> 159\u001b[0;31m     raise ValueError(f'No text files found in directory {directory}. '\n\u001b[0m\u001b[1;32m    160\u001b[0m                      f'Allowed format: .txt')\n\u001b[1;32m    161\u001b[0m \u001b[0;34m\u001b[0m\u001b[0m\n",
            "\u001b[0;31mValueError\u001b[0m: No text files found in directory gdrive/My Drive/Thesis/BERT_task20092016AR/valid/. Allowed format: .txt"
          ]
        }
      ],
      "source": [
        "bert_preprocess_model = hub.KerasLayer(tfhub_handle_preprocess)\n",
        "bert_model = hub.KerasLayer(tfhub_handle_encoder)\n",
        "\n",
        "def build_classifier_model():\n",
        "  tf.keras.backend.clear_session()\n",
        "  text_input = tf.keras.layers.Input(shape=(), dtype=tf.string, name='text')\n",
        "  preprocessing_layer = hub.KerasLayer(tfhub_handle_preprocess, name='preprocessing', arguments = dict(seq_length=500))\n",
        "  encoder_inputs = preprocessing_layer(text_input)\n",
        "  encoder = hub.KerasLayer(tfhub_handle_encoder, trainable=True, name='BERT_encoder')\n",
        "  outputs = encoder(encoder_inputs)\n",
        "  net = outputs['pooled_output']\n",
        "  net = tf.keras.layers.Dropout(0.1)(net)\n",
        "  net = tf.keras.layers.Dense(1, activation='sigmoid', name='classifier')(net)\n",
        "  return tf.keras.Model(text_input, net)\n",
        "\n",
        "AUTOTUNE = tf.data.AUTOTUNE\n",
        "batch_size = 32\n",
        "seed = 42\n",
        "\n",
        "raw_train_ds = tf.keras.utils.text_dataset_from_directory(\n",
        "    \"gdrive/My Drive/Thesis/BERT_task20092016AR/train/\",\n",
        "    batch_size=batch_size,\n",
        "    validation_split=0.2,\n",
        "    subset='training',\n",
        "    seed=seed)\n",
        "\n",
        "val_ds = tf.keras.utils.text_dataset_from_directory(\n",
        "    \"gdrive/My Drive/Thesis/BERT_task20092016AR/valid/\",\n",
        "    batch_size=batch_size,\n",
        "    validation_split=0.2,\n",
        "    subset='validation',\n",
        "    seed=seed)\n",
        "\n",
        "val_ds = val_ds.cache().prefetch(buffer_size=AUTOTUNE)\n",
        "\n",
        "class_names = raw_train_ds.class_names\n",
        "train_ds = raw_train_ds.cache().prefetch(buffer_size=AUTOTUNE)\n",
        "\n",
        "loss = tf.keras.losses.BinaryCrossentropy()\n",
        "metrics = [tf.metrics.BinaryAccuracy(), tf.metrics.AUC()]\n",
        "epochs = 15\n",
        "steps_per_epoch = tf.data.experimental.cardinality(train_ds).numpy()\n",
        "num_train_steps = steps_per_epoch * epochs\n",
        "num_warmup_steps = int(0.1*num_train_steps)\n",
        "\n",
        "init_lr = 1e-4\n",
        "optimizer = optimization.create_optimizer(init_lr=init_lr,\n",
        "                                          num_train_steps=num_train_steps,\n",
        "                                          num_warmup_steps=num_warmup_steps,\n",
        "                                          optimizer_type='adamw')\n",
        "\n",
        "classifier_model = build_classifier_model()\n",
        "classifier_model.compile(optimizer=optimizer,\n",
        "                         loss=loss,\n",
        "                         metrics=metrics)\n",
        "\n",
        "history = classifier_model.fit(x=train_ds,\n",
        "                               validation_data=val_ds,\n",
        "                               epochs=epochs, \n",
        "                               verbose = 1)\n",
        "\n",
        "dataset_name = '2009_2016'\n",
        "saved_model_path = 'gdrive/My Drive/Thesis/{}_bert'.format(dataset_name.replace('/', '_'))\n",
        "\n",
        "classifier_model.save(saved_model_path, include_optimizer=False)"
      ]
    },
    {
      "cell_type": "code",
      "execution_count": null,
      "metadata": {
        "colab": {
          "base_uri": "https://localhost:8080/"
        },
        "id": "qpl4IfT9n1I2",
        "outputId": "669a715b-caf3-4012-89e6-f5aa47a68f15"
      },
      "outputs": [
        {
          "name": "stdout",
          "output_type": "stream",
          "text": [
            "(<tf.Tensor: shape=(32,), dtype=string, numpy=\n",
            "array([b'fidelity nasdaq composite index tracking stock  oneq   will begin trading ex dividend on june 00NUMBER00 00NUMBER00.a cash dividend payment of 00NUMBER00 00NUMBER00 per share is scheduled to be paid on june 00NUMBER00.shareholders who purchased oneq stock prior to the ex dividend date are eligible for the cash dividend payment.this marks the 00NUMBER00 quarter that oneq has paid the same dividend.the previous trading days last sale of oneq was 00NUMBER00 a 00NUMBER00 decrease from the 00NUMBER00 week high of 00NUMBER00 and a 00NUMBER00 increase over the 00NUMBER00 week low of 00NUMBER00.for more information on the declaration record and payment dates visit the oneq dividend history  page.our  dividend calendar  has the full list of stocks that have an ex dividend today.the views and opinions expressed herein are the views and opinions of the author and do not necessarily reflect those of nasdaq inc.',\n",
            "       b'top financial stocksjpm 00NUMBER00 00NUMBER00 00NUMBER00 00NUMBER00 00NUMBER00 stocks were declining in afternoon trade with the nyse financial sector index falling 00NUMBER00 and the sp 00NUMBER00 index retreating 00NUMBER00.in company news visa inc.v   declined friday with the credit card company and dow component responsible for much of of fridays decline for the blue chip index.it cut its future guidance prompting several analysts to also reduce their earnings forecasts for the company.we feel very confident that the headwinds will dissipate ceo charles scharf explained.what we dont know is the timing.the disappointing outlook upstaged better than expect earnings for the three months ended june 00NUMBER00 with the company reporting 00NUMBER00 increase to 00NUMBER00 billion on strong global payments volume and processed transactions.revenue grew 00NUMBER00 to 00NUMBER00 billion.several analysts their lowered earnings estimates following vs results.credit suisse cut its 00NUMBER00 earnings estimate from by 00NUMBER00 00NUMBER00 per share and trimmed its 00NUMBER00 outlook by 00NUMBER00 to 00NUMBER00 share to account for lower cross border fees and higher rebates and incentives partially offset by lower tax rate and more buyback.the research shop kept its price target of 00NUMBER00 a share.citigroup also revised its 00NUMBER00 and 00NUMBER00 eps estimates by 00NUMBER00 share to reflect a more cautious view on paymentrevenue growth rates also writing vs near term revenue trends are disappointing.v shares were down almost 00NUMBER00 in recent trade at 00NUMBER00 apiece earlier sinking to a session low of 00NUMBER00 a share.the stock has a 00NUMBER00 week range of 00NUMBER00 a share climbing about 00NUMBER00 over the past 00NUMBER00 months.in other sector news cyn 00NUMBER00 earns 00NUMBER00 per share during 00NUMBER00 beating consensus view by 00NUMBER00.epr 00NUMBER00 00NUMBER00 revenue rises 00NUMBER00 year over year to 00NUMBER00 but trails street view by 00NUMBER00.adjusted funds from operations of 00NUMBER00 per share match estimates.confirms 00NUMBER00 ffo of 00NUMBER00 to 00NUMBER00 in line with 00NUMBER00 consensus.the views and opinions expressed herein are the views and opinions of the author and do not necessarily reflect those of nasdaq inc.copyright c 00NUMBER00 mtnewswirescom.all rights reserved.unauthorized reproduction is strictly prohibited.',\n",
            "       b'smith wesson gun sales are exploding as people become concerned about their personal safety.photo screen capture from smith wesson video.turns out it wasnt the shot heard round the world.while many felt president barack obamas promise to do an end run around congress and enact new gun controls via executive action  would cripple the industry but spur massive gun sales in the interim its now being viewed as little more than incremental action at the edges.the stocks of gun manufacturers smith wesson holding  and sturm ruger  initially shot higher\\xc2\\xa0with the announcement of the executive action but have since returned to the levels they were trading at before the presidents press conference.but make no mistake gun stocks remain at markedly elevated levels.shares of smith wesson have more than doubled over the past year while ruger is up some 00NUMBER00.but while fear among gun owners and enthusiasts that the president would impose strict laws on ownership have fueled more than a few sales since he took office the white hot growth being witnessed in the past year seems to have little to do with anything obama was expected to propose and seems to have more to do with concerns about personal safety.earlier this month smith wesson announced that gun sales were growing at such a torrid pace it needed to scrap the earnings guidance  \\xc2\\xa0it gave just the month before and had raised from the prior quarter and would sharply boost its estimates of how well it would do in the fiscal third quarter and for the full year.quarterly net sales estimates were increased from a range between 00NUMBER00 million and 00NUMBER00 million to a new range of 00NUMBER00 to 00NUMBER00 million a 00NUMBER00 increase.quarterly earnings estimates were raised from a range between 00NUMBER00 and 00NUMBER00 per share to a new range of 00NUMBER00 00NUMBER00 per share better than a 00NUMBER00 increase.full year net sales estimate went from between 00NUMBER00 and 00NUMBER00 million up to a range of 00NUMBER00 million 00NUMBER00 million.full year earnings estimates were similarly raised from a range of 00NUMBER00 to 00NUMBER00 per share to a new range of 00NUMBER00 00NUMBER00 per sharewhile many have said the presidents anti gun rhetoric backfired and drove gun sales higher there seems to be a more basic impetus driving sales.my review of the top five best selling handguns across all of 00NUMBER00 show those designed for personal protection  \\xc2\\xa0were the ones most sought.smith wessons mp shield models that it introduced in 00NUMBER00 have proved so popular that theyve quickly become the best selling personal protection and self defense pistol on the market with the gunmaker producing its one millionth model during the second quarter.designed to be slim concealable and lightweight theyre perfect for those desiring to protect themselves their families and their property.other gun manufacturers have also benefited from demand for firearms that are designed for concealed carry.glock sig sauer and taurus have all produced handguns that ranked as the most popular handguns as determined by gunbrokercom the worlds largest online auction site for firearms and accessories.but the most popular handgun using data from that site was the kel tec pmr 00NUMBER00 that offers 00NUMBER00 stacked.00NUMBER00 magnum rounds in a compact lightweight design.chart by author from data provided by the fbi.if nothing else 00NUMBER00 is going to be remembered as the year that broke all records for background checks conducted by the fbi for people wanting to buy a firearm.more so than 00NUMBER00 which saw previous records broken in the aftermath of the sandy hook shooting last year was marred by violent civil unrest in places such as ferguson mo.and baltimore while terrorist incidents in san bernardino calif.and paris and convinced more people than ever they needed an effective means of self defense.beginning in may and continuing every single month thereafter the fbi conducted more background checks on people wanting to buy a gun than at any other time for that particular month.it culminated in december when more than 00NUMBER00 million investigations were conducted the first time it ever cracked that threshold.for all of 00NUMBER00 the fbi performed over 00NUMBER00 background checks.so it was not gun buyers responding to just the presidents words but rather to events unfolding around the world and a primal need for self protection.thats not likely to abate anytime soon which means smith wesson and sturm ruger will likely be shooting out the lights for some time to come.the next billion dollar isecret   the worlds biggest tech company forgot to show you something at its recent event but a few wall street analysts and the fool didnt miss a beat theres a small company thats powering their brand new gadgets and the coming revolution in technology.and we think its stock price has nearly unlimited room to run for early in the know investors to be one of them just click here.the article smith wesson holding corp.blasts sales earnings guidance.and thats a good thing.originally appeared on foolcom.copyright \\xc2\\xa9 00NUMBER00 00NUMBER00 the motley fool llc.all rights reserved.the motley fool has a  disclosure policy.the views and opinions expressed herein are the views and opinions of the author and do not necessarily reflect those of nasdaq inc.',\n",
            "       b'source gilead sciences.following its approval for use in hepatitis c genotype 00NUMBER00 last fall gilead sciences   harvoni became an instant success racking up billions of dollars in sales during its first two quarters on the market.those sales figures could head even higher in the second half of this year following the approval of harvoni in japan an important market that could be worth hundreds of millions of dollars in sales annually.a big and important market    japans spending on medicine per person is eclipsed only by spending in the united states and while there arent as many cases of hepatitis c in japan as there are in the u.s.there are still 00NUMBER00 million japanese diagnosed with the disease.the genotype 00NUMBER00 variation of hepatitis c represents 00NUMBER00 and 00NUMBER00 of all japanese cases and the majority of those genotype 00NUMBER00 patients are diagnosed with the genotype 00NUMBER00 rather than the 00NUMBER00 variation which is more common in america.currently these japanese patients are often treated with bristol myers squibb  s daklinzasunpreva combination regimen a therapy that won approval for use in japan last summer and is already racking up hundreds of millions of dollars in sales.in the first quarter bristol myers reported hepatitis c revenue of 00NUMBER00 million  in large part due to sales in japan.however harvonis approval could significantly dent bristol myers market share in japan because harvoni is arguably a better drug.in daklinzasunprevas phase 00NUMBER00 00NUMBER00 of japanese genotype 00NUMBER00 patients achieved a functional cure after taking the combination therapy for 00NUMBER00 00NUMBER00 of japanese genotype 00NUMBER00 patients taking harvoni for 00NUMBER00 weeks achieved a functional cure.because 00NUMBER00 of the patients in gilead sciences japanese study had the genotype 00NUMBER00 variation of the disease harvonis better efficacy and shorter treatment duration could make it the go to therapy in japan.source flickr user stockmonkeyscom.moving the needle    the financial impact of japans approval of harvoni on gilead sciences wont be known for a few more months.typically it takes about 00NUMBER00 days for a drug manufacturer and japanese regulators to agree on drug pricing and to get listed on japans list of drugs approved for reimbursement.usually those negotiations result in drug prices that are roughly 00NUMBER00 less than u.s.prices.although the market in japan is smaller than the market in america and harvoni prices are likely to be significantly lower there gilead sciences should still generate hundreds of millions of dollars in harvoni sales in japan.in the u.s.gilead sciences initially priced harvoni 00NUMBER00 for 00NUMBER00 weeks however competition and negotiations to allow for broader use of the drug are driving that price down by an estimated 00NUMBER00 this year or by 00NUMBER00.if we assume japan secures an additional 00NUMBER00 haircut then harvoni pricing could drop to roughly 00NUMBER00 in that market.at that price treating just 00NUMBER00 patients in the second half of this year could lead to gilead sciences reporting an additional 00NUMBER00 million in revenue this year.although that figure may not be nearly as eye popping as 00NUMBER00 billion in harvoni sales gilead sciences reported worldwide in 00NUMBER00 its not chump change either.for that reason harvonis approval in japan is likely one more reason investors should consider buying gilead sciences in their portfolios.this 00NUMBER00 trillion industry could destroy the internet   one bleeding edge technology is about to put the world wide web to bed.and if you act quickly you could be among the savvy investors who enjoy the profits from this stunning change.experts are calling it the single largest business opportunity in the history of capitalism...the economist  is calling it transformative...but youll probably just call it how i made my millions.dont be too late to the party  click here for one stock to own  when the web goes dark.the article what is the potential impact of gileads harvoni launching in japan  originally appeared on foolcom.copyright \\xc2\\xa9 00NUMBER00 00NUMBER00 the motley fool llc.all rights reserved.the motley fool has a  disclosure policy.the views and opinions expressed herein are the views and opinions of the author and do not necessarily reflect those of nasdaq inc.',\n",
            "       b'top energy stocksxom 00NUMBER00 00NUMBER00 00NUMBER00 00NUMBER00 00NUMBER00 stocks are sharply lower following steep declines in crude oil prices with the nyse energy index down 00NUMBER00 and a 00NUMBER00 for the sp energy index.crude oil for april delivery 00NUMBER00 lower at 00NUMBER00 a barrel while natural gas futures are up a penny to 00NUMBER00 per 00NUMBER00 million british thermal units.in company news chesapeake energy corp.chk   and private equity investors kolhlberg kravis roberts co.are teaming up to buy exploration and production interests in important oil and gas basins throughout the united states.both firms will provide 00NUMBER00 million to the venture with chk managing the royalty investment activities for a 00NUMBER00 management fee.chk has acquired about 00NUMBER00 million in royalties over the past decade with a company spokeswoman saying the deal with kkr will help it speed the pace of acquisitions.the views and opinions expressed herein are the views and opinions of the author and do not necessarily reflect those of nasdaq inc.copyright c 00NUMBER00 mtnewswirescom.all rights reserved.unauthorized reproduction is strictly prohibited.',\n",
            "       b'nearing the halfway mark in todays session here are the individual equity names with unusual option activity on optionmonsters actiontracker data system.cemex cx about 00NUMBER00 april 00NUMBER00 calls were bought for 00NUMBER00 as investors position for a rally in the mexican cement giant.cx 00NUMBER00 percent to 00NUMBER00.citrix systems ctxs an investor bought 00NUMBER00 january 00NUMBER00 00NUMBER00 for 00NUMBER00 and 00NUMBER00 looking for the cloud computing stock to push higher.ctxs fell 00NUMBER00 percent to 00NUMBER00.staples spls\\xc2\\xa0 more than 00NUMBER00 december 00NUMBER00 calls were purchased mostly for 00NUMBER00 as investors look for continued upside in the office supply chain.spls rose 00NUMBER00 percent to 00NUMBER00.the views and opinions expressed herein are the views and opinions of the author and do not necessarily reflect those of nasdaq inc.copyright \\xc2\\xa9 00NUMBER00 optionmonster\\xc2\\xae holdings inc.all rights reserved.',\n",
            "       b'suburban propane partners l.p.symbol sph has been named as a top 00NUMBER00 dividend paying utility stock according to dividend channel   which published its weekly dividendrank  report.the report noted that among utilities sph shares displayed both attractive valuation metrics and strong profitability metrics.the report also cited the strong quarterly dividend history at suburban propane partners l.p.and favorable long term multi year growth rates in key fundamental data points.the top 00NUMBER00 dividendranked utility stocks \\xc3\\xa2\\xc2\\xbbthe views and opinions expressed herein are the views and opinions of the author and do not necessarily reflect those of nasdaq inc.',\n",
            "       b'in trading on tuesday shares of mwi veterinary supply inc symbol mwiv crossed above their 00NUMBER00 day moving average 00NUMBER00 changing hands as high as 00NUMBER00 per share.mwi veterinary supply inc shares are currently trading up about 00NUMBER00 on the day.the chart below shows the one year performance of mwiv shares versus its 00NUMBER00 day moving averageclick here to find out which 00NUMBER00 other stocks recently crossed above their 00NUMBER00 day moving average \\xc3\\xa2\\xc2\\xbbthe views and opinions expressed herein are the views and opinions of the author and do not necessarily reflect those of nasdaq inc.',\n",
            "       b'wall street reversed course soon after the open wednesday turning south after the bureau of economic analysis reported its initial estimate for 00NUMBER00 gross domestic product along with rising inflationary pressures fueled concerns the federal reserve will increase short term interest rates sooner than expected.while the above consensus 00NUMBER00 rise in 00NUMBER00 gdp initially added to pre market gains investor sentiment quickly deteriorated after the opening bell when the full implications of strong growth and higher price pressures were digested.the dow jones industrial average and sp 00NUMBER00 were both in the red today although the nasdaq composite index continues to outperform thanks to stellar earnings results by twitter  twtr   and amgen  amgn   supporting significant gains in social media and biotech stocks respectively.the views and opinions expressed herein are the views and opinions of the author and do not necessarily reflect those of nasdaq inc.copyright c 00NUMBER00 mtnewswirescom.all rights reserved.unauthorized reproduction is strictly prohibited.',\n",
            "       b'you can have the best portfolio best mutual funds or etfs and the best investment season of your life behind you and blow it all in a moment by selling in a panic or by not selling before a panic there are oh so many ways depending on your unique personality and situation.it is this behavioral risk weve recently been discussing that may point successful people in the direction of a professional financial advisor whose role would essentially be to get between you and your money so you dont self destruct.i recall one fellow i knew a neighbor on my block whom id see very frequently.he was very intelligent had a hit movie way back when that he was still living off quite nicely and an investment portfolio of which he was very proud.when he first asked me about it or elements of it such as his investment in apple aapl i was happy to discuss it with him at length.i got less enthusiastic after the 00NUMBER00 time and as the years went by i found myself sometimes rushing to my car in avoidance.nice warm friendly guy but obsessed in an unhealthy way i thought with his portfolio.his problem was that as his portfolio continued to get ever larger so too did his fears of ruin grow in proportion.he was intrigued with the idea of getting a good financial advisor i recommended one of the best i knew whom i thought suitable they discussed his portfolio for a session lasting something like six hours.ultimately though he just couldnt accept the idea of paying the advisors fee given how well he had done on his own amassing those assets.im sure his portfolio has grown enormously since that ill fated meeting with the advisor but im also certain the fellow has little peace of mind as he tortures himself daily with stock market reports.if youve not already picked this up from previous posts of mine ill make explicit here that i believe investment success often has deeper roots in ones personality than ones portfolio.i dont assume my neighbor will enjoy all that wealth im certainly rooting for him because as i see it hes invested at least as much emotionally as he is financially.in an article titled how to retire on 00NUMBER00 marshmallows sa contributor t rail investor describes the famous stanford marshmallow experiment by psychologist walter mischel.in a nutshell mischel offered preschoolers the choice of a marshmallow right away or two if they could hang on for about 00NUMBER00 minutes.the significance of the study was not in the data showing the proportion of kids who were able to defer gratification for a greater reward later about a third but in the future life outcomes he observed by tracking them over time.the two marshmallow crowd had higher sat scores higher educational attainment favorable body mass index lower propensity to addictive behavior etc.i think t rail investor is correct in assuming that mischels research insight is applicable to investors.controlling for the correct variables in investment selection is one factor but can investors control themselves at all the right times e.g.buying selling and all points in betweenif by extrapolation from mischels study one assumes that a third of investors can do so then it would behoove the other two thirds to find a way impose the needed discipline externally.hiring a good advisor may be one way to do that.please share your thoughts as always in our comments section.meanwhile todays advisor related linksglenn doggett cfa advisors need to demonstrate their ethicsto clients.david allison cfa dont forget taxes when comparing dividend yields.american funds makes the case for active management.neuberger berman on inflation sensitive assets.maks financial services 00NUMBER00 utility cefsyou can still buy at a discount.lance roberts is working on not being wrongnear the end of this full market cycle.see also a reit backed by the full faith and credit of the u.s.governmenton seekingalphacomthe views and opinions expressed herein are the views and opinions of the author and do not necessarily reflect those of nasdaq inc.',\n",
            "       b'unitedhealth group inc.00NUMBER00  unh  unh 00NUMBER00 nyse is the largest and most diverse health insurance company in the united states.unitedhealth is actually much more than just an insurance company with its optum division providing 00NUMBER00 billion worth of technology pharmacy benefits management and other care services to its customers annually.the company has successfully navigated the changes required by the affordable care act and is cautiously participating in the new insurance exchanges.unitedhealth is also finding new growth internationally especially in brazil where the company serves almost 00NUMBER00 million people.from mario gabelli   trades   portfolio  s gabelli asset funds first quarter 00NUMBER00 shareholder commentary.about gurufocus gurufocuscom tracks the stocks picks and portfolio holdings of the worlds best investors.this value investing site offers stock screeners and valuation tools.and publishes daily articles tracking the latest moves of the worlds best investors.gurufocus also provides promising stock ideas in 00NUMBER00 newsletters sent to premium members.this article first appeared on gurufocus.the views and opinions expressed herein are the views and opinions of the author and do not necessarily reflect those of nasdaq inc.',\n",
            "       b'00NUMBER00 wasnt a good year for macys   the stock dropped nearly 00NUMBER00 but the company hopes to help the situation with 00NUMBER00 store closings and more than 00NUMBER00.in this video segment motley fool analysts sean oreilly and vincent shen talk about what the retailer is hoping to accomplish.listen to the full podcast by clicking here.a transcript follows the video.the next billion dollar isecret   the worlds biggest tech company forgot to show you something at its recent event but a few wall street analysts and the fool didnt miss a beat theres a small company thats powering their brand new gadgets and the coming revolution in technology.and we think its stock price has nearly unlimited room to run for early in the know investors to be one of them just click here.this podcast was recorded on jan.00NUMBER00 00NUMBER00.sean oreilly  so now were talking about my favorite retail brand and yours macys.they just announced a bunch of store closings.what was it 00NUMBER00 shen  yes.store closings and layoffs.so we mentioned under armour  \\xc2\\xa0had a pretty good year i think up 00NUMBER00 like we said.oreilly  macys not so much.shen  macys has been struggling a little bit more.i have this down here where...oreilly  and theyre not just for listeners that may or may not be aware theyre not an outlier here.nordstrom   dillards...they all had a rough second half of last year.shen  absolutely.so stock was down 00NUMBER00 in 00NUMBER00 and pretty much all of that decline came after july.so the stock peaked around 00NUMBER00 its trading at about half that now.and the most recent announcement that from what ive seen has actually pushed the stock up quite a bit year to date is around those store closings that you mentioned about 00NUMBER00 stores.four of them they were already closed last year.00NUMBER00 will be closed through the spring of this year.some of those are local.they include stores around chesapeake glen allen norfolk richmond virginia...and theyre hoping along with the store closings and the layoffs...theyre laying off 00NUMBER00 employees.that includes 00NUMBER00 sales associates so about three to four sales associates per macys and bloomingdales location that they currently have.and then another 00NUMBER00 office service center employees.and even in terms of the senior management theyre giving 00NUMBER00 senior executives a voluntary separation opportunity.so all thats going to add up...oreilly  is that like conscious uncoupling laughs what is thatshen  so i think overall thats going to add up for a big part of that in terms of their expense reduction which is going to be a big focus for them this year.oreilly  well not only that but their average sales per store will automatically go up.no offense to any of these stores but theyre not closing the new york or the tysons corner macys or the...its in like buffalo new york...actually were losing one in hagerstown maryland up here in the dc metro area.theres one in akron ohio at the chapel hill mall thats very close to where i grew up.theyre not closing major stores.what theyre trying to do is pivot to a mix...and were maybe getting ahead of ourselves here but i love this move because theyre pivoting through having these huge amazon   like distribution centers for online sales.if you want to go shopping you can find a macys but its going to be in a higher density urban area and theyll just mail it to you i guess i dont know.shen  im glad you mentioned that.youre absolutely right.these store closings are obviously going to be of their lower performing locations.they actually specifically say that 00NUMBER00 stores will account for about 00NUMBER00 million in annual revenue.keep in mind that their annual revenue overall 00NUMBER00 00NUMBER00 billion dollars.drop in the bucket.also keep in mind that...theyre hoping that 00NUMBER00 million doesnt just completely poof and go off because some of those sales that might have happened at those locations will be diverted to nearby stores for example.and also through their online efforts.macys now has really focused on their omni channel strategy about making the shopping experience attractive for somebody whos online picking up in store or actually going to the store to shop.oreilly  its just a good move because thats inventory they dont have in these lower performing stores...its a good move.the article why this major retailer is closing 00NUMBER00 of its stores  originally appeared on foolcom.copyright \\xc2\\xa9 00NUMBER00 00NUMBER00 the motley fool llc.all rights reserved.the motley fool has a  disclosure policy.the views and opinions expressed herein are the views and opinions of the author and do not necessarily reflect those of nasdaq inc.',\n",
            "       b'on mar 00NUMBER00 zacks investment research upgraded bridge capital holdings   bbnk   to zacks rank 00NUMBER00 strong buy.the views and opinions expressed herein are the views and opinions of the author and do not necessarily reflect those of nasdaq inc.',\n",
            "       b'blackrock municipal target term trust inc.btt   will begin trading ex dividend on march 00NUMBER00 00NUMBER00.a cash dividend payment of 00NUMBER00 per share is scheduled to be paid on april 00NUMBER00.shareholders who purchased btt stock prior to the ex dividend date are eligible for the cash dividend payment.this marks the 00NUMBER00 that btt has paid the same dividend.at the current stock price of 00NUMBER00 the dividend yield is 00NUMBER00.the previous trading days last sale of btt was 00NUMBER00 a 00NUMBER00 decrease from the 00NUMBER00 week high of 00NUMBER00 and a 00NUMBER00 increase over the 00NUMBER00 week low of 00NUMBER00.for more information on the declaration record and payment dates visit the btt dividend history  page.the views and opinions expressed herein are the views and opinions of the author and do not necessarily reflect those of nasdaq inc.',\n",
            "       b'spectrum pharmaceuticals is a fast growing drug maker and the bulls are looking for more upside.optionmonsters heat seeker tracking system detected the purchase of more than 00NUMBER00 august 00NUMBER00 calls first for 00NUMBER00 but then for as much as 00NUMBER00 as shares pushed higher.the august 00NUMBER00 were also active but many were sold as investors took profits amid the rally.sppi ended the session up by 00NUMBER00 percent at 00NUMBER00.the companys revenue more than tripled the last time it released earnings on 00NUMBER00 fueled by growth of its fusilev colorectal cancer drug.the stock pulled back after the report and bounced along its 00NUMBER00 day moving average before continuing to rally in late june.the shares are now pushing against a resistance level thats been in place since 00NUMBER00 and chart watchers may expect a major rally if its broken.short interest was about 00NUMBER00 percent of the float as of june 00NUMBER00 which could also drive sppi higher.overall option volume in the name was 00NUMBER00 times greater than average with calls outnumbering puts by 00NUMBER00 to 00NUMBER00.the views and opinions expressed herein are the views and opinions of the author and do not necessarily reflect those of nasdaq inc.copyright \\xc2\\xa9 00NUMBER00 optionmonster\\xc2\\xae holdings inc.all rights reserved.',\n",
            "       b'weibo chinas largest microblogging service with 00NUMBER00 maus and a spinoff of sina raised 00NUMBER00 million by offering 00NUMBER00 million adss down from 00NUMBER00 million at 00NUMBER00 the low end of the 00NUMBER00 00NUMBER00 range.weibo raised 00NUMBER00 fewer proceeds than initially expected and now commands a 00NUMBER00 billion fully diluted market cap 00NUMBER00 billion ev.weibo will list on the nasdaq under the symbol wb.goldman sachs asia credit suisse morgan stanley and piper jaffray acted as lead managers on the deal.the views and opinions expressed herein are the views and opinions of the author and do not necessarily reflect those of nasdaq inc.',\n",
            "       b'top financial stocksjpm 00NUMBER00 00NUMBER00 00NUMBER00 00NUMBER00 00NUMBER00 stocks were mostly lower wednesday with the nyse financial sector index slipping 00NUMBER00 and the sp financial 00NUMBER00 falling about 00NUMBER00.in company news brixmor property group inc.brx   was narrowly higher in wednesday mid day trade reversing an early decline that followed the real estate investment trusts announcing a secondary offering of the remaining 00NUMBER00 million shares of its stock now held by investors affiliated with centerbridge partners lp.the company will not receive any proceeds from the offering.brx shares were ahead about 00NUMBER00 at 00NUMBER00 apiece in recent trade after falling to a session low of 00NUMBER00 a share soon after the opening bell.the stock has traded within a 00NUMBER00 week range 00NUMBER00 to 00NUMBER00 a share rising 00NUMBER00 over the past 00NUMBER00 months through tuesdays close.in other sector news vpfg 00NUMBER00 receives all regulatory approvals needed to complete its merger with legacytexasgroup inc.once the deal is completed expected in february the combined companies will operate as legacytexas financial group and trade under the ltxb ticker.mcc 00NUMBER00 cut to hold from buy at the maxim group which also trimmed its price target for the stock by 00NUMBER00 to 00NUMBER00 a share.the views and opinions expressed herein are the views and opinions of the author and do not necessarily reflect those of nasdaq inc.copyright c 00NUMBER00 mtnewswirescom.all rights reserved.unauthorized reproduction is strictly prohibited.',\n",
            "       b'talking pointscrude oil copper vulnerable as bis warns on limits of loose monetary policiesgold and silver may decline if risk aversion stokes haven demand for us dollarcommodities appear vulnerable after the bank of international settlements  bis   said despite central banks being cornered into prolonging monetary stimulus accommodative policies have their limits in its annual report.the statement weighed on sentiment in asian trade   disappointing traders hopeful that the federal reserve will help the fragile us recovery offset headwinds from sluggish performance in europe and asia with a third quantitative easing effort 00NUMBER00 which policymakers opted against last week.read more on international business timesthe views and opinions expressed herein are the views and opinions of the author and do not necessarily reflect those of nasdaq inc.',\n",
            "       b'it can be very difficult to find companies that are both flying under the radar and still might have potential for gains.many times stocks are off investors radar screens for a reason though there are some hidden gems that could be worth uncovering by those with a high risk tolerance.the views and opinions expressed herein are the views and opinions of the author and do not necessarily reflect those of nasdaq inc.',\n",
            "       b'investors in akorn inc symbol akrx saw new options become available this week for the may 00NUMBER00 expiration.at stock options channel our yieldboost formula has looked up and down the akrx options chain for the new may 00NUMBER00 contracts and identified one put and one call contract of particular interest.because the 00NUMBER00 strike represents an approximate 00NUMBER00 discount to the current trading price of the stock in other words it is out of the money by that percentage there is also the possibility that the put contract would expire worthless.the current analytical data including greeks and implied greeks suggest the current odds of that happening are 00NUMBER00.stock options channel will track those odds over time to see how they change publishing a chart of those numbers on our website under the contract detail page for this contract.should the contract expire worthless the premium would represent a 00NUMBER00 return on the cash commitment or 00NUMBER00 annualized at stock options channel we call this the yieldboost.considering the fact that the 00NUMBER00 strike represents an approximate 00NUMBER00 premium to the current trading price of the stock in other words it is out of the money by that percentage there is also the possibility that the covered call contract would expire worthless in which case the investor would keep both their shares of stock and the premium collected.the current analytical data including greeks and implied greeks suggest the current odds of that happening are 00NUMBER00.on our website under the contract detail page for this contract stock options channel will track those odds over time to see how they change and publish a chart of those numbers the trading history of the option contract will also be charted.should the covered call contract expire worthless the premium would represent a 00NUMBER00 boost of extra return to the investor or 00NUMBER00 annualized which we refer to as the yieldboost.top yieldboost calls of the sp 00NUMBER00 \\xc3\\xa2\\xc2\\xbbthe views and opinions expressed herein are the views and opinions of the author and do not necessarily reflect those of nasdaq inc.',\n",
            "       b'investors plug in dycoms latest numbers and dont like the result.image source getty images.shares of dycom industriesnyse dy stock dove 00NUMBER00 in early tuesday trading in response to a fiscal 00NUMBER00 00NUMBER00 earnings reportreleased the previous evening.the shares have since recovered somewhat all the way up to a 00NUMBER00 loss as of 00NUMBER00 p.m.est.media reports are characterizing dycoms report as an earnings beat with pro forma earnings of 00NUMBER00 for the quarter exceeding analyst estimates by 00NUMBER00 and net profits jumping 00NUMBER00 year over year to hit 00NUMBER00 per share.nonetheless dycoms quarterly revenue of 00NUMBER00 million up 00NUMBER00 year over year fell just short of consensus predictions of 00NUMBER00 million in revenues.that doesnt sound like such bad news superb growth in both revenues and profits a modest beat on earnings and only a tiny miss on revenues.regardless investors are punishing dycom shares with a huge sell off in response.whyno matter how well dycom performed last quarter investors appear fretful about the future.dycom cut its estimate of its own contract backlog by 00NUMBER00 million in response to lower than expected prospects for its newly acquired goodman networks subsidiary cut its revenue expectations as well and issued new guidance for fiscal 00NUMBER00 that fell broadly short of analyst expectations.according to management total contract revenues for the second quarter of fiscal 00NUMBER00 will range between 00NUMBER00 million and 00NUMBER00 million.analysts were looking for something much closer to the high end of that range 00NUMBER00 million.profits will likely fall between 00NUMBER00 and 00NUMBER00 gaap or 00NUMBER00 and 00NUMBER00 pro forma.analyst estimates given in pro forma form were calling for 00NUMBER00.long story short its still possible for dycom to meet or even beat expectations in the current second fiscal quarter but its looking increasingly unlikely and investors dont like thatnews one bit.00NUMBER00 stocks we like better than dycom industries when investing geniuses david and tom gardner have a stock tip it can pay to listen.after all the newsletter they have run for over a decade motley fool stock advisor has tripled the market.david and tom just revealed what they believe are theten best stocks for investors to buy right now...and dycom industries wasnt one of them thats right they think these 00NUMBER00 stocks are even better buys.click here to learn about these picksstock advisor returns as of november 00NUMBER00 00NUMBER00 contributorrich smith\\xc2\\xa0does not own shares of nor is he short any company named above.you can find him onmotley fool caps publicly pontificating under the handletmfditty where he currently ranks no.00NUMBER00 out of more than 00NUMBER00 rated members.the motley fool has no position in any of the stocks mentioned.try any of our foolish newsletter services free for 00NUMBER00 days.we fools may not all hold the same opinions but we all believe that considering a diverse range of insightsmakes us better investors.the motley fool has a disclosure policy.the views and opinions expressed herein are the views and opinions of the author and do not necessarily reflect those of nasdaq inc.',\n",
            "       b'investors in marvell technology group ltd.symbol mrvl saw new options become available today for the march 00NUMBER00 expiration.at stock options channel our yieldboost formula has looked up and down the mrvl options chain for the new march 00NUMBER00 contracts and identified one put and one call contract of particular interest.because the 00NUMBER00 strike represents an approximate 00NUMBER00 discount to the current trading price of the stock in other words it is out of the money by that percentage there is also the possibility that the put contract would expire worthless.the current analytical data including greeks and implied greeks suggest the current odds of that happening are 00NUMBER00.stock options channel will track those odds over time to see how they change publishing a chart of those numbers on our website under the contract detail page for this contract.should the contract expire worthless the premium would represent a 00NUMBER00 return on the cash commitment or 00NUMBER00 annualized at stock options channel we call this the yieldboost.considering the fact that the 00NUMBER00 strike represents an approximate 00NUMBER00 premium to the current trading price of the stock in other words it is out of the money by that percentage there is also the possibility that the covered call contract would expire worthless in which case the investor would keep both their shares of stock and the premium collected.the current analytical data including greeks and implied greeks suggest the current odds of that happening are 00NUMBER00.on our website under the contract detail page for this contract stock options channel will track those odds over time to see how they change and publish a chart of those numbers the trading history of the option contract will also be charted.should the covered call contract expire worthless the premium would represent a 00NUMBER00 boost of extra return to the investor or 00NUMBER00 annualized which we refer to as the yieldboost.top yieldboost calls of stocks conducting buybacks \\xc2\\xbbthe views and opinions expressed herein are the views and opinions of the author and do not necessarily reflect those of nasdaq inc.',\n",
            "       b'chemical financial corporation   chfc   announced impressive second quarter results in late july which included an earnings surprise of 00NUMBER00.this regional bank has now outperformed the zacks consensus estimate in 00NUMBER00 of the last 00NUMBER00 with an average beat of 00NUMBER00.the views and opinions expressed herein are the views and opinions of the author and do not necessarily reflect those of nasdaq inc.',\n",
            "       b'fashion retailer nordstrom inc.jwn \\r reported increased profits for the quarter but missed analysts\\r estimates friday.the seattle wa based company reported third quarter earnings 00NUMBER00 million or 00NUMBER00 cents per share up 00NUMBER00 from last years\\r earnings of 00NUMBER00 million or 00NUMBER00 cents per share.analyst expected\\r to see 00NUMBER00 cents per share.revenue for the quarter was 00NUMBER00 billion up 00NUMBER00 from last\\r year and beating analysts estimates of 00NUMBER00 billion.although jwn missed estimates for the quarter the company did\\r put more money into their customer rewards program.the company\\r also reported that they plan to expand internationally entering\\r canada in 00NUMBER00.looking ahead the company has increased its full year earnings\\r outlook from a range of 00NUMBER00 to 00NUMBER00 per share to a range 00NUMBER00 to 00NUMBER00 per share.nordstrom shares were down 00NUMBER00 or 00NUMBER00 during premarket\\r trading friday.the bottom line\\r  shares of nordstrom jwn have a 00NUMBER00 dividend\\r yield based on last nights closing stock price of 00NUMBER00.the\\r stock has technical support in the 00NUMBER00 00NUMBER00 price area.the stock is\\r trading near all time highs of 00NUMBER00 a share.nordstrom inc.jwn is not recommended\\r at this time holding a dividendcom dars\\xe2\\x84\\xa2 rating of 00NUMBER00 out of 00NUMBER00.be sure to visit our complete recommended list of the best dividend stocks as well\\r as a detailed explanation of our ratings system here.the views and opinions expressed herein are the views and opinions of the author and do not necessarily reflect those of nasdaq inc.created by dividendcom',\n",
            "       b'netflix  stock has been on a tear for the past 00NUMBER00 years rising from less than 00NUMBER00 to an all time high of more than 00NUMBER00 last month.this rally has been fueled by rapid subscriber growth that always seems to beat expectations no matter how aggressive those expectations had become.netflix 00NUMBER00 year stock chart data by ychartsinvestors got a rude awakening last week.while netflix managed to beat its guidance and the average analyst estimate for 00NUMBER00 earnings virtually everything else in its earnings report was discouraging.in fact netflix disappointed investors in 00NUMBER00 ways.slowing domestic growth was the first and most consequential way in which netflix disappointed investors.in july netflix projected that it would add 00NUMBER00 million members in the u.s.during 00NUMBER00.however netflix only managed to add 00NUMBER00 domestic subscribers.netflixs management tried to downplay this missed forecast.for the past few quarters netflix has provided its internal forecast for various metrics including subscriber growth.it had warned investors that sometimes it would beat this forecast and sometimes it would fall short.however this was the first time it fell short by more than 00NUMBER00 on any  metric.apparently netflixs forecasts arent as conservative as many investors had believed.fewer people than expected signed up for netflix last quarter photo the motley foola bigger warning sign was the fact that domestic growth was much slower than in 00NUMBER00 00NUMBER00 when netflix added 00NUMBER00 million domestic streaming subscribers.this is the second straight quarter with lower domestic subscriber growth year over year.however while the 00NUMBER00 shortfall could be explained by seasonality that cant explain what happened last quarter.netflix executives attributed the weaker 00NUMBER00 growth to the impact of a 00NUMBER00 price increase applied to new subscribers back in may stating slightly higher prices result in slightly less growth.netflix is also projecting slower domestic growth 00NUMBER00 with 00NUMBER00 million subscriber additions down from 00NUMBER00 in 00NUMBER00 00NUMBER00.for the full year netflix now expects to add 00NUMBER00 million domestic streaming subscribers.thats down 00NUMBER00 from the 00NUMBER00 million added in 00NUMBER00.this indicates that saturation may be setting in   leading to progressively slower growth in each of the next few years.its too early to be sure that this is the case as subscriber growth has only been slowing for 00NUMBER00 quarters now.nevertheless netflix investors now need to take this threat seriously.in addition to reporting slower domestic growth netflix also released a revised target for margin growth in its domestic streaming business.for the past 00NUMBER00 years netflix has aimed to grow its domestic streaming contribution margin by 00NUMBER00 basis points per quarter or 00NUMBER00 basis points per year on average.so far it has outperformed this guidance.since 00NUMBER00 00NUMBER00 when netflix began reporting domestic streaming contribution margin that metric has risen from 00NUMBER00 to 00NUMBER00.it expects to keep its streaming contribution margin roughly flat in 00NUMBER00 which would amount to an average annual increase of almost 00NUMBER00 basis points for the past 00NUMBER00 years.in recent years netflix has grown its domestic streaming margin despite adding lots of expensive content photo the motley foolin july netflix disclosed that it was reevaluating its expectations for contribution margin growth beyond the 00NUMBER00 level which it expects to reach in early 00NUMBER00.last week netflix confirmed that it expects the domestic streaming contribution margin to rise by only 00NUMBER00 basis points annually going forward less than half of the recent growth rate.that includes the benefit of the recent price increase which will hit longtime netflix members in 00NUMBER00.this implies that content costs will rise faster than ever thanks to the addition of new original series netflixs foray into original movies new syndication deals such as the recently announced deal to bring friends  to netflix and the disney  pay tv window deal announced in 00NUMBER00.while netflixs domestic results disappointed investors in terms of the pace of revenue growth and margin expansion the companys international results werent great either.netflix gained 00NUMBER00 million international subscribers well below its forecast of 00NUMBER00 million international subscriber additions.this was still a substantial acceleration from the 00NUMBER00 international subscribers added in the prior year period.however netflix expanded its international addressable market by more than 00NUMBER00 with its entry into new markets like france and germany in september.in this context the gains werent very exciting.that said netflix was only available in its new markets for the last 00NUMBER00 weeks of 00NUMBER00.the real problem is that netflix is forecasting only 00NUMBER00 million international subscriber additions in 00NUMBER00.netflixs new european markets arent contributing much growth yet photo the motley foolwhile that would be better than the 00NUMBER00 million international subscribers it added in 00NUMBER00 00NUMBER00 the projected increase in growth is less than 00NUMBER00.thats not much bang for the buck given the scale and cost of netflixs european expansion.the last way in which netflix disappointed investors was its forecast that international losses will remain high for the near future.first it announced that a change in value added tax rules will increase its average vat rate in europe by 00NUMBER00 points.since it isnt raising prices to compensate this amount comes directly out of its contribution margin.second cfo david wells stated that international contribution losses in the future\\xc2\\xa0could return to the peak level of 00NUMBER00 reached in 00NUMBER00 00NUMBER00.that would be even greater than 00NUMBER00 million international contribution loss projected for next quarter.in other words investors may be in for a prolonged period of high international losses even though the international markets introduced before this year are collectively profitable.losses from the recently launched countries and future launches will overwhelm the earnings from other international territories.netflix stock fell nearly 00NUMBER00 on thursday following this disappointing earnings report.still some netflix bulls are undeterred.one analyst reduced his price target from 00NUMBER00 00NUMBER00 but still recommended the stock as a great buy  at current levels.another investment bank offered similar comments.another analyst called the stock sell off a tempest in a teapot that was an overreaction.in some sense a 00NUMBER00 sell off seems harsh for a company that is still growing quite rapidly.however i still think this is a bad time to bet on netflix because the stock price was far higher coming into the earnings report than it should have been.there was no way to predict that netflixs 00NUMBER00 earnings report would fall short of expectations in so many ways.however it should have been obvious that the company was likely to stumble at some point even the best businesses do from time to time.netflixs pre earnings stock price only made sense if netflix could go for years without hitting any bumps in the road.analysts still seem to be overconfident about netflix stock.in spite of all the news delivered on wednesday many analysts are still projecting strong earnings growth next year due to margin expansion.however between rising corporate overhead costs the european vat increase rising content costs and slowing domestic growth this scenario now seems less realistic.of course its possible that netflixs subscriber growth is about to reaccelerate and it will return to its earlier trend of routinely crushing its guidance.netflixs disappointing 00NUMBER00 why investors shouldnt count on that.slower domestic growth may be the new normal and international profitability may still be a few years away.your cable company is scared but you can get rich    you know cables going away.but do you know how to profit\\xc2\\xa0theres 00NUMBER00 trillion out there to be had.currently cable grabs a big piece of it.that wont last.and when cable falters three companies are poised to benefit.click here  \\xc2\\xa0for their names.hint you wont find netflix on this listthe 00NUMBER00 ways that netflix inc.disappointed investors last week  originally appeared on foolcom.copyright \\xc3\\xa2\\xc2\\xa9 00NUMBER00 00NUMBER00 the motley fool llc.all rights reserved.the motley fool has a  disclosure policy.the views and opinions expressed herein are the views and opinions of the author and do not necessarily reflect those of nasdaq inc.',\n",
            "       b'its\\xc2\\xa0not everyday that a company gives up an important piece of its business after it has led the market for nearly a decade.but in this segment from  industry focus consumer goods    motley fool analysts vincent shen and asit sharma explain why alcoholic beverage company constellation brands  nyse stz \\xc2\\xa0is doing exactly that as management prepares to spin off its canadian wine portfolio in an ipo on the toronto stock exchange.also they take a look at a few reasons why the segment saw declining sales last year that may have accelerated the decision making process.a transcript follows the video.a secret billion dollar stock opportunity   the worlds biggest tech company forgot to show you something but a few wall street analysts and the fool didnt miss a beat theres a small company thats powering their brand new gadgets and the coming revolution in technology.and we think its stock price has nearly unlimited room to run for early in the know investors to be one of them just click here.videothis podcast was recorded on jun.00NUMBER00 00NUMBER00.vincent shen  you mentioned the growth rates do you feel like that is potentially one of the reasons why the company is really thinking about spinning off what they have in canada which is one of the leading wine producers i think one of the top premium wine names worldwide actually.could you just walk us through maybe a little bit what management is thinking with this spin off if this really makes senseasit sharma  sure.in the companys most recent conference call management said hey canadian wine business isnt getting the visibility we think it deserves.these conference calls are great.you have to almost have a google translate for management speak.i want to translate that for you.what that really means is hey we dont think this canadian wine business is returning as much to our bottom line as it should because obviously if this was making good money out in the canadian market then there would be no need to spin it off.if you look at this business it was acquired several years ago and has never really been a huge part of the business.maybe it was destined to grow at a good clip but that growth never really materialized.last year the canadian wine business booked about less 00NUMBER00 million in sales thats in u.s.dollars.the previous year it booked just under 00NUMBER00 million in sales.you actually see a little bit of decline in that business.now we have to look at the reason for this.number one is that the u.s.dollar has really ramped up against world currencies.anyone who invests in consumer goods knows this because youve seen the reports come back and the companies you hold and they always cite dollar strength and foreign currency translation.those are sort of buzz words our earnings arent as great as we expected that they would be.but over the border the loonie the canadian dollar has really depreciated versus the green buck.its trading just under 00NUMBER00 to one u.s.dollar.what that means is when constellation brands translates its earning back into dollars it takes a big slice off the top.the other thing which weve seen this goes back to vince your comment about acquisitions constellation brands management has taken on quite a lot of debt to finance acquisitions and also to build up capacity.the debt keeps growing but so do the earnings because these are typically smart acquisitions.when you start doing this cyclically like almost every year you start to look at the other parts of your business and those that arent growing as quickly dont look as great to you because they have a limited capacity to pay that debt down.what management really wanted to do here is to trade one thing for another.theyd like to give wings to the canadian wine business let it fly on its own take those proceeds pay down some debt.once that debt is paid down theyre going to re up theyre going to borrow more money and maybe buy some more of these craft beer companies that weve talked about.the views and opinions expressed herein are the views and opinions of the author and do not necessarily reflect those of nasdaq inc.',\n",
            "       b'investorplace  investorplace stock market news stock advice trading tipsas i write this shares of the walt disney co\\xc2\\xa0    dis    are\\xc2\\xa0headed down in pre market activity after a small bump ahead on tuesday.compared with 00NUMBER00 00NUMBER00 revenues rose 00NUMBER00 to 00NUMBER00 billion.this beat the 00NUMBER00 billion consensus estimate by 00NUMBER00.breaking it down disneys media networks revenues rose 00NUMBER00 parks and resorts revenues climbed 00NUMBER00 studio entertainment sales jumped 00NUMBER00 and consumer products sales fell 00NUMBER00.under its studio entertainment segment disney recently released several blockbuster hits like captain america civil war the jungle book  and finding dory.disney also continued to profit from its earlier release star wars the force awakens.meanwhile net income climbed 00NUMBER00 year on year to 00NUMBER00 billion or 00NUMBER00 per share.excluding special items adjusted eps 00NUMBER00 this beat the 00NUMBER00 eps consensus estimate by a penny.in other news walt disney also announced that it is acquiring a minority stake in bam tech for 00NUMBER00 billion.bamtech is a leading direct to consumer streaming service provider.the company 00NUMBER00 million paid subscribers.as part of the deal bamtech will partner up with disney to deliver streaming video from disneys various media networks including disney abc and espn.00NUMBER00 no name tech stocks that will make you richwhile this was a generally solid report disney shares fell on the news that ad revenues fell for espn.as far as im concerned dis isnt a strong enough growth stock.if you run it through portfolio grader   you can see that dis earns a d rating overall.thats due to a combination of lackluster fundamentals and a rock bottom quantitative grade.however if youre looking for a solid dividend stock thats a different story.dis is an a rated stock in dividend grader.it offers a 00NUMBER00 annual dividend yield and is known for consistently raising its dividend.disney has more than doubled its annual payout over the past five years.the bottom line is that i dont recommend dis as a growth stock but it does have an attractive dividend for any of you yield seekers out there.00NUMBER00 dividend stocks to buy with both 00NUMBER00 best stocks to buy for the next 00NUMBER00 tech stocks that will be obsolete 00NUMBER00 post walt disney co beats on 00NUMBER00 earnings time to celebrate dis  appeared first on  investorplace.the views and opinions expressed herein are the views and opinions of the author and do not necessarily reflect those of nasdaq inc.',\n",
            "       b'looking today at week over week shares outstanding changes among the universe of etfs covered at etf channel   one standout is the ishares core sp small cap etf symbol ijr where we have detected an approximate 00NUMBER00 million dollar outflow thats a 00NUMBER00 decrease week over week from 00NUMBER00 00NUMBER00.the chart below shows the one year price performance of ijr versus its 00NUMBER00 day moving averageclick here to find out which 00NUMBER00 other etfs experienced notable outflows \\xc2\\xbbthe views and opinions expressed herein are the views and opinions of the author and do not necessarily reflect those of nasdaq inc.',\n",
            "       b'on 00NUMBER00 apollo residential mortgage inc.s 00NUMBER00 series a cumulative redeemable perpetual preferred stock symbol amtg.pra will trade ex dividend for its quarterly dividend of 00NUMBER00 on 00NUMBER00.as a percentage of amtg.pras recent share price of 00NUMBER00 this dividend works out to approximately 00NUMBER00 so look for shares of amtg.pra to trade 00NUMBER00 lower all else being equal when amtg.pra shares open for trading on 00NUMBER00.on an annualized basis the current yield is approximately 00NUMBER00 which compares to an average yield of 00NUMBER00 in the real estate preferred stock category according to  preferred stock channel.the chart below shows the one year performance of amtg.pra shares versus amtgclick here to learn which s.a.f.e.dividend stocks also have preferred shares that should be on your radar screen \\xc2\\xbbthe views and opinions expressed herein are the views and opinions of the author and do not necessarily reflect those of nasdaq inc.',\n",
            "       b'compass minerals international inc.s  cmp   macd indicator has entered into bearish territory with a reading of 00NUMBER00.the zacks 00NUMBER00 rank sell stock decreased slightly 00NUMBER00 in morning trade.the zacks consensus estimate for the year ending december 00NUMBER00 has decreased by 00NUMBER00 cents over the past month to 00NUMBER00 per share.the views and opinions expressed herein are the views and opinions of the author and do not necessarily reflect those of nasdaq inc.',\n",
            "       b'looking today at week over week shares outstanding changes among the universe of etfs covered at etf channel   one standout is the vanguard short term bond etf symbol bsv where we have detected an approximate 00NUMBER00 million dollar outflow  thats a 00NUMBER00 decrease week over week from 00NUMBER00 00NUMBER00.the chart below shows the one year price performance of bsv versus its 00NUMBER00 day moving averageclick here to find out which 00NUMBER00 other etfs experienced notable outflows \\xc2\\xbbthe views and opinions expressed herein are the views and opinions of the author and do not necessarily reflect those of nasdaq inc.',\n",
            "       b'the ishares msci south africa fund nysearcaeza tagged on 00NUMBER00 on thursday june 00NUMBER00 amid rallying markets the 00NUMBER00 closed at 00NUMBER00 that same day rising 00NUMBER00 points or 00NUMBER00.total u.s.listed etf assets rose to 00NUMBER00 trillion at the days close.top 00NUMBER00 00NUMBER00 day performers excluding leverageinverse funds and 00NUMBER00 shares tradeddisclaimerall data as of 00NUMBER00 a.m.eastern time the date the article is published.data is believed to be accurate however transient market data is often subject to subsequent revision and correction by the exchanges.permalink copy copyright 00NUMBER00 indexuniverse llc.all rights reserveddont forget to check indexuniversecoms etf data section.copyright 00NUMBER00 indexuniverse llc.all rights reserved.the views and opinions expressed herein are the views and opinions of the author and do not necessarily reflect those of nasdaq inc.'],\n",
            "      dtype=object)>, <tf.Tensor: shape=(32,), dtype=int32, numpy=\n",
            "array([1, 1, 1, 1, 0, 1, 0, 0, 0, 1, 1, 0, 1, 1, 0, 1, 0, 0, 1, 1, 1, 1,\n",
            "       1, 1, 0, 1, 0, 0, 0, 0, 0, 1], dtype=int32)>)\n"
          ]
        }
      ],
      "source": [
        "c =0\n",
        "for i in raw_train_ds:\n",
        "  print(i)\n",
        "  c+=1\n",
        "  if c > 0:\n",
        "    break"
      ]
    },
    {
      "cell_type": "code",
      "execution_count": null,
      "metadata": {
        "id": "Z9ycBt_qn1tB"
      },
      "outputs": [],
      "source": [
        ""
      ]
    }
  ],
  "metadata": {
    "accelerator": "GPU",
    "colab": {
      "collapsed_sections": [],
      "machine_shape": "hm",
      "name": "BERT_finetuning.ipynb",
      "provenance": [],
      "authorship_tag": "ABX9TyPq396RAEWdsJJp6tOFEVp4",
      "include_colab_link": true
    },
    "kernelspec": {
      "display_name": "Python 3",
      "name": "python3"
    },
    "language_info": {
      "name": "python"
    }
  },
  "nbformat": 4,
  "nbformat_minor": 0
}