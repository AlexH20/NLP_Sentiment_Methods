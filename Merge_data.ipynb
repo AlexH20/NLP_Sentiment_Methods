{
  "cells": [
    {
      "cell_type": "markdown",
      "metadata": {
        "id": "view-in-github",
        "colab_type": "text"
      },
      "source": [
        "<a href=\"https://colab.research.google.com/github/AlexH20/Supervised-ML-sentiment-measures/blob/main/Merge_data.ipynb\" target=\"_parent\"><img src=\"https://colab.research.google.com/assets/colab-badge.svg\" alt=\"Open In Colab\"/></a>"
      ]
    },
    {
      "cell_type": "code",
      "execution_count": null,
      "metadata": {
        "colab": {
          "base_uri": "https://localhost:8080/"
        },
        "id": "vNvuRAgJ9Npq",
        "outputId": "c290f3d5-c04c-452a-e6de-66b1ec28c950"
      },
      "outputs": [
        {
          "name": "stdout",
          "output_type": "stream",
          "text": [
            "Looking in indexes: https://pypi.org/simple, https://us-python.pkg.dev/colab-wheels/public/simple/\n",
            "Collecting pandas_market_calendars\n",
            "  Downloading pandas_market_calendars-3.4-py3-none-any.whl (89 kB)\n",
            "\u001b[K     |████████████████████████████████| 89 kB 3.5 MB/s \n",
            "\u001b[?25hRequirement already satisfied: pytz in /usr/local/lib/python3.7/dist-packages (from pandas_market_calendars) (2022.1)\n",
            "Requirement already satisfied: pandas>=1.1 in /usr/local/lib/python3.7/dist-packages (from pandas_market_calendars) (1.3.5)\n",
            "Collecting exchange-calendars>=3.3\n",
            "  Downloading exchange_calendars-3.6.3.tar.gz (152 kB)\n",
            "\u001b[K     |████████████████████████████████| 152 kB 35.4 MB/s \n",
            "\u001b[?25hRequirement already satisfied: python-dateutil in /usr/local/lib/python3.7/dist-packages (from pandas_market_calendars) (2.8.2)\n",
            "Requirement already satisfied: numpy in /usr/local/lib/python3.7/dist-packages (from exchange-calendars>=3.3->pandas_market_calendars) (1.21.6)\n",
            "Collecting pyluach\n",
            "  Downloading pyluach-2.0.0-py3-none-any.whl (22 kB)\n",
            "Requirement already satisfied: toolz in /usr/local/lib/python3.7/dist-packages (from exchange-calendars>=3.3->pandas_market_calendars) (0.11.2)\n",
            "Requirement already satisfied: korean_lunar_calendar in /usr/local/lib/python3.7/dist-packages (from exchange-calendars>=3.3->pandas_market_calendars) (0.2.1)\n",
            "Requirement already satisfied: six>=1.5 in /usr/local/lib/python3.7/dist-packages (from python-dateutil->pandas_market_calendars) (1.15.0)\n",
            "Building wheels for collected packages: exchange-calendars\n",
            "  Building wheel for exchange-calendars (setup.py) ... \u001b[?25l\u001b[?25hdone\n",
            "  Created wheel for exchange-calendars: filename=exchange_calendars-3.6.3-py3-none-any.whl size=182636 sha256=096ade0e6370fe6f4a35096c43c88fc6532e62918f14a513efae8db16cc58301\n",
            "  Stored in directory: /root/.cache/pip/wheels/b8/a3/19/b4611514d34ffd61d13aef10fefc2dcaf3754145121ceba647\n",
            "Successfully built exchange-calendars\n",
            "Installing collected packages: pyluach, exchange-calendars, pandas-market-calendars\n",
            "Successfully installed exchange-calendars-3.6.3 pandas-market-calendars-3.4 pyluach-2.0.0\n"
          ]
        }
      ],
      "source": [
        "!pip install pandas_market_calendars\n",
        "!pip install holidays"
      ]
    },
    {
      "cell_type": "code",
      "execution_count": null,
      "metadata": {
        "colab": {
          "background_save": true,
          "base_uri": "https://localhost:8080/"
        },
        "id": "4dYpCeib1lrV",
        "outputId": "b88bae92-25e0-4309-8a82-43e4e3170085"
      },
      "outputs": [
        {
          "name": "stdout",
          "output_type": "stream",
          "text": [
            "Drive already mounted at /content/gdrive; to attempt to forcibly remount, call drive.mount(\"/content/gdrive\", force_remount=True).\n",
            "              Date Ticker  Nasdaq  Turnover          Size       BTM  \\\n",
            "0       2015-01-02   AAPL       1  1.336802  6.370024e+08  0.187370   \n",
            "1       2015-01-05   AAPL       1  1.344416  6.190077e+08  0.192817   \n",
            "2       2015-01-06   AAPL       1  1.347419  6.190077e+08  0.192817   \n",
            "3       2015-01-07   AAPL       1  1.345351  6.190660e+08  0.192799   \n",
            "4       2015-01-08   AAPL       1  1.351682  6.277467e+08  0.190132   \n",
            "...            ...    ...     ...       ...           ...       ...   \n",
            "127053  2019-12-24    PEP       1  0.496903  1.910934e+08  0.077376   \n",
            "127054  2019-12-26    PEP       1  0.498080  1.906053e+08  0.077574   \n",
            "127055  2019-12-27    PEP       1  0.494766  1.906053e+08  0.077574   \n",
            "127056  2019-12-30    PEP       1  0.497787  1.903027e+08  0.077697   \n",
            "127057  2019-12-31    PEP       1  0.495126  1.903027e+08  0.077697   \n",
            "\n",
            "        pref_alpha                                   Text_unprocessed  \\\n",
            "0         0.001312  \"While, the holidays in general and Christmas ...   \n",
            "1         0.001142  Apple\\n\\nhas been a darling of the market all ...   \n",
            "2         0.000912  Apple Watch launches within a matter of months...   \n",
            "3         0.000963                                                      \n",
            "4         0.000958                                                      \n",
            "...            ...                                                ...   \n",
            "127053    0.000099                                                      \n",
            "127054   -0.000036                                                      \n",
            "127055   -0.000018                                                      \n",
            "127056   -0.000052                                                      \n",
            "127057    0.000004                                                      \n",
            "\n",
            "        word_count        AR    Return  \n",
            "0             2259 -0.009268 -0.009513  \n",
            "1             5282 -0.009879 -0.028172  \n",
            "2              755  0.009766  0.000094  \n",
            "3                0  0.002899  0.014022  \n",
            "4                0  0.021562  0.038422  \n",
            "...            ...       ...       ...  \n",
            "127053           0 -0.001474 -0.001095  \n",
            "127054           0 -0.006077 -0.001461  \n",
            "127055           0  0.006861  0.006218  \n",
            "127056           0 -0.000203 -0.005308  \n",
            "127057           0 -0.003986 -0.001023  \n",
            "\n",
            "[127053 rows x 11 columns]\n"
          ]
        }
      ],
      "source": [
        "import pandas as pd\n",
        "import csv\n",
        "from datetime import datetime, timedelta, time\n",
        "from google.colab import drive \n",
        "import sys\n",
        "import re\n",
        "import math\n",
        "import holidays\n",
        "import pandas_market_calendars as mcal\n",
        "\n",
        "drive.mount(\"/content/gdrive\")\n",
        "\n",
        "#Functions to concatenate text\n",
        "\n",
        "def concatenate_text(g):\n",
        "    return ' '.join(g.Text_unprocessed)\n",
        "\n",
        "#Function to count words of text using regex\n",
        "\n",
        "def count_words(Text):\n",
        "    word_count = len(re.findall(r'\\w+', Text))\n",
        "    return word_count\n",
        "\n",
        "# Function to check whether date is on a non-trading day or news article is published later than 4pm. If so, then return next trading day.\n",
        "\n",
        "holidaysUS = holidays.US()\n",
        "nyse = mcal.get_calendar('NYSE')\n",
        "stock_holidays = nyse.holidays()\n",
        "\n",
        "stock_holidays = list(pd.to_datetime(stock_holidays.holidays))\n",
        "stock_holidays = [x.date() for x in stock_holidays]\n",
        "\n",
        "def check_tradingdayhour(day):\n",
        "    trading_day = day\n",
        "    if trading_day.hour >= 16:\n",
        "        trading_day += timedelta(1)\n",
        "    #Check if news article published on weekend. If so return monday. If day on holiday return next trading day\n",
        "    while trading_day.weekday() in holidays.WEEKEND or trading_day in stock_holidays:\n",
        "        trading_day += timedelta(1)\n",
        "    return trading_day\n",
        "\n",
        "output_file_path = \"gdrive/My Drive/Thesis/processed data/CAR_regression/datasets_final/\"\n",
        "output_file_name = \"data_whole_woScAR_up.csv\"\n",
        "\n",
        "data_text = pd.read_csv(\"gdrive/My Drive/Thesis/processed data/processdata_woSWandPS_n.csv\")\n",
        "\n",
        "#CSV file from get_paneldata notebook\n",
        "df = pd.read_csv(\"gdrive/My Drive/Thesis/processed data/CAR_regression/datasets_final/data_whole_woScAR.csv\")\n",
        "\n",
        "\n",
        "#Get both dfs to same date format. Later used for merging\n",
        "\n",
        "data_text[\"Date\"] = pd.to_datetime(data_text[\"Date\"])\n",
        "data_text[\"Date\"] = [check_tradingdayhour(x) for x in data_text[\"Date\"]]\n",
        "data_text[\"Date\"] = [x.strftime(\"%Y-%m-%d\") for x in data_text[\"Date\"]]\n",
        "\n",
        "df[\"Date\"] = pd.to_datetime(df[\"Date\"])\n",
        "df[\"Date\"] = [check_tradingdayhour(x) for x in df[\"Date\"]]\n",
        "df[\"Date\"] = [x.strftime(\"%Y-%m-%d\") for x in df[\"Date\"]]\n",
        "\n",
        "#Merge rows with multiple news article issue of the same company on a given day. \n",
        "#This can be done either for the processed text or unprocessed text. Adjust variable in concatenate_text function\n",
        "new_df = data_text.groupby([\"Date\", \"Ticker\"]).apply(concatenate_text).to_frame(name = \"c_Text\")\n",
        "df = df.merge(new_df, how= \"left\", left_on = [\"Date\", \"Ticker\"], right_on = [\"Date\", \"Ticker\"])\n",
        "\n",
        "df[\"c_Text\"] = df[\"c_Text\"].fillna(\" \")\n",
        "\n",
        "df[\"word_count\"] = [count_words(x) for x in df.c_Text]\n",
        "\n",
        "df.drop_duplicates(inplace = True)\n",
        "df = df.rename(columns={'c_Text': 'Text_unprocessed'})\n",
        "df_columns = [\"Date\", \"Ticker\", \"Nasdaq\", \"Turnover\", \"Size\", \"BTM\",\"pref_alpha\", \"Text_unprocessed\", \"word_count\", \"AR\", \"Return\"] \n",
        "df = df[df_columns]\n",
        "print(df)\n",
        "\n",
        "with open(output_file_path + output_file_name, \"w\") as csv_file:\n",
        "    writer = csv.writer(csv_file)\n",
        "    writer.writerow(\n",
        "        [\"Date\", \"Ticker\", \"Nasdaq\", \"Turnover\", \"Size\", \"BTM\",\n",
        "         \"pref_alpha\", \"Text_unprocessed\", \"word_count\", \"AR\", \"Return\"])\n",
        "    for index, row in df.iterrows():\n",
        "        writer.writerow(row)\n",
        "\n",
        "\n",
        "\n",
        "\n"
      ]
    }
  ],
  "metadata": {
    "colab": {
      "collapsed_sections": [],
      "name": "Merge_data.ipynb",
      "provenance": [],
      "authorship_tag": "ABX9TyMJy1haqHIgSI6OmHC67i58",
      "include_colab_link": true
    },
    "kernelspec": {
      "display_name": "Python 3",
      "name": "python3"
    },
    "language_info": {
      "name": "python"
    }
  },
  "nbformat": 4,
  "nbformat_minor": 0
}