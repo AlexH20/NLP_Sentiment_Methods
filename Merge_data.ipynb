{
  "nbformat": 4,
  "nbformat_minor": 0,
  "metadata": {
    "colab": {
      "name": "Merge_data.ipynb",
      "provenance": [],
      "collapsed_sections": [],
      "authorship_tag": "ABX9TyPRXpu/XzVDAy74Fes2f5Nj",
      "include_colab_link": true
    },
    "kernelspec": {
      "name": "python3",
      "display_name": "Python 3"
    },
    "language_info": {
      "name": "python"
    }
  },
  "cells": [
    {
      "cell_type": "markdown",
      "metadata": {
        "id": "view-in-github",
        "colab_type": "text"
      },
      "source": [
        "<a href=\"https://colab.research.google.com/github/AlexH20/Supervised-ML-sentiment-measures/blob/main/Merge_data.ipynb\" target=\"_parent\"><img src=\"https://colab.research.google.com/assets/colab-badge.svg\" alt=\"Open In Colab\"/></a>"
      ]
    },
    {
      "cell_type": "code",
      "source": [
        "!pip install pandas_market_calendars"
      ],
      "metadata": {
        "colab": {
          "base_uri": "https://localhost:8080/"
        },
        "id": "vNvuRAgJ9Npq",
        "outputId": "aab0340f-b115-45c8-cd7f-678b2764bbda"
      },
      "execution_count": null,
      "outputs": [
        {
          "output_type": "stream",
          "name": "stdout",
          "text": [
            "Looking in indexes: https://pypi.org/simple, https://us-python.pkg.dev/colab-wheels/public/simple/\n",
            "Collecting pandas_market_calendars\n",
            "  Downloading pandas_market_calendars-3.4-py3-none-any.whl (89 kB)\n",
            "\u001b[K     |████████████████████████████████| 89 kB 4.8 MB/s \n",
            "\u001b[?25hRequirement already satisfied: pandas>=1.1 in /usr/local/lib/python3.7/dist-packages (from pandas_market_calendars) (1.3.5)\n",
            "Collecting exchange-calendars>=3.3\n",
            "  Downloading exchange_calendars-3.6.3.tar.gz (152 kB)\n",
            "\u001b[K     |████████████████████████████████| 152 kB 19.1 MB/s \n",
            "\u001b[?25hRequirement already satisfied: python-dateutil in /usr/local/lib/python3.7/dist-packages (from pandas_market_calendars) (2.8.2)\n",
            "Requirement already satisfied: pytz in /usr/local/lib/python3.7/dist-packages (from pandas_market_calendars) (2022.1)\n",
            "Requirement already satisfied: numpy in /usr/local/lib/python3.7/dist-packages (from exchange-calendars>=3.3->pandas_market_calendars) (1.21.6)\n",
            "Collecting pyluach\n",
            "  Downloading pyluach-2.0.0-py3-none-any.whl (22 kB)\n",
            "Requirement already satisfied: toolz in /usr/local/lib/python3.7/dist-packages (from exchange-calendars>=3.3->pandas_market_calendars) (0.11.2)\n",
            "Requirement already satisfied: korean_lunar_calendar in /usr/local/lib/python3.7/dist-packages (from exchange-calendars>=3.3->pandas_market_calendars) (0.2.1)\n",
            "Requirement already satisfied: six>=1.5 in /usr/local/lib/python3.7/dist-packages (from python-dateutil->pandas_market_calendars) (1.15.0)\n",
            "Building wheels for collected packages: exchange-calendars\n",
            "  Building wheel for exchange-calendars (setup.py) ... \u001b[?25l\u001b[?25hdone\n",
            "  Created wheel for exchange-calendars: filename=exchange_calendars-3.6.3-py3-none-any.whl size=182636 sha256=04fc6b22c9d5010d08011bafd8340989eb74016d509798f82db2138b14653ee4\n",
            "  Stored in directory: /root/.cache/pip/wheels/b8/a3/19/b4611514d34ffd61d13aef10fefc2dcaf3754145121ceba647\n",
            "Successfully built exchange-calendars\n",
            "Installing collected packages: pyluach, exchange-calendars, pandas-market-calendars\n",
            "Successfully installed exchange-calendars-3.6.3 pandas-market-calendars-3.4 pyluach-2.0.0\n"
          ]
        }
      ]
    },
    {
      "cell_type": "code",
      "execution_count": null,
      "metadata": {
        "id": "4dYpCeib1lrV",
        "colab": {
          "base_uri": "https://localhost:8080/"
        },
        "outputId": "c9f02afb-5fd4-4c82-a15e-01aa426c5f64"
      },
      "outputs": [
        {
          "metadata": {
            "tags": null
          },
          "name": "stdout",
          "output_type": "stream",
          "text": [
            "Drive already mounted at /content/gdrive; to attempt to forcibly remount, call drive.mount(\"/content/gdrive\", force_remount=True).\n"
          ]
        }
      ],
      "source": [
        "import pandas as pd\n",
        "import csv\n",
        "from datetime import datetime, timedelta, time\n",
        "from google.colab import drive \n",
        "import sys\n",
        "import re\n",
        "import math\n",
        "import holidays\n",
        "import pandas_market_calendars as mcal\n",
        "\n",
        "drive.mount(\"/content/gdrive\")\n",
        "\n",
        "#Functions to concatenate text\n",
        "\n",
        "def concatenate_text(g):\n",
        "    return ' '.join(g.Text)\n",
        "\n",
        "#Function to count words of text using regex\n",
        "\n",
        "def count_words(Text):\n",
        "    word_count = len(re.findall(r'\\w+', Text))\n",
        "    return word_count\n",
        "\n",
        "# Function to check whether date is on a non-trading day or news article is published later than 4pm. If so, then return next trading day.\n",
        "\n",
        "holidaysUS = holidays.US()\n",
        "nyse = mcal.get_calendar('NYSE')\n",
        "stock_holidays = nyse.holidays()\n",
        "\n",
        "stock_holidays = list(pd.to_datetime(stock_holidays.holidays))\n",
        "stock_holidays = [x.date() for x in stock_holidays]\n",
        "\n",
        "def check_tradingdayhour(day):\n",
        "    trading_day = day\n",
        "    if trading_day.hour >= 16:\n",
        "        trading_day += timedelta(1)\n",
        "    #Check if news article published on weekend. If so return monday. If day on holiday return next trading day\n",
        "    while trading_day.weekday() in holidays.WEEKEND or trading_day in stock_holidays:\n",
        "        trading_day += timedelta(1)\n",
        "    return trading_day\n",
        "\n",
        "output_file_path = \"gdrive/My Drive/Thesis/processed data/CAR_regression/datasets_final/\"\n",
        "output_file_name = \"data_whole_woScAR.csv\"\n",
        "\n",
        "data_text = pd.read_csv(\"gdrive/My Drive/Thesis/processed data/processdata_woSWandPS.csv\")\n",
        "\n",
        "#CSV file from get_paneldata notebook\n",
        "df = pd.read_csv(\"gdrive/My Drive/Thesis/processed data/CAR_regression/Data_wcontrol/data_whole_woScAR.csv\")\n",
        "\n",
        "\n",
        "#Get both dfs to same date format. Later used for merging\n",
        "\n",
        "data_text[\"Date\"] = pd.to_datetime(data_text[\"Date\"])\n",
        "data_text[\"Date\"] = [check_tradingdayhour(x) for x in data_text[\"Date\"]]\n",
        "data_text[\"Date\"] = [x.strftime(\"%Y-%m-%d\") for x in data_text[\"Date\"]]\n",
        "\n",
        "df[\"Date\"] = pd.to_datetime(df[\"Date\"])\n",
        "df[\"Date\"] = [check_tradingdayhour(x) for x in df[\"Date\"]]\n",
        "df[\"Date\"] = [x.strftime(\"%Y-%m-%d\") for x in df[\"Date\"]]\n",
        "\n",
        "#Merge rows with multiple news article issue of the same company on a given day. \n",
        "#This can be done either for the processed text or unprocessed text. Adjust variable in concatenate_text function\n",
        "new_df = data_text.groupby([\"Date\", \"Ticker\"]).apply(concatenate_text).to_frame(name = \"c_Text\")\n",
        "df = df.merge(new_df, how= \"left\", left_on = [\"Date\", \"Ticker\"], right_on = [\"Date\", \"Ticker\"])\n",
        "\n",
        "df[\"c_Text\"] = df[\"c_Text\"].fillna(\" \")\n",
        "\n",
        "df[\"word_count\"] = [count_words(x) for x in df.c_Text]\n",
        "\n",
        "df.drop_duplicates(inplace = True)\n",
        "df = df.rename(columns={'c_Text': 'Text'})\n",
        "df_columns = [\"Date\", \"Ticker\", \"Nasdaq\", \"Turnover\", \"Size\", \"BTM\",\"pref_alpha\", \"Text\", \"word_count\", \"AR\", \"Return\"] \n",
        "df = df.reindex(columns = df_columns, inplace = True)\n",
        "\n",
        "with open(output_file_path + output_file_name, \"w\") as csv_file:\n",
        "    writer = csv.writer(csv_file)\n",
        "    writer.writerow(\n",
        "        [\"Date\", \"Ticker\", \"Nasdaq\", \"Turnover\", \"Size\", \"BTM\",\n",
        "         \"pref_alpha\", \"Text\", \"word_count\", \"AR\", \"Return\"])\n",
        "    for index, row in df.iterrows():\n",
        "        writer.writerow(row)\n",
        "\n",
        "\n",
        "\n",
        "\n"
      ]
    }
  ]
}