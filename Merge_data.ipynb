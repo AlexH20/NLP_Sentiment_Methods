{
  "nbformat": 4,
  "nbformat_minor": 0,
  "metadata": {
    "colab": {
      "name": "Merge_data.ipynb",
      "provenance": [],
      "collapsed_sections": [],
      "authorship_tag": "ABX9TyNCH89HWxkUY7OLJEYdinKz",
      "include_colab_link": true
    },
    "kernelspec": {
      "name": "python3",
      "display_name": "Python 3"
    },
    "language_info": {
      "name": "python"
    }
  },
  "cells": [
    {
      "cell_type": "markdown",
      "metadata": {
        "id": "view-in-github",
        "colab_type": "text"
      },
      "source": [
        "<a href=\"https://colab.research.google.com/github/AlexH20/NLP_Sentiment_Methods/blob/main/Merge_data.ipynb\" target=\"_parent\"><img src=\"https://colab.research.google.com/assets/colab-badge.svg\" alt=\"Open In Colab\"/></a>"
      ]
    },
    {
      "cell_type": "code",
      "execution_count": 4,
      "metadata": {
        "id": "4dYpCeib1lrV",
        "colab": {
          "base_uri": "https://localhost:8080/"
        },
        "outputId": "8f904d61-a1ce-42c6-add3-21bba5e01b72"
      },
      "outputs": [
        {
          "output_type": "stream",
          "name": "stdout",
          "text": [
            "Drive already mounted at /content/gdrive; to attempt to forcibly remount, call drive.mount(\"/content/gdrive\", force_remount=True).\n"
          ]
        }
      ],
      "source": [
        "import pandas as pd\n",
        "import csv\n",
        "from datetime import datetime, timedelta, time\n",
        "from google.colab import drive \n",
        "import sys\n",
        "import re\n",
        "import math\n",
        "import holidays\n",
        "\n",
        "drive.mount(\"/content/gdrive\")\n",
        "\n",
        "#Functions to concatenate text\n",
        "\n",
        "def concatenate_text(g):\n",
        "    return ' '.join(g.Text)\n",
        "\n",
        "#Function to count words of text using regex\n",
        "\n",
        "def count_words(Text):\n",
        "    word_count = len(re.findall(r'\\w+', Text))\n",
        "    return word_count\n",
        "\n",
        "def check_weekend_returnmonday(day):\n",
        "    trading_day = day\n",
        "    #Check if news article published later than 4pm. If so, then return next day\n",
        "    if trading_day.hour >= 16:\n",
        "        trading_day += timedelta(1)\n",
        "    #Check if news article published on weekend. If so return monday \n",
        "    while trading_day.weekday() in holidays.WEEKEND:\n",
        "        trading_day += timedelta(1)\n",
        "    return trading_day\n",
        "\n",
        "output_file_path = \"gdrive/My Drive/Thesis/processed data/CAR_regression/datasets_final/\"\n",
        "output_file_name = \"data_whole_woS.csv\"\n",
        "\n",
        "data_text = pd.read_csv(\"gdrive/My Drive/Thesis/processed data/processdata_woSWandPS.csv\")\n",
        "df1 = pd.read_csv(\"gdrive/My Drive/Thesis/processed data/CAR_regression/Data_wcontrol/data_whole_year1.csv\")\n",
        "df2 = pd.read_csv(\"gdrive/My Drive/Thesis/processed data/CAR_regression/Data_wcontrol/data_whole_year2.csv\")\n",
        "df3 = pd.read_csv(\"gdrive/My Drive/Thesis/processed data/CAR_regression/Data_wcontrol/data_whole_year3.csv\")\n",
        "df4 = pd.read_csv(\"gdrive/My Drive/Thesis/processed data/CAR_regression/Data_wcontrol/data_whole_year4.csv\")\n",
        "df5 = pd.read_csv(\"gdrive/My Drive/Thesis/processed data/CAR_regression/Data_wcontrol/data_whole_year5.csv\")\n",
        "\n",
        "frames = [df1, df2, df3, df4, df5]\n",
        "\n",
        "df = pd.concat(frames)\n",
        "\n",
        "#Get both dfs to same date format. Later used for merging. Turn saturdays and sundays into mondays\n",
        "\n",
        "data_text[\"Date\"] = pd.to_datetime(data_text[\"Date\"])\n",
        "\n",
        "data_text[\"Date\"] = [check_weekend_returnmonday(x) for x in data_text[\"Date\"]]\n",
        "data_text[\"Date\"] = [x.strftime(\"%Y-%m-%d\") for x in data_text[\"Date\"]]\n",
        "\n",
        "df[\"Date\"] = pd.to_datetime(df[\"Date\"])\n",
        "df[\"Date\"] = [check_weekend_returnmonday(x) for x in df[\"Date\"]]\n",
        "df[\"Date\"] = [x.strftime(\"%Y-%m-%d\") for x in df[\"Date\"]]\n",
        "\n",
        "#Merge rows with multiple news article issue of the same company on a given day\n",
        "new_df = data_text.groupby([\"Date\", \"Ticker\"]).apply(concatenate_text).to_frame(name=\"c_Text\")\n",
        "df = df.merge(new_df, how= \"left\", left_on = [\"Date\", \"Ticker\"], right_on = [\"Date\", \"Ticker\"])\n",
        "\n",
        "df[\"c_Text\"] = df[\"c_Text\"].fillna(\" \")\n",
        "\n",
        "df[\"word_count\"] = [count_words(x) for x in df.c_Text]\n",
        "\n",
        "df.drop_duplicates(inplace = True)\n",
        "\n",
        "df = df.rename(columns={'c_Text': 'Text'})\n",
        "\n",
        "with open(output_file_path + output_file_name, \"w\") as csv_file:\n",
        "    writer = csv.writer(csv_file)\n",
        "    writer.writerow(\n",
        "        [\"Date\", \"Ticker\", \"Nasdaq\", \"Turnover\", \"Size\", \"BTM\",\n",
        "         \"pref_alpha\", \"CAR\", \"Text\", \"word_count\"])\n",
        "    for index, row in df.iterrows():\n",
        "        writer.writerow(row)\n",
        "\n",
        "\n",
        "\n",
        "\n"
      ]
    }
  ]
}