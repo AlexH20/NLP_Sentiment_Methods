{
  "nbformat": 4,
  "nbformat_minor": 0,
  "metadata": {
    "colab": {
      "name": "Get_dm_sentiment.ipynb",
      "provenance": [],
      "collapsed_sections": []
    },
    "kernelspec": {
      "name": "python3",
      "display_name": "Python 3"
    },
    "language_info": {
      "name": "python"
    }
  },
  "cells": [
    {
      "cell_type": "code",
      "execution_count": 1,
      "metadata": {
        "colab": {
          "base_uri": "https://localhost:8080/",
          "height": 383
        },
        "id": "WlpuysG3c8R4",
        "outputId": "d1c441d0-63d2-440e-cbc3-8f4c782047d3"
      },
      "outputs": [
        {
          "output_type": "error",
          "ename": "ModuleNotFoundError",
          "evalue": "ignored",
          "traceback": [
            "\u001b[0;31m---------------------------------------------------------------------------\u001b[0m",
            "\u001b[0;31mModuleNotFoundError\u001b[0m                       Traceback (most recent call last)",
            "\u001b[0;32m<ipython-input-1-844c2b07cc83>\u001b[0m in \u001b[0;36m<module>\u001b[0;34m()\u001b[0m\n\u001b[1;32m      3\u001b[0m \u001b[0;32mimport\u001b[0m \u001b[0mpandas\u001b[0m \u001b[0;32mas\u001b[0m \u001b[0mpd\u001b[0m\u001b[0;34m\u001b[0m\u001b[0;34m\u001b[0m\u001b[0m\n\u001b[1;32m      4\u001b[0m \u001b[0;32mfrom\u001b[0m \u001b[0mgoogle\u001b[0m\u001b[0;34m.\u001b[0m\u001b[0mcolab\u001b[0m \u001b[0;32mimport\u001b[0m \u001b[0mdrive\u001b[0m\u001b[0;34m\u001b[0m\u001b[0;34m\u001b[0m\u001b[0m\n\u001b[0;32m----> 5\u001b[0;31m \u001b[0;32mimport\u001b[0m \u001b[0mpysentiment2\u001b[0m \u001b[0;32mas\u001b[0m \u001b[0mps\u001b[0m\u001b[0;34m\u001b[0m\u001b[0;34m\u001b[0m\u001b[0m\n\u001b[0m\u001b[1;32m      6\u001b[0m \u001b[0mdrive\u001b[0m\u001b[0;34m.\u001b[0m\u001b[0mmount\u001b[0m\u001b[0;34m(\u001b[0m\u001b[0;34m\"/content/gdrive\"\u001b[0m\u001b[0;34m)\u001b[0m\u001b[0;34m\u001b[0m\u001b[0;34m\u001b[0m\u001b[0m\n\u001b[1;32m      7\u001b[0m \u001b[0;34m\u001b[0m\u001b[0m\n",
            "\u001b[0;31mModuleNotFoundError\u001b[0m: No module named 'pysentiment2'",
            "",
            "\u001b[0;31m---------------------------------------------------------------------------\u001b[0;32m\nNOTE: If your import is failing due to a missing package, you can\nmanually install dependencies using either !pip or !apt.\n\nTo view examples of installing some common dependencies, click the\n\"Open Examples\" button below.\n\u001b[0;31m---------------------------------------------------------------------------\u001b[0m\n"
          ],
          "errorDetails": {
            "actions": [
              {
                "action": "open_url",
                "actionText": "Open Examples",
                "url": "/notebooks/snippets/importing_libraries.ipynb"
              }
            ]
          }
        }
      ],
      "source": [
        "import csv\n",
        "import sys\n",
        "import pandas as pd\n",
        "from google.colab import drive \n",
        "import pysentiment2 as ps\n",
        "drive.mount(\"/content/gdrive\")\n",
        "\n",
        "#To max out field limit\n",
        "csv.field_size_limit(sys.maxsize)\n",
        "\n",
        "data = pd.read_csv(\"gdrive/My Drive/Thesis/processed data/data_whole_woS.csv\", index_col = False)\n",
        "\n",
        "#Initial dictionary methods. Harvard and LM dms will be used to assess text sentiment\n",
        "hiv4 = ps.HIV4()\n",
        "lm = ps.LM()\n",
        "\n",
        "data_fill = []\n",
        "\n",
        "for index, row in data.iterrows():\n",
        "\n",
        "    print(index)\n",
        "    #Use texts in csv file to tokenize and get counts of positive and negative words according to HIV4 and LM\n",
        "    text = row[\"Text\"]\n",
        "    word_count = row[\"word_count\"]\n",
        "\n",
        "    tokens_hiv4 = hiv4.tokenize(text)\n",
        "    tokens_lm = lm.tokenize(text)\n",
        "    score_hiv4 = hiv4.get_score(tokens_hiv4)\n",
        "    score_lm = lm.get_score(tokens_lm)\n",
        "\n",
        "    hiv4_pos = score_hiv4[\"Positive\"]\n",
        "    hiv4_neg = score_hiv4[\"Negative\"]\n",
        "    hiv4_pos_tone = hiv4_pos / word_count\n",
        "    hiv4_neg_tone = hiv4_neg / word_count\n",
        "    hiv4_net_tone = (hiv4_pos - hiv4_neg) / (hiv4_pos + hiv4_neg)\n",
        "\n",
        "    lm_pos = score_lm[\"Positive\"]\n",
        "    lm_neg = score_lm[\"Negative\"]\n",
        "    lm_pos_tone = lm_pos / word_count\n",
        "    lm_neg_tone = lm_neg / word_count\n",
        "    lm_net_tone = (lm_pos - lm_neg) / (lm_pos + lm_neg)\n",
        "\n",
        "    data_fill.append([hiv4_pos_tone, hiv4_neg_tone, hiv4_net_tone, lm_pos_tone, lm_neg_tone, lm_net_tone])\n",
        "\n",
        "dm_sentiment = pd.DataFrame(data_fill, columns = [\"HIV4_pos\", \"HIV4_neg\", \"HIV4_tone\", \"LM_pos\", \"LM_neg\", \"LM_tone\"])\n",
        "\n",
        "data = pd.concat([data, dm_sentiment], axis = 1)\n",
        "\n",
        "with open(\"gdrive/My Drive/Thesis/processed data/data_whole_woS_dm.csv\", \"w\") as csv_file:\n",
        "    writer = csv.writer(csv_file)\n",
        "    writer.writerow(\n",
        "        [\"Date\", \"Ticker\", \"Nasdaq\", \"Turnover\", \"Size\", \"BTM\",\n",
        "         \"pref_alpha\", \"CAR\", \"Text\", \"word_count\", \"HIV4_pos\", \"HIV4_neg\", \"HIV4_tone\", \"LM_pos\", \"LM_neg\", \"LM_tone\"])\n",
        "    for index, row in data.iterrows():\n",
        "        writer.writerow(row)\n",
        "\n",
        "\n",
        "\n",
        "\n",
        "\n"
      ]
    },
    {
      "cell_type": "code",
      "source": [
        "!pip install pysentiment2"
      ],
      "metadata": {
        "colab": {
          "base_uri": "https://localhost:8080/"
        },
        "id": "ldAhSJf--Iz7",
        "outputId": "3f52a0f0-5196-4a8a-e4a3-0859bb413473"
      },
      "execution_count": null,
      "outputs": [
        {
          "output_type": "stream",
          "name": "stdout",
          "text": [
            "Collecting pysentiment2\n",
            "  Downloading pysentiment2-0.1.1-py3-none-any.whl (1.9 MB)\n",
            "\u001b[K     |████████████████████████████████| 1.9 MB 5.4 MB/s \n",
            "\u001b[?25hRequirement already satisfied: nltk>=2.0 in /usr/local/lib/python3.7/dist-packages (from pysentiment2) (3.2.5)\n",
            "Requirement already satisfied: pandas in /usr/local/lib/python3.7/dist-packages (from pysentiment2) (1.3.5)\n",
            "Requirement already satisfied: six in /usr/local/lib/python3.7/dist-packages (from nltk>=2.0->pysentiment2) (1.15.0)\n",
            "Requirement already satisfied: numpy>=1.17.3 in /usr/local/lib/python3.7/dist-packages (from pandas->pysentiment2) (1.21.6)\n",
            "Requirement already satisfied: pytz>=2017.3 in /usr/local/lib/python3.7/dist-packages (from pandas->pysentiment2) (2022.1)\n",
            "Requirement already satisfied: python-dateutil>=2.7.3 in /usr/local/lib/python3.7/dist-packages (from pandas->pysentiment2) (2.8.2)\n",
            "Installing collected packages: pysentiment2\n",
            "Successfully installed pysentiment2-0.1.1\n"
          ]
        }
      ]
    }
  ]
}