{
  "nbformat": 4,
  "nbformat_minor": 0,
  "metadata": {
    "colab": {
      "name": "Descriptive statistics.ipynb",
      "provenance": [],
      "collapsed_sections": []
    },
    "kernelspec": {
      "name": "python3",
      "display_name": "Python 3"
    },
    "language_info": {
      "name": "python"
    }
  },
  "cells": [
    {
      "cell_type": "markdown",
      "source": [
        "# Descriptive statistics"
      ],
      "metadata": {
        "id": "eNcHCHjlgCG4"
      }
    },
    {
      "cell_type": "markdown",
      "source": [
        "The following code describes the dataset used in the sentiment analysis"
      ],
      "metadata": {
        "id": "NH3uokrRgD97"
      }
    },
    {
      "cell_type": "code",
      "execution_count": 6,
      "metadata": {
        "colab": {
          "base_uri": "https://localhost:8080/"
        },
        "id": "slKxsYyGa1wQ",
        "outputId": "75221aff-d2e9-48d1-9986-f8bd2f0ffee8"
      },
      "outputs": [
        {
          "output_type": "stream",
          "name": "stdout",
          "text": [
            "Drive already mounted at /content/gdrive; to attempt to forcibly remount, call drive.mount(\"/content/gdrive\", force_remount=True).\n",
            "         Year  Observations Earliest Observation Latest Observation  Mean Word Count  Company Count\n",
            "0        2009           112           2009-06-26         2009-12-31       785.258929             71\n",
            "1        2010          2846           2010-01-01         2010-12-31       409.957484            893\n",
            "2        2011          5448           2011-01-01         2011-12-30       553.753304           1039\n",
            "3        2012         10540           2012-01-03         2012-12-31       312.259203           2379\n",
            "4        2013         13514           2013-01-01         2013-12-31       259.415199           3210\n",
            "5        2014         26772           2014-01-01         2014-12-31       275.765576           4188\n",
            "6        2015         36537           2015-01-01         2015-12-31       319.547253           4973\n",
            "7        2016         37873           2016-01-01         2016-12-31       364.214612           5029\n",
            "8        2017         40839           2017-01-01         2017-12-31       476.317589           5016\n",
            "9        2018         81209           2018-01-01         2018-12-31       661.760347           6318\n",
            "10       2019         68989           2019-01-01         2019-08-28      1188.775399           5610\n",
            "11  All years        324679           2009-06-26         2019-08-28       613.301553           9546\n"
          ]
        }
      ],
      "source": [
        "import pandas as pd\n",
        "from google.colab import drive \n",
        "pd.set_option('display.expand_frame_repr', False)\n",
        "\n",
        "drive.mount(\"/content/gdrive\")\n",
        "\n",
        "\n",
        "data = pd.read_csv(\"gdrive/My Drive/Thesis/processed data/data_processed.csv\")\n",
        "\n",
        "#Prepare data for descriptive statistics\n",
        "data[\"Date\"] = pd.to_datetime(data[\"Date\"], format = \"%Y-%m-%d\")\n",
        "data.sort_values(by= \"Date\", inplace = True)\n",
        "\n",
        "#Function to split initial dataframe into dataframes grouped by year\n",
        "def split_years(dt):\n",
        "    dt['year'] = dt['Date'].dt.year\n",
        "    return [dt[dt['year'] == y] for y in dt['year'].unique()]\n",
        "\n",
        "data_splt_years = split_years(data)\n",
        "data_fill = []\n",
        "\n",
        "for df_year_splt in data_splt_years:\n",
        "    year = df_year_splt[\"Date\"].iloc[0].year\n",
        "    obs_count = len(df_year_splt)\n",
        "    earliest_obs = df_year_splt[\"Date\"].iloc[0]\n",
        "    latest_obs = df_year_splt[\"Date\"].iloc[-1]\n",
        "    mean_word_count = df_year_splt[\"Word_count\"].mean()\n",
        "    company_count = df_year_splt[\"Ticker\"].nunique()\n",
        "\n",
        "    data_fill.append([year, obs_count, earliest_obs, latest_obs, mean_word_count, company_count])\n",
        "\n",
        "#Calculate the metrics for the whole dataset\n",
        "obs_count = len(data)\n",
        "earliest_obs = data[\"Date\"].iloc[0]\n",
        "latest_obs = data[\"Date\"].iloc[-1]\n",
        "mean_word_count = data[\"Word_count\"].mean()\n",
        "company_count = data[\"Ticker\"].nunique()\n",
        "\n",
        "data_fill.append([\"All years\", obs_count, earliest_obs, latest_obs, mean_word_count, company_count])\n",
        "\n",
        "df_by_year = pd.DataFrame(data_fill ,columns = [\"Year\", \"Observations\", \"Earliest Observation\", \"Latest Observation\", \"Mean Word Count\", \"Company Count\"])\n",
        "\n",
        "print(df_by_year)\n"
      ]
    }
  ]
}