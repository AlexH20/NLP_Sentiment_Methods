{
  "cells": [
    {
      "cell_type": "code",
      "execution_count": null,
      "metadata": {
        "id": "CXFZEnV73vuh"
      },
      "outputs": [],
      "source": [
        "import pandas as pd\n",
        "import string\n",
        "from nltk.stem.porter import *\n",
        "from google.colab import drive \n",
        "import csv\n",
        "drive.mount(\"/content/gdrive\")\n",
        "stemmer = PorterStemmer()\n",
        "exclude = set(string.punctuation)\n",
        "\n",
        "data = pd.read_csv(\"gdrive/My Drive/Thesis/processed data/data_whole_woS.csv\", index_col = False)\n",
        "\n",
        "stopwords = ['a','able','across','after','also','am','among','an','and','any','are','as','at','be','because','been','but','by','can','could','dear','did','do','does','either','else','ever','every','for','from','get','got','had','has','have','he','her','hers','him','his','how','however','i','if','in','into','is','it','its','just','let','like','likely','me','my','of','off','often','on','only','or','other','our','own','rather','said','say','says','she','should','since','so','some','than','that','the','their','them','then','there','these','they','this','tis','to','too','twas','us','wants','was','we','were','what','when','where','which','while','who','whom','why','will','with','would','yet','you','your']\n",
        "\n",
        "stopwords_dict={}\n",
        "for stopword in stopwords:\n",
        "    stopwords_dict[stopword]=0\n",
        "\n",
        "def fixword(word, portstem = True):\n",
        "        word = word.replace('\\n','')\n",
        "        if re.search('[0-9]',word) != None:\n",
        "            word = '00NUMBER00' # Replace numbers with 000NUMBER000\n",
        "        try:\n",
        "            test = stopwords_dict[word]\n",
        "            word = '_' # Replace stop words with _\n",
        "        except Exception:\n",
        "            donothing = 1\n",
        "        #Variable if stemming or not\n",
        "        if portstem:\n",
        "            try:\n",
        "                word = stemmer.stem(word)  # Stemp words\n",
        "            except Exception:\n",
        "                word = ''\n",
        "        return word\n",
        "\n",
        "            \n",
        "for i, text in enumerate(data.Text):\n",
        "      print(i)\n",
        "      \n",
        "      sentences = text.split('.')\n",
        "\n",
        "      for v, sentence in enumerate(sentences):\n",
        "\n",
        "            sentences[v] = sentences[v].replace(\".\", \"\").strip()\n",
        "\n",
        "            allwords = sentences[v].split(\" \")\n",
        "\n",
        "            for w, word in enumerate(allwords):\n",
        "                allwords[w] = fixword(allwords[w], portstem=True)\n",
        "\n",
        "            sentences[v] = \" \".join(allwords)\n",
        "\n",
        "      data.Text[i] = \".\".join(sentences)\n",
        "\n",
        "with open(\"gdrive/My Drive/Thesis/processed data/data_whole_wS.csv\", \"w\") as csv_file:\n",
        "    writer = csv.writer(csv_file)\n",
        "    writer.writerow(\n",
        "        [\"Date\", \"Ticker\", \"Nasdaq\", \"Turnover\", \"Size\", \"BTM\",\n",
        "         \"pref_alpha\", \"CAR\", \"Text\", \"word_count\"])\n",
        "    for index, row in data.iterrows():\n",
        "        writer.writerow(row)\n",
        "\n",
        "\n",
        "\n",
        "            "
      ]
    },
    {
      "cell_type": "code",
      "source": [
        ""
      ],
      "metadata": {
        "id": "y_YcNPRnZgo-"
      },
      "execution_count": null,
      "outputs": []
    }
  ],
  "metadata": {
    "colab": {
      "name": "PorterStemm_words.ipynb",
      "provenance": [],
      "collapsed_sections": []
    },
    "kernelspec": {
      "display_name": "Python 3",
      "name": "python3"
    },
    "language_info": {
      "name": "python"
    }
  },
  "nbformat": 4,
  "nbformat_minor": 0
}