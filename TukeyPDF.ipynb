{
  "nbformat": 4,
  "nbformat_minor": 0,
  "metadata": {
    "colab": {
      "name": "TukeyPDF.ipynb",
      "provenance": [],
      "collapsed_sections": [],
      "authorship_tag": "ABX9TyMnhx80SGzgZQ12QD6Xk+0U",
      "include_colab_link": true
    },
    "kernelspec": {
      "name": "python3",
      "display_name": "Python 3"
    },
    "language_info": {
      "name": "python"
    }
  },
  "cells": [
    {
      "cell_type": "markdown",
      "metadata": {
        "id": "view-in-github",
        "colab_type": "text"
      },
      "source": [
        "<a href=\"https://colab.research.google.com/github/AlexH20/NLP_Sentiment_Methods/blob/main/TukeyPDF.ipynb\" target=\"_parent\"><img src=\"https://colab.research.google.com/assets/colab-badge.svg\" alt=\"Open In Colab\"/></a>"
      ]
    },
    {
      "cell_type": "code",
      "execution_count": null,
      "metadata": {
        "colab": {
          "base_uri": "https://localhost:8080/",
          "height": 295
        },
        "id": "RHYnZnbL55a9",
        "outputId": "24c9a1de-93ab-4954-9572-67e2bab80bab"
      },
      "outputs": [
        {
          "output_type": "display_data",
          "data": {
            "text/plain": [
              "<IPython.core.display.Javascript object>"
            ],
            "application/javascript": [
              "\n",
              "    async function download(id, filename, size) {\n",
              "      if (!google.colab.kernel.accessAllowed) {\n",
              "        return;\n",
              "      }\n",
              "      const div = document.createElement('div');\n",
              "      const label = document.createElement('label');\n",
              "      label.textContent = `Downloading \"${filename}\": `;\n",
              "      div.appendChild(label);\n",
              "      const progress = document.createElement('progress');\n",
              "      progress.max = size;\n",
              "      div.appendChild(progress);\n",
              "      document.body.appendChild(div);\n",
              "\n",
              "      const buffers = [];\n",
              "      let downloaded = 0;\n",
              "\n",
              "      const channel = await google.colab.kernel.comms.open(id);\n",
              "      // Send a message to notify the kernel that we're ready.\n",
              "      channel.send({})\n",
              "\n",
              "      for await (const message of channel.messages) {\n",
              "        // Send a message to notify the kernel that we're ready.\n",
              "        channel.send({})\n",
              "        if (message.buffers) {\n",
              "          for (const buffer of message.buffers) {\n",
              "            buffers.push(buffer);\n",
              "            downloaded += buffer.byteLength;\n",
              "            progress.value = downloaded;\n",
              "          }\n",
              "        }\n",
              "      }\n",
              "      const blob = new Blob(buffers, {type: 'application/binary'});\n",
              "      const a = document.createElement('a');\n",
              "      a.href = window.URL.createObjectURL(blob);\n",
              "      a.download = filename;\n",
              "      div.appendChild(a);\n",
              "      a.click();\n",
              "      div.remove();\n",
              "    }\n",
              "  "
            ]
          },
          "metadata": {}
        },
        {
          "output_type": "display_data",
          "data": {
            "text/plain": [
              "<IPython.core.display.Javascript object>"
            ],
            "application/javascript": [
              "download(\"download_ecdbba57-4892-4579-9e81-76148cd22145\", \"TukeyPDF.png\", 18612)"
            ]
          },
          "metadata": {}
        },
        {
          "output_type": "display_data",
          "data": {
            "text/plain": [
              "<Figure size 432x288 with 1 Axes>"
            ],
            "image/png": "[encoded data removed]"
          },
          "metadata": {
            "needs_background": "light"
          }
        }
      ],
      "source": [
        "import matplotlib.pyplot as plt\n",
        "import numpy as np\n",
        "import math\n",
        "from google.colab import files\n",
        "\n",
        "x = np.linspace(-3,3,2000)\n",
        "\n",
        "#specify values for g and h\n",
        "\n",
        "g1 = -0.78\n",
        "h1 = 0.06\n",
        "\n",
        "\n",
        "#specify dependent and independent variables for the parametric plot of a distribution\n",
        "T1=(1/g1)*np.exp(h1*x**2/2)*(np.exp(g1*x)-1)\n",
        "y0 = 1/np.sqrt(2*math.pi)*np.exp(-x**2/2)\n",
        "yy1 = np.exp(g1*x+h1*x**2/2)+(1/g1)*np.exp(h1*x**2/2)*(np.exp(g1*x)-1)*h1*x\n",
        "y1 = y0/yy1   \n",
        "\n",
        "\n",
        "g2 = 0.78\n",
        "h2 = 0.001\n",
        "\n",
        "T2=(1/g2)*np.exp(h2*x**2/2)*(np.exp(g2*x)-1)   \n",
        "yy2 = np.exp(g2*x+h2*x**2/2)+(1/g2)*np.exp(h2*x**2/2)*(np.exp(g2*x)-1)*h2*x\n",
        "y2 = y0/yy2  \n",
        "\n",
        "plt.plot(T1+5, y1, c = \"magenta\")\n",
        "plt.plot(T2-5,y2, c = \"orange\")\n",
        "plt.plot(x, y0, c = \"blue\")\n",
        "plt.xlabel(\"X\")\n",
        "plt.ylabel(\"Y\")\n",
        "plt.title(\"PDF of Tukey g- and h- transforms\")\n",
        "plt.xlim((-6.75,6.75))\n",
        "plt.savefig(\"TukeyPDF.png\")\n",
        "files.download(\"TukeyPDF.png\") \n",
        "\n"
      ]
    }
  ]
}